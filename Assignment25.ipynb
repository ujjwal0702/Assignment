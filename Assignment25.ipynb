{
 "cells": [
  {
   "cell_type": "markdown",
   "id": "a5b1e022-b6aa-4b11-b01d-e7f5ef5b6ed2",
   "metadata": {},
   "source": [
    "# Answer 1:"
   ]
  },
  {
   "cell_type": "code",
   "execution_count": 1,
   "id": "ec491663-576a-4e64-b948-efe60984ffd1",
   "metadata": {},
   "outputs": [],
   "source": [
    "import numpy as np\n",
    "list_=['1','2','3','4','5']\n",
    "array_list=np.array(object=list_)"
   ]
  },
  {
   "cell_type": "code",
   "execution_count": 2,
   "id": "ca92dd1f-115a-45ea-8cbe-f6dd3f0a9cfb",
   "metadata": {},
   "outputs": [
    {
     "data": {
      "text/plain": [
       "['1', '2', '3', '4', '5']"
      ]
     },
     "execution_count": 2,
     "metadata": {},
     "output_type": "execute_result"
    }
   ],
   "source": [
    "list_"
   ]
  },
  {
   "cell_type": "code",
   "execution_count": 3,
   "id": "6b7e2c4e-45bd-4acc-9a76-08626de6a00f",
   "metadata": {},
   "outputs": [
    {
     "data": {
      "text/plain": [
       "array(['1', '2', '3', '4', '5'], dtype='<U1')"
      ]
     },
     "execution_count": 3,
     "metadata": {},
     "output_type": "execute_result"
    }
   ],
   "source": [
    "array_list"
   ]
  },
  {
   "cell_type": "markdown",
   "id": "5c3bc0b3-0bf6-4091-bb8a-54b7e1c813a0",
   "metadata": {},
   "source": [
    "Yes, there is a difference between the variables list_ and array_list."
   ]
  },
  {
   "cell_type": "code",
   "execution_count": 10,
   "id": "729ebcd8-0a38-4f61-bf4c-7ed7ed2bf87b",
   "metadata": {},
   "outputs": [
    {
     "name": "stdout",
     "output_type": "stream",
     "text": [
      "<U1\n",
      "<class 'list'>\n"
     ]
    }
   ],
   "source": [
    "print(array_list.dtype)\n",
    "print(type(list_))"
   ]
  },
  {
   "cell_type": "markdown",
   "id": "1cf30560-a665-4dd3-b356-318d9e12dd87",
   "metadata": {},
   "source": [
    "# Answer 2:"
   ]
  },
  {
   "cell_type": "code",
   "execution_count": 15,
   "id": "382b5742-866b-452d-9e52-8edbfceeda52",
   "metadata": {},
   "outputs": [
    {
     "name": "stdout",
     "output_type": "stream",
     "text": [
      "<class 'str'>\n",
      "<class 'str'>\n",
      "<class 'str'>\n",
      "<class 'str'>\n",
      "<class 'str'>\n",
      "<U1\n",
      "<U1\n",
      "<U1\n",
      "<U1\n",
      "<U1\n"
     ]
    }
   ],
   "source": [
    "# code to print the data type of each element in list_\n",
    "for i  in list_:\n",
    "    print(type(i))\n",
    "\n",
    "# code to print the data type of each element in array_list\n",
    "for i in array_list:\n",
    "    print(i.dtype)"
   ]
  },
  {
   "cell_type": "markdown",
   "id": "5cc2c692-28d7-4f63-a218-cad88efe037d",
   "metadata": {},
   "source": [
    "# Answer 3:"
   ]
  },
  {
   "cell_type": "code",
   "execution_count": 16,
   "id": "81e582a1-1d20-4cf3-90bc-ffa6b56c2f71",
   "metadata": {},
   "outputs": [],
   "source": [
    "array_list = np.array(object = list_, dtype = int)"
   ]
  },
  {
   "cell_type": "markdown",
   "id": "5d2bb4a1-895a-4ded-8f2d-ffe095884a16",
   "metadata": {},
   "source": [
    "Yes there will be the difference in the array_list variable because we have given the parameter that the data type would be integer type . But there will be no change in the list_ as the data present in both of them is not swallowed data."
   ]
  },
  {
   "cell_type": "code",
   "execution_count": 20,
   "id": "121933e7-9811-4c60-aa63-7c3ffe2c9a47",
   "metadata": {},
   "outputs": [
    {
     "name": "stdout",
     "output_type": "stream",
     "text": [
      "int64\n",
      "int64\n",
      "int64\n",
      "int64\n",
      "int64\n"
     ]
    }
   ],
   "source": [
    "# datatype of elements present in array_list\n",
    "for i in array_list:\n",
    "    print(i.dtype)"
   ]
  },
  {
   "cell_type": "markdown",
   "id": "40f05240-9f8a-4500-8c05-c780219d21e3",
   "metadata": {},
   "source": [
    "# Answer 4:"
   ]
  },
  {
   "cell_type": "code",
   "execution_count": 21,
   "id": "1423db35-5123-4a13-b4a2-17a9d4fc7a35",
   "metadata": {},
   "outputs": [],
   "source": [
    "import numpy as np\n",
    "num_list = [ [ 1 , 2 , 3 ] , [ 4 , 5 , 6 ] ]\n",
    "num_array = np.array(object = num_list)"
   ]
  },
  {
   "cell_type": "markdown",
   "id": "91c965cd-3652-4be3-bf83-274246a44da7",
   "metadata": {},
   "source": [
    "(i)"
   ]
  },
  {
   "cell_type": "code",
   "execution_count": 22,
   "id": "a3b4e0e1-a3f7-4f2e-9a13-23ee57029b76",
   "metadata": {},
   "outputs": [
    {
     "data": {
      "text/plain": [
       "(2, 3)"
      ]
     },
     "execution_count": 22,
     "metadata": {},
     "output_type": "execute_result"
    }
   ],
   "source": [
    "num_array.shape"
   ]
  },
  {
   "cell_type": "markdown",
   "id": "89fe1ba4-6e07-4fb1-9255-9bec3ac4ef8e",
   "metadata": {},
   "source": [
    "(ii)"
   ]
  },
  {
   "cell_type": "code",
   "execution_count": 23,
   "id": "d0cdf6cc-c8fd-441d-9b27-c02c6e0cef38",
   "metadata": {},
   "outputs": [
    {
     "data": {
      "text/plain": [
       "6"
      ]
     },
     "execution_count": 23,
     "metadata": {},
     "output_type": "execute_result"
    }
   ],
   "source": [
    "num_array.size"
   ]
  },
  {
   "cell_type": "markdown",
   "id": "a69ac924-46b3-4520-a546-1766d52d0220",
   "metadata": {},
   "source": [
    "# Answer 5:"
   ]
  },
  {
   "cell_type": "code",
   "execution_count": 37,
   "id": "4b54e103-c2dd-42c7-a1cb-28ca8b52030f",
   "metadata": {},
   "outputs": [
    {
     "name": "stdout",
     "output_type": "stream",
     "text": [
      "[[0. 0. 0.]\n",
      " [0. 0. 0.]\n",
      " [0. 0. 0.]]\n"
     ]
    }
   ],
   "source": [
    "zero=np.zeros((3,3))\n",
    "print(zero)"
   ]
  },
  {
   "cell_type": "markdown",
   "id": "8129099d-0f92-4920-9be2-4e5c6f959dc9",
   "metadata": {},
   "source": [
    "# Answer 6:"
   ]
  },
  {
   "cell_type": "code",
   "execution_count": 38,
   "id": "ea1cae18-5793-450a-a43d-6b2eb9836e21",
   "metadata": {},
   "outputs": [
    {
     "name": "stdout",
     "output_type": "stream",
     "text": [
      "[[1. 0. 0. 0. 0.]\n",
      " [0. 1. 0. 0. 0.]\n",
      " [0. 0. 1. 0. 0.]\n",
      " [0. 0. 0. 1. 0.]\n",
      " [0. 0. 0. 0. 1.]]\n"
     ]
    }
   ],
   "source": [
    "identity=np.eye(5,5)\n",
    "print(identity)"
   ]
  },
  {
   "cell_type": "code",
   "execution_count": null,
   "id": "39396bc3-ab63-4da4-877e-3997a736dd5f",
   "metadata": {},
   "outputs": [],
   "source": []
  }
 ],
 "metadata": {
  "kernelspec": {
   "display_name": "Python 3 (ipykernel)",
   "language": "python",
   "name": "python3"
  },
  "language_info": {
   "codemirror_mode": {
    "name": "ipython",
    "version": 3
   },
   "file_extension": ".py",
   "mimetype": "text/x-python",
   "name": "python",
   "nbconvert_exporter": "python",
   "pygments_lexer": "ipython3",
   "version": "3.10.8"
  }
 },
 "nbformat": 4,
 "nbformat_minor": 5
}
