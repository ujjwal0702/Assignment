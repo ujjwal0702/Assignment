{
 "cells": [
  {
   "cell_type": "code",
   "execution_count": null,
   "id": "428031ba-5964-4193-8559-543d1f9c7c71",
   "metadata": {},
   "outputs": [],
   "source": [
    "#Answer1:\n",
    "\n",
    "#\"For\" loop is used when we know about how many iterations we have to perform or how many times a loop have o run.\n",
    "\n",
    "#Example-\n",
    "for i in range(10):\n",
    "    print(i)\n",
    "\n",
    "#\"While\" loop is used untill our required condition is not met\n",
    "\n",
    "#Example-\n",
    "j=0\n",
    "while(j<5):\n",
    "    print(j)\n",
    "    j=j+1"
   ]
  },
  {
   "cell_type": "code",
   "execution_count": null,
   "id": "66080a2d-81d0-43c8-b3f9-994df97de1a4",
   "metadata": {},
   "outputs": [],
   "source": [
    "#Answer2:\n",
    "\n",
    "# using while loop\n",
    "s=0\n",
    "i=0\n",
    "while i<11:\n",
    "    s=s+i\n",
    "    i=i+1\n",
    "print(s)\n",
    "\n",
    "# using for loop\n",
    "s=0\n",
    "for i in range(1,11):\n",
    "    s=s+i\n",
    "print(s)"
   ]
  },
  {
   "cell_type": "code",
   "execution_count": null,
   "id": "79596024-9a68-4199-bc2b-a50b6426b182",
   "metadata": {},
   "outputs": [],
   "source": [
    "#Answer3:\n",
    "\n",
    "unit=int(input(\"Enter the unit :\"))\n",
    "if unit <= 100:\n",
    "    bill = unit * 4.5\n",
    "elif unit <= 200:\n",
    "    bill = 100 * 4.5 + (unit - 100) * 6\n",
    "elif unit <= 300:\n",
    "    bill = 100 * 4.5 + 100 * 6 + (unit - 200) * 10\n",
    "else:\n",
    "    bill = 100 * 4.5 + 100 * 6 + 100 * 10 + (unit - 300) * 20\n",
    "print(\"Total bill is \",bill)"
   ]
  },
  {
   "cell_type": "code",
   "execution_count": null,
   "id": "5eff29b1-2686-4fa1-ba3b-7287ff55d9e2",
   "metadata": {},
   "outputs": [],
   "source": [
    "#Answer4:\n",
    "# through for loop \n",
    "\n",
    "n=list(range(1,101))\n",
    "l_4or5=[]\n",
    "\n",
    "for i in n:\n",
    "    c=i**3\n",
    "    if c%4==0 or c%5==0:\n",
    "        l_4or5.append(c)\n",
    "print(l_4or5)\n",
    "\n",
    "# through while loop\n",
    "\n",
    "l_4_or_5=[]\n",
    "while(i<100):\n",
    "    cube=i**3\n",
    "    if cube%4==0 or cube%5==0:\n",
    "        l_4or5.append(cube)\n",
    "print(l_4or5)"
   ]
  },
  {
   "cell_type": "code",
   "execution_count": null,
   "id": "56234df9-05ee-4b0e-95cb-3e9388b3240d",
   "metadata": {},
   "outputs": [],
   "source": [
    "#Answer5:\n",
    "# through for loop\n",
    "string=\"I want to become a data scientist\"\n",
    "count=0\n",
    "v=['a','e','i','o','u']\n",
    "for i in string:\n",
    "    if i in v:\n",
    "        count=count+1\n",
    "print(count)\n",
    "\n",
    "# through while loop\n",
    "String=\"I want to become a data scientist\"\n",
    "c=0\n",
    "i=0\n",
    "vo=['a','e','i','o','u']\n",
    "while i<len(String):\n",
    "    if String[i] in vo:\n",
    "        c=c+1\n",
    "    i=i+1\n",
    "print(c)"
   ]
  }
 ],
 "metadata": {
  "kernelspec": {
   "display_name": "Python 3 (ipykernel)",
   "language": "python",
   "name": "python3"
  },
  "language_info": {
   "codemirror_mode": {
    "name": "ipython",
    "version": 3
   },
   "file_extension": ".py",
   "mimetype": "text/x-python",
   "name": "python",
   "nbconvert_exporter": "python",
   "pygments_lexer": "ipython3",
   "version": "3.10.8"
  }
 },
 "nbformat": 4,
 "nbformat_minor": 5
}
