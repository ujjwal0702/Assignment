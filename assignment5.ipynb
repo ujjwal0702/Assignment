{
 "cells": [
  {
   "cell_type": "code",
   "execution_count": 3,
   "id": "47359ad7-4607-4013-8bf0-71d9d25e9d42",
   "metadata": {},
   "outputs": [
    {
     "name": "stdin",
     "output_type": "stream",
     "text": [
      "Enter the percentage: 57\n"
     ]
    },
    {
     "name": "stdout",
     "output_type": "stream",
     "text": [
      "D\n"
     ]
    }
   ],
   "source": [
    "#answer1:\n",
    "per=int(input(\"Enter the percentage:\"))\n",
    "if per > 90:\n",
    "    print(\"A\")\n",
    "elif per >=80 and per <= 90:\n",
    "    print(\"B\")\n",
    "elif per >=60 and per <= 80:\n",
    "    print(\"C\")\n",
    "else:\n",
    "    print(\"D\")"
   ]
  },
  {
   "cell_type": "code",
   "execution_count": 4,
   "id": "ed0715b1-3978-44ea-bc01-8f8c117d658e",
   "metadata": {},
   "outputs": [
    {
     "name": "stdin",
     "output_type": "stream",
     "text": [
      "Enter the price : 78000\n"
     ]
    },
    {
     "name": "stdout",
     "output_type": "stream",
     "text": [
      "your tax is : 7800.0\n"
     ]
    }
   ],
   "source": [
    "#answer2:\n",
    "price=int(input(\"Enter the price :\"))\n",
    "if price > 100000:\n",
    "    tax = price*0.15\n",
    "elif price >= 50000 and price <= 100000:\n",
    "    tax = price*0.1\n",
    "elif price <= 50000:\n",
    "    tax = price*0.05\n",
    "print(\"your tax is :\",tax)"
   ]
  },
  {
   "cell_type": "code",
   "execution_count": 6,
   "id": "9bff0f9e-4bd4-4eab-88a4-2e4c05dcb4b6",
   "metadata": {},
   "outputs": [
    {
     "name": "stdin",
     "output_type": "stream",
     "text": [
      "Enter the city name: delhi\n"
     ]
    },
    {
     "name": "stdout",
     "output_type": "stream",
     "text": [
      "RED FORT\n"
     ]
    }
   ],
   "source": [
    "#answer3:\n",
    "city=input(\"Enter the city name:\")\n",
    "if city.upper() == \"DELHI\":\n",
    "    print(\"RED FORT\")\n",
    "elif city.upper() == \"AGRA\":\n",
    "    print(\"TAJ MAHAL\")\n",
    "elif city.upper() == \"JAIPUR\":\n",
    "    print(\"JAL MAHAL\")"
   ]
  },
  {
   "cell_type": "code",
   "execution_count": 7,
   "id": "ae873a44-12a9-4025-bbf8-7d24e5596afe",
   "metadata": {},
   "outputs": [
    {
     "name": "stdout",
     "output_type": "stream",
     "text": [
      "0\n",
      "1\n",
      "2\n",
      "3\n",
      "4\n",
      "5\n",
      "6\n",
      "7\n",
      "8\n",
      "9\n"
     ]
    },
    {
     "data": {
      "text/plain": [
       "'In this example , while loop will run untill the a is less than 10 and when it\\nis equal to 10 it will stop.'"
      ]
     },
     "execution_count": 7,
     "metadata": {},
     "output_type": "execute_result"
    }
   ],
   "source": [
    "\"\"\"\n",
    "answer4:\n",
    "While loop is used when we don't know how many times we have to do the iteration \n",
    "it goes on till the condition is satisfied.\n",
    "\"\"\"\n",
    "a=0\n",
    "while a < 10:\n",
    "    print(a)\n",
    "    a+=1\n",
    "\"\"\"In this example , while loop will run untill the a is less than 10 and when it\n",
    "is equal to 10 it will stop.\"\"\""
   ]
  },
  {
   "cell_type": "code",
   "execution_count": 8,
   "id": "33a22992-99f5-4055-a111-bea76c784600",
   "metadata": {},
   "outputs": [
    {
     "name": "stdout",
     "output_type": "stream",
     "text": [
      "**********\n",
      "*********\n",
      "********\n",
      "*******\n",
      "******\n",
      "*****\n",
      "****\n",
      "***\n",
      "**\n",
      "*\n"
     ]
    },
    {
     "name": "stdin",
     "output_type": "stream",
     "text": [
      "Number of rows:  7\n"
     ]
    },
    {
     "name": "stdout",
     "output_type": "stream",
     "text": [
      "* * * * * * * \n",
      "  * * * * * * \n",
      "    * * * * * \n",
      "      * * * * \n",
      "        * * * \n",
      "          * * \n",
      "            * \n"
     ]
    },
    {
     "name": "stdin",
     "output_type": "stream",
     "text": [
      "Number of rows:  9\n"
     ]
    },
    {
     "name": "stdout",
     "output_type": "stream",
     "text": [
      "* * * * * * * * * * * * * * * * * \n",
      "  * * * * * * * * * * * * * * * \n",
      "    * * * * * * * * * * * * * \n",
      "      * * * * * * * * * * * \n",
      "        * * * * * * * * * \n",
      "          * * * * * * * \n",
      "            * * * * * \n",
      "              * * * \n",
      "                * \n"
     ]
    }
   ],
   "source": [
    "#answer5:\n",
    "#to print inverted triangle\n",
    "a=10\n",
    "while a >= 1:\n",
    "    j=1\n",
    "    while j <= a:\n",
    "        print(\"*\",end=\"\")\n",
    "        j=j+1\n",
    "    a=a-1\n",
    "    print()\n",
    "#to print inverted mirrored triangle\n",
    "n = int(input(\"Number of rows: \"))\n",
    "a = n\n",
    "while a >= 1:\n",
    "    b = 1\n",
    "    while b <= n - a:\n",
    "        print(\" \", end=\" \")\n",
    "        b += 1\n",
    "    b = 1\n",
    "    while b <= a:\n",
    "        print(\"*\", end=\" \")\n",
    "        b += 1\n",
    "    print()\n",
    "    a -= 1\n",
    "#program to print inverted pyramid\n",
    "n = int(input(\"Number of rows: \"))\n",
    "a = n\n",
    "while a >= 1:\n",
    "    b = 1\n",
    "    while b <= n - a:\n",
    "        print(\" \", end=\" \")\n",
    "        b += 1\n",
    "    b = 1\n",
    "    while b <= a:\n",
    "        print(\"*\", end=\" \")\n",
    "        b += 1\n",
    "    j=1\n",
    "    while j <= a-1:\n",
    "        print(\"*\",end=\" \")\n",
    "        j=j+1\n",
    "    print()\n",
    "    a -= 1"
   ]
  },
  {
   "cell_type": "code",
   "execution_count": 10,
   "id": "36311ae1-85d3-4de3-8364-97cb5ed25080",
   "metadata": {},
   "outputs": [
    {
     "name": "stdout",
     "output_type": "stream",
     "text": [
      "10\n",
      "9\n",
      "8\n",
      "7\n",
      "6\n",
      "5\n",
      "4\n",
      "3\n",
      "2\n",
      "1\n"
     ]
    }
   ],
   "source": [
    "#Answer7:\n",
    "i=10\n",
    "while i+1 > 1:\n",
    "    print(i)\n",
    "    i-=1"
   ]
  },
  {
   "cell_type": "code",
   "execution_count": 11,
   "id": "6e410a69-d335-42ad-8486-a1cfc3be2ae4",
   "metadata": {},
   "outputs": [
    {
     "name": "stdout",
     "output_type": "stream",
     "text": [
      "10\n",
      "9\n",
      "8\n",
      "7\n",
      "6\n",
      "5\n",
      "4\n",
      "3\n",
      "2\n",
      "1\n"
     ]
    }
   ],
   "source": [
    "#Answer8:\n",
    "i=10\n",
    "while i+1 > 1:\n",
    "    print(i)\n",
    "    i-=1"
   ]
  },
  {
   "cell_type": "code",
   "execution_count": null,
   "id": "2edc6f49-2c3c-4883-884b-1830b2e9002a",
   "metadata": {},
   "outputs": [],
   "source": []
  }
 ],
 "metadata": {
  "kernelspec": {
   "display_name": "Python 3 (ipykernel)",
   "language": "python",
   "name": "python3"
  },
  "language_info": {
   "codemirror_mode": {
    "name": "ipython",
    "version": 3
   },
   "file_extension": ".py",
   "mimetype": "text/x-python",
   "name": "python",
   "nbconvert_exporter": "python",
   "pygments_lexer": "ipython3",
   "version": "3.10.8"
  }
 },
 "nbformat": 4,
 "nbformat_minor": 5
}
