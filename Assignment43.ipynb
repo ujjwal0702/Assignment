{
 "cells": [
  {
   "cell_type": "markdown",
   "id": "1c9b9b3b-274b-4de4-bc6b-bcec90d9e5c9",
   "metadata": {},
   "source": [
    "# Answer 1. What is the difference between Ordinal Encoding and Label Encoding? Provide an example of when you might choose one over the other."
   ]
  },
  {
   "cell_type": "markdown",
   "id": "b6641e86-9ef7-4506-9f3e-744d7bd4f2c8",
   "metadata": {},
   "source": [
    "Ordinal encoding and label encoding are both techniques used in machine learning to represent categorical variables as numerical values. However, they are applied in different scenarios and have distinct characteristics.\n",
    "\n",
    "1. **Ordinal Encoding:**\n",
    "   - Ordinal encoding is used when there is an inherent order or ranking among the categories in a categorical variable.\n",
    "   - It assigns numerical values to categories based on their order or priority.\n",
    "   - The numerical values assigned have meaningful interpretations in terms of the order of the categories.\n",
    "   - Example: Consider a variable \"Education Level\" with categories like \"High School,\" \"Bachelor's Degree,\" \"Master's Degree,\" and \"Ph.D.\" Here, you can assign numerical values like 1, 2, 3, and 4 based on the increasing level of education."
   ]
  },
  {
   "cell_type": "code",
   "execution_count": 4,
   "id": "54f265d6-e063-414e-b1cf-e6aa8c0cb376",
   "metadata": {},
   "outputs": [
    {
     "name": "stdout",
     "output_type": "stream",
     "text": [
      "  Education Level  Education Level Encoded\n",
      "0     High School                        1\n",
      "1      Bachelor's                        2\n",
      "2        Master's                        3\n",
      "3           Ph.D.                        4\n"
     ]
    }
   ],
   "source": [
    "# Example of ordinal encoding in Python using pandas\n",
    "import pandas as pd\n",
    "\n",
    "data = {'Education Level': ['High School', 'Bachelor\\'s', 'Master\\'s', 'Ph.D.']}\n",
    "df = pd.DataFrame(data)\n",
    "\n",
    "education_order = {'High School': 1, 'Bachelor\\'s': 2, 'Master\\'s': 3, 'Ph.D.': 4}\n",
    "df['Education Level Encoded'] = df['Education Level'].map(education_order)\n",
    "\n",
    "print(df)"
   ]
  },
  {
   "cell_type": "markdown",
   "id": "3478630f-de16-490a-ac02-90b8b86098f8",
   "metadata": {},
   "source": [
    "2. **Label Encoding:**\n",
    "   - Label encoding is used when there is no intrinsic order among the categories, and the conversion is mainly for computational convenience.\n",
    "   - It assigns unique numerical labels to each category, but these numerical values don't imply any specific order or ranking.\n",
    "   - Example: Consider a variable \"Color\" with categories like \"Red,\" \"Green,\" and \"Blue.\" You can assign numerical labels like 1, 2, and 3 without implying any order."
   ]
  },
  {
   "cell_type": "code",
   "execution_count": 3,
   "id": "00198bae-9e7d-4036-b132-78ef6c77f92e",
   "metadata": {},
   "outputs": [
    {
     "name": "stdout",
     "output_type": "stream",
     "text": [
      "   Color  Color Encoded\n",
      "0    Red              2\n",
      "1  Green              1\n",
      "2   Blue              0\n"
     ]
    }
   ],
   "source": [
    "# Example of label encoding in Python using scikit-learn\n",
    "from sklearn.preprocessing import LabelEncoder\n",
    "\n",
    "data = {'Color': ['Red', 'Green', 'Blue']}\n",
    "df = pd.DataFrame(data)\n",
    "\n",
    "label_encoder = LabelEncoder()\n",
    "df['Color Encoded'] = label_encoder.fit_transform(df['Color'])\n",
    "\n",
    "print(df)"
   ]
  },
  {
   "cell_type": "markdown",
   "id": "8dd82ee5-0524-418e-968c-2811200b5c4a",
   "metadata": {},
   "source": [
    "**When to Choose One Over the Other:**\n",
    "- Choose **Ordinal Encoding** when there is a clear order or hierarchy among the categories, and this order is essential for the machine learning model to understand the variable properly. For instance, in the education level example, the order of education levels is meaningful and should be preserved.\n",
    "  \n",
    "- Choose **Label Encoding** when there is no inherent order among the categories, and you just need a numerical representation for computational purposes. For example, when encoding categorical variables like \"Gender\" or \"Color,\" where there is no natural order among the categories."
   ]
  },
  {
   "cell_type": "markdown",
   "id": "3c613286-82f0-4898-b090-8aab93ae262a",
   "metadata": {},
   "source": [
    "# Answer 2. Explain how Target Guided Ordinal Encoding works and provide an example of when you might use it in a machine learning project."
   ]
  },
  {
   "cell_type": "markdown",
   "id": "15a54844-7e29-4739-b4b9-9377f8b9ac9f",
   "metadata": {},
   "source": [
    "Target-guided ordinal encoding is a technique used to encode categorical variables based on the target variable's mean or some other measure of central tendency. This method takes advantage of the relationship between the categorical variable and the target variable, making it particularly useful in certain machine learning projects.\n",
    "\n",
    "Here's a step-by-step explanation of how target-guided ordinal encoding works:\n",
    "\n",
    "1. **Calculate the Mean (or other measure):**\n",
    "   - For each category in the categorical variable, calculate the mean of the target variable. This means you group the data by each category and compute the mean of the corresponding target variable values.\n",
    "\n",
    "2. **Order the Categories:**\n",
    "   - Order the categories based on the calculated means. The idea is to assign higher numerical values to categories associated with a higher mean of the target variable.\n",
    "\n",
    "3. **Assign Ordinal Labels:**\n",
    "   - Assign ordinal labels (integers) to the categories based on their order. The category with the highest mean gets the highest label, and so on.\n",
    "\n",
    "4. **Map Labels to the Original Data:**\n",
    "   - Map the calculated ordinal labels back to the original dataset.\n",
    "\n",
    "Here's an example using Python with the pandas library:"
   ]
  },
  {
   "cell_type": "code",
   "execution_count": 5,
   "id": "0893e2d4-112c-43c0-8e20-aa110692be9e",
   "metadata": {},
   "outputs": [
    {
     "name": "stdout",
     "output_type": "stream",
     "text": [
      "  Category  Target  Category_Encoded\n",
      "0        A       1                 0\n",
      "1        B       2                 1\n",
      "2        A       3                 0\n",
      "3        C       2                 2\n",
      "4        B       4                 1\n",
      "5        C       5                 2\n"
     ]
    }
   ],
   "source": [
    "import pandas as pd\n",
    "\n",
    "# Sample data\n",
    "data = {'Category': ['A', 'B', 'A', 'C', 'B', 'C'],\n",
    "        'Target': [1, 2, 3, 2, 4, 5]}\n",
    "\n",
    "df = pd.DataFrame(data)\n",
    "\n",
    "# Calculate mean target for each category\n",
    "mean_target = df.groupby('Category')['Target'].mean().sort_values()\n",
    "\n",
    "# Create a mapping dictionary\n",
    "category_mapping = {category: i for i, category in enumerate(mean_target.index)}\n",
    "\n",
    "# Map ordinal labels back to the original data\n",
    "df['Category_Encoded'] = df['Category'].map(category_mapping)\n",
    "\n",
    "print(df)\n"
   ]
  },
  {
   "cell_type": "markdown",
   "id": "58760dcc-05c7-43f5-80c0-27c7d6738b38",
   "metadata": {},
   "source": [
    "\n",
    "In this example, the \"Category\" variable is encoded based on the mean of the \"Target\" variable. The resulting ordinal labels reflect the order of the categories in terms of their mean target values.\n",
    "\n",
    "**When to Use Target-Guided Ordinal Encoding:**\n",
    "- Target-guided ordinal encoding is useful when there is a meaningful relationship between the categorical variable and the target variable.\n",
    "- It is commonly used in cases where the ordinal nature of the categories is not arbitrary but is influenced by the target variable.\n",
    "- This method can be particularly beneficial in predictive modeling tasks where the encoding scheme should capture the impact of each category on the target variable. For instance, in customer segmentation based on purchasing behavior, encoding product categories based on the average purchase amount could be informative for a machine learning model."
   ]
  },
  {
   "cell_type": "markdown",
   "id": "c1dd4928-3e0d-42c4-97e9-e843ee0a2458",
   "metadata": {},
   "source": [
    "# Answer 3. Define covariance and explain why it is important in statistical analysis. How is covariance calculated?"
   ]
  },
  {
   "attachments": {
    "766d120b-9194-4408-a60a-3ad85cbbf18f.png": {
     "image/png": "[encoded data removed]"
    }
   },
   "cell_type": "markdown",
   "id": "edc9942c-ecf2-4dd1-a7a1-521549e32712",
   "metadata": {},
   "source": [
    "**Covariance:**\n",
    "Covariance is a statistical measure that quantifies the degree to which two variables change together. In other words, it measures the joint variability of two random variables. If the variables tend to increase or decrease together, the covariance is positive. If one variable tends to increase while the other decreases, the covariance is negative. A covariance close to zero indicates little to no linear relationship between the variables.\n",
    "\n",
    "**Importance in Statistical Analysis:**\n",
    "Covariance is important in statistical analysis for several reasons:\n",
    "\n",
    "1. **Relationship Strength:**\n",
    "   - Covariance helps assess the strength and direction of the linear relationship between two variables. A positive covariance indicates a positive relationship, while a negative covariance indicates a negative relationship.\n",
    "\n",
    "2. **Portfolio Analysis:**\n",
    "   - In finance, covariance is used in portfolio theory to analyze the relationship between the returns of different assets. A positive covariance between assets suggests they may move in the same direction, while a negative covariance suggests they may move in opposite directions.\n",
    "\n",
    "3. **Risk and Diversification:**\n",
    "   - Covariance is crucial in risk analysis. When building an investment portfolio, it helps investors understand how different assets move in relation to each other. Diversifying a portfolio with assets that have low or negative covariances can reduce overall portfolio risk.\n",
    "\n",
    "**Calculation of Covariance:**\n",
    "The covariance between two variables, X and Y, is calculated using the following formula:\n",
    "\n",
    "![image.png](attachment:766d120b-9194-4408-a60a-3ad85cbbf18f.png)\n",
    "\n",
    "In a simplified form for a population (not a sample), you would divide by \\(n\\) instead of \\(n-1\\). The division by \\(n-1\\) in the sample formula corrects for bias in the estimation of population covariance when working with a sample of data rather than the entire population."
   ]
  },
  {
   "cell_type": "markdown",
   "id": "8db660e2-ee06-4b4c-b076-e9a88691ca8a",
   "metadata": {},
   "source": [
    "# Answer 4. For a dataset with the following categorical variables: Color (red, green, blue), Size (small, medium, large), and Material (wood, metal, plastic), perform label encoding using Python's scikit-learn library. Show your code and explain the output."
   ]
  },
  {
   "cell_type": "code",
   "execution_count": 6,
   "id": "21bc0eba-b0d5-4518-8012-27ad7032be63",
   "metadata": {},
   "outputs": [
    {
     "name": "stdout",
     "output_type": "stream",
     "text": [
      "Original DataFrame:\n",
      "   Color    Size Material\n",
      "0    red   small     wood\n",
      "1  green  medium    metal\n",
      "2   blue   large  plastic\n",
      "3    red   small     wood\n",
      "4   blue  medium    metal\n",
      "\n",
      "Encoded DataFrame:\n",
      "   Color_Encoded  Size_Encoded  Material_Encoded\n",
      "0              2             2                 2\n",
      "1              1             1                 0\n",
      "2              0             0                 1\n",
      "3              2             2                 2\n",
      "4              0             1                 0\n"
     ]
    }
   ],
   "source": [
    "from sklearn.preprocessing import LabelEncoder\n",
    "import pandas as pd\n",
    "\n",
    "# Sample dataset with categorical variables\n",
    "data = {'Color': ['red', 'green', 'blue', 'red', 'blue'],\n",
    "        'Size': ['small', 'medium', 'large', 'small', 'medium'],\n",
    "        'Material': ['wood', 'metal', 'plastic', 'wood', 'metal']}\n",
    "\n",
    "df = pd.DataFrame(data)\n",
    "\n",
    "# Initialize LabelEncoder\n",
    "label_encoder = LabelEncoder()\n",
    "\n",
    "# Apply label encoding to each categorical column\n",
    "df['Color_Encoded'] = label_encoder.fit_transform(df['Color'])\n",
    "df['Size_Encoded'] = label_encoder.fit_transform(df['Size'])\n",
    "df['Material_Encoded'] = label_encoder.fit_transform(df['Material'])\n",
    "\n",
    "# Display the original and encoded dataframe\n",
    "print(\"Original DataFrame:\")\n",
    "print(df[['Color', 'Size', 'Material']])\n",
    "print(\"\\nEncoded DataFrame:\")\n",
    "print(df[['Color_Encoded', 'Size_Encoded', 'Material_Encoded']])\n"
   ]
  },
  {
   "cell_type": "markdown",
   "id": "4412d51d-e8e8-4eea-b843-b44e0180e39b",
   "metadata": {},
   "source": [
    "# Answer 5. Calculate the covariance matrix for the following variables in a dataset: Age, Income, and Education level. Interpret the results."
   ]
  },
  {
   "cell_type": "code",
   "execution_count": 7,
   "id": "827c7e5f-ae88-4245-b2a5-cd8b92796000",
   "metadata": {},
   "outputs": [
    {
     "name": "stdout",
     "output_type": "stream",
     "text": [
      "Covariance Matrix:\n",
      "[[6.250e+01 1.125e+05 1.750e+01]\n",
      " [1.125e+05 2.550e+08 2.250e+04]\n",
      " [1.750e+01 2.250e+04 1.000e+01]]\n"
     ]
    }
   ],
   "source": [
    "import numpy as np\n",
    "import pandas as pd\n",
    "\n",
    "# Sample dataset with variables: Age, Income, and Education Level\n",
    "data = {'Age': [25, 30, 35, 40, 45],\n",
    "        'Income': [50000, 60000, 75000, 90000, 80000],\n",
    "        'Education_Level': [12, 16, 18, 14, 20]}\n",
    "\n",
    "df = pd.DataFrame(data)\n",
    "\n",
    "# Calculate the covariance matrix\n",
    "covariance_matrix = np.cov(df, rowvar=False)\n",
    "\n",
    "# Display the covariance matrix\n",
    "print(\"Covariance Matrix:\")\n",
    "print(covariance_matrix)\n"
   ]
  },
  {
   "cell_type": "markdown",
   "id": "3d9421cb-f7e0-4384-907d-1009c3ef537b",
   "metadata": {},
   "source": [
    "# Answer 6. You are working on a machine learning project with a dataset containing several categorical variables, including \"Gender\" (Male/Female), \"Education Level\" (High School/Bachelor's/Master's/PhD), and \"Employment Status\" (Unemployed/Part-Time/Full-Time). Which encoding method would you use for each variable, and why?"
   ]
  },
  {
   "cell_type": "code",
   "execution_count": 8,
   "id": "a9c37372-172f-4371-84b6-4a9941186315",
   "metadata": {},
   "outputs": [
    {
     "name": "stdout",
     "output_type": "stream",
     "text": [
      "Covariance Matrix:\n",
      "[[6.250e+01 1.125e+05 1.750e+01]\n",
      " [1.125e+05 2.550e+08 2.250e+04]\n",
      " [1.750e+01 2.250e+04 1.000e+01]]\n"
     ]
    }
   ],
   "source": [
    "import numpy as np\n",
    "import pandas as pd\n",
    "\n",
    "# Sample dataset with variables: Age, Income, and Education Level\n",
    "data = {'Age': [25, 30, 35, 40, 45],\n",
    "        'Income': [50000, 60000, 75000, 90000, 80000],\n",
    "        'Education_Level': [12, 16, 18, 14, 20]}\n",
    "\n",
    "df = pd.DataFrame(data)\n",
    "\n",
    "# Calculate the covariance matrix\n",
    "covariance_matrix = np.cov(df, rowvar=False)\n",
    "\n",
    "# Display the covariance matrix\n",
    "print(\"Covariance Matrix:\")\n",
    "print(covariance_matrix)\n"
   ]
  },
  {
   "cell_type": "markdown",
   "id": "98e85c0a-5e80-41ff-a24a-3e0c9bbdac1b",
   "metadata": {},
   "source": [
    "Interpreting the results:\n",
    "\n",
    "1. Diagonal Elements:\n",
    "\n",
    "The diagonal elements of the covariance matrix represent the variances of individual variables. For example, the element at (1,1) corresponds to the variance of Age, (2,2) corresponds to the variance of Income, and (3,3) corresponds to the variance of Education Level.\n",
    "\n",
    "2. Off-Diagonal Elements:\n",
    "\n",
    "The off-diagonal elements represent the covariances between pairs of variables. For instance, the element at (1,2) represents the covariance between Age and Income, (1,3) represents the covariance between Age and Education Level, and (2,3) represents the covariance between Income and Education Level.\n",
    "\n",
    "4. Interpretation:\n",
    "\n",
    "A positive covariance indicates a positive linear relationship between the two variables, meaning that as one variable increases, the other tends to increase as well.\n",
    "A negative covariance indicates a negative linear relationship, suggesting that as one variable increases, the other tends to decrease.\n",
    "The magnitude of the covariance is not standardized, so it can be challenging to compare covariances directly.\n",
    "\n",
    "5. Strength of Relationship:\n",
    "\n",
    "To assess the strength of the relationship between variables, it's common to standardize the covariance to obtain the correlation coefficient. The correlation coefficient provides a normalized measure of the strength and direction of the linear relationship between two variables."
   ]
  },
  {
   "cell_type": "markdown",
   "id": "987ba3d8-278f-4a54-9b02-a933d5d7c579",
   "metadata": {},
   "source": [
    "# Answer 7. You are analyzing a dataset with two continuous variables, \"Temperature\" and \"Humidity\", and two categorical variables, \"Weather Condition\" (Sunny/Cloudy/Rainy) and \"Wind Direction\" (North/South/East/West). Calculate the covariance between each pair of variables and interpret the results."
   ]
  },
  {
   "cell_type": "markdown",
   "id": "297b2c59-d4c1-4cee-847a-3f4e6a486bad",
   "metadata": {},
   "source": [
    "To calculate the covariance between pairs of variables (Temperature and Humidity) and (Temperature and Humidity) in the presence of categorical variables (Weather Condition and Wind Direction), you need to perform separate analyses for the continuous and categorical variables.\n",
    "\n",
    "Here's a step-by-step approach:\n",
    "\n",
    "1. Continuous Variables (Temperature and Humidity):"
   ]
  },
  {
   "cell_type": "code",
   "execution_count": 9,
   "id": "94f80ee0-6c90-4e86-a642-ffa78354a56b",
   "metadata": {},
   "outputs": [
    {
     "name": "stdout",
     "output_type": "stream",
     "text": [
      "Covariance Matrix for Continuous Variables:\n",
      "[[62.5 62.5]\n",
      " [62.5 62.5]]\n"
     ]
    }
   ],
   "source": [
    "import numpy as np\n",
    "import pandas as pd\n",
    "\n",
    "# Sample dataset with variables: Temperature, Humidity, Weather Condition, Wind Direction\n",
    "data = {'Temperature': [25, 30, 35, 40, 45],\n",
    "        'Humidity': [60, 65, 70, 75, 80],\n",
    "        'Weather Condition': ['Sunny', 'Cloudy', 'Rainy', 'Sunny', 'Rainy'],\n",
    "        'Wind Direction': ['North', 'South', 'East', 'West', 'North']}\n",
    "\n",
    "df_continuous = pd.DataFrame(data, columns=['Temperature', 'Humidity'])\n",
    "\n",
    "# Calculate the covariance matrix for continuous variables\n",
    "covariance_matrix_continuous = np.cov(df_continuous, rowvar=False)\n",
    "\n",
    "# Display the covariance matrix for continuous variables\n",
    "print(\"Covariance Matrix for Continuous Variables:\")\n",
    "print(covariance_matrix_continuous)\n"
   ]
  },
  {
   "cell_type": "markdown",
   "id": "77945885-28a7-45f9-9f3a-6baeac178daf",
   "metadata": {},
   "source": [
    "2. Categorical Variables (Weather Condition and Wind Direction):\n",
    "Since covariance is not directly applicable to categorical variables, we will perform a frequency analysis or use other appropriate measures for categorical variables."
   ]
  },
  {
   "cell_type": "code",
   "execution_count": 11,
   "id": "1e018f6c-af85-4593-a902-a71661632c85",
   "metadata": {},
   "outputs": [
    {
     "name": "stdout",
     "output_type": "stream",
     "text": [
      "Covariance Matrix for Continuous Variables:\n",
      "[[62.5 62.5]\n",
      " [62.5 62.5]]\n",
      "\n",
      "Contingency Table for Weather Condition and Wind Direction:\n",
      "Wind Direction     East  North  South  West\n",
      "Weather Condition                          \n",
      "Cloudy                0      0      1     0\n",
      "Rainy                 1      1      0     0\n",
      "Sunny                 0      1      0     1\n",
      "\n",
      "Contingency Table for Wind Direction and Weather Condition:\n",
      "Weather Condition  Cloudy  Rainy  Sunny\n",
      "Wind Direction                         \n",
      "East                    0      1      0\n",
      "North                   0      1      1\n",
      "South                   1      0      0\n",
      "West                    0      0      1\n"
     ]
    }
   ],
   "source": [
    "import numpy as np\n",
    "import pandas as pd\n",
    "\n",
    "# Sample dataset with variables: Temperature, Humidity, Weather Condition, Wind Direction\n",
    "data = {'Temperature': [25, 30, 35, 40, 45],\n",
    "        'Humidity': [60, 65, 70, 75, 80],\n",
    "        'Weather Condition': ['Sunny', 'Cloudy', 'Rainy', 'Sunny', 'Rainy'],\n",
    "        'Wind Direction': ['North', 'South', 'East', 'West', 'North']}\n",
    "\n",
    "df = pd.DataFrame(data)\n",
    "\n",
    "# Continuous variables: Temperature and Humidity\n",
    "df_continuous = df[['Temperature', 'Humidity']]\n",
    "\n",
    "# Categorical variables: Weather Condition and Wind Direction\n",
    "df_categorical = df[['Weather Condition', 'Wind Direction']]\n",
    "\n",
    "# Calculate the covariance matrix for continuous variables\n",
    "covariance_matrix_continuous = np.cov(df_continuous, rowvar=False)\n",
    "\n",
    "# Display the covariance matrix for continuous variables\n",
    "print(\"Covariance Matrix for Continuous Variables:\")\n",
    "print(covariance_matrix_continuous)\n",
    "\n",
    "# Create contingency tables for categorical variables\n",
    "contingency_table_weather = pd.crosstab(df_categorical['Weather Condition'], df_categorical['Wind Direction'])\n",
    "contingency_table_wind = pd.crosstab(df_categorical['Wind Direction'], df_categorical['Weather Condition'])\n",
    "\n",
    "# Display the contingency tables\n",
    "print(\"\\nContingency Table for Weather Condition and Wind Direction:\")\n",
    "print(contingency_table_weather)\n",
    "print(\"\\nContingency Table for Wind Direction and Weather Condition:\")\n",
    "print(contingency_table_wind)\n"
   ]
  },
  {
   "cell_type": "markdown",
   "id": "ae23e784-6cb9-4f59-ba0a-106b987d9217",
   "metadata": {},
   "source": [
    "Interpretation:\n",
    "Continuous Variables (Temperature and Humidity):\n",
    "1. Diagonal Elements:\n",
    "\n",
    "The diagonal elements represent the variances of individual variables (Temperature and Humidity).\n",
    "\n",
    "2. Off-Diagonal Element (1,2):\n",
    "\n",
    "The element at (1,2) represents the covariance between Temperature and Humidity.\n",
    "Categorical Variables (Weather Condition and Wind Direction):\n",
    "\n",
    "3. Contingency Tables:\n",
    "\n",
    "The contingency tables show the frequency distribution of combinations of categorical variables.\n",
    " \n",
    "4. Analysis:\n",
    "\n",
    "Analyzing the contingency tables, you can observe how the frequency of Weather Condition and Wind Direction combinations is distributed.\n",
    "\n",
    "5. Interpretation:\n",
    "\n",
    "The contingency tables help understand the joint distribution of categorical variables, providing insights into the relationships between different categories.\n",
    "It's important to note that covariance is most meaningful and interpretable for continuous variables. For categorical variables, other measures like chi-square tests, Cramer's V, or measures of association may be more appropriate for assessing relationships."
   ]
  },
  {
   "cell_type": "code",
   "execution_count": null,
   "id": "92f11611-2386-4163-a4c9-52d5e94e5ed0",
   "metadata": {},
   "outputs": [],
   "source": []
  }
 ],
 "metadata": {
  "kernelspec": {
   "display_name": "Python 3 (ipykernel)",
   "language": "python",
   "name": "python3"
  },
  "language_info": {
   "codemirror_mode": {
    "name": "ipython",
    "version": 3
   },
   "file_extension": ".py",
   "mimetype": "text/x-python",
   "name": "python",
   "nbconvert_exporter": "python",
   "pygments_lexer": "ipython3",
   "version": "3.10.8"
  }
 },
 "nbformat": 4,
 "nbformat_minor": 5
}
