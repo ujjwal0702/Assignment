{
 "cells": [
  {
   "cell_type": "markdown",
   "id": "1070fcb9-3e6e-44aa-92c4-820348c7e5ed",
   "metadata": {},
   "source": [
    "#answer1:\n",
    "Python was developed by Guido Van Rossum in 1991."
   ]
  },
  {
   "cell_type": "markdown",
   "id": "0c88fbe5-e2bd-4203-9f2e-2314dee72b0f",
   "metadata": {},
   "source": [
    "#answer2:\n",
    "Python is a general-purpose, object-oriented, interpreted programming language"
   ]
  },
  {
   "cell_type": "markdown",
   "id": "567495e6-1287-497d-ae56-39e192bef64a",
   "metadata": {},
   "source": [
    "#answer3:\n",
    "Yes, python is case-sensitive."
   ]
  },
  {
   "cell_type": "markdown",
   "id": "2d32fe42-77d2-43c6-a45c-11a2e988b0b8",
   "metadata": {},
   "source": [
    "#answer4:\n",
    "Extension python file is .py"
   ]
  },
  {
   "cell_type": "markdown",
   "id": "24381b51-6059-4f78-a920-7e08a4da30bb",
   "metadata": {},
   "source": [
    "#answer5:\n",
    "Python code is interpreted"
   ]
  },
  {
   "cell_type": "markdown",
   "id": "82c7aadc-7f80-4112-87fa-dd958d2f71af",
   "metadata": {},
   "source": [
    "#answer6:\n",
    "There are various kind of block in python\n",
    "1. Function Block\n",
    "2. Class Block\n",
    "3. Conditional Block\n",
    "4. Loop Block"
   ]
  },
  {
   "cell_type": "markdown",
   "id": "4300a891-4cd1-47d8-9f44-4b69d0717db5",
   "metadata": {},
   "source": [
    "#answer7:\n",
    "\"#\" character is used to give single line comments"
   ]
  },
  {
   "cell_type": "markdown",
   "id": "28d5845f-91a6-43ea-85bf-a8e36b3c99e3",
   "metadata": {},
   "source": [
    "#answer8:\n",
    "we can use the \"sys\" module to find out the version of python \n",
    "Syntax:\n",
    "import sys\n",
    "\n",
    "print(\"Python version\")\n",
    "print(sys.version)\n",
    "print(\"Version info.\")\n",
    "print(sys.version_info)"
   ]
  },
  {
   "cell_type": "markdown",
   "id": "56c8959b-4b9f-4884-a066-c1ce2c999ac1",
   "metadata": {},
   "source": [
    "#answer9:\n",
    "lambda function"
   ]
  },
  {
   "cell_type": "markdown",
   "id": "f790cdc5-37b3-4792-953c-123310faa3c1",
   "metadata": {},
   "source": [
    "#answer10:\n",
    "pip stands for \"python install package\""
   ]
  },
  {
   "cell_type": "markdown",
   "id": "bc238c87-c807-4bce-a7fa-8ef16716d21d",
   "metadata": {},
   "source": [
    "#answer11:\n",
    "Built in functions are:\n",
    "print() - It prints the specified message or variable to the console\n",
    "input() - It reads a line of text from the console and returns it as a string\n",
    "len() - It returns the number of items in an object, such as a string, list, or tuple\n",
    "str() - It converts an object to a string\n",
    "int() - It converts an object to an integer\n",
    "float() - It converts an object to a floating-point number\n",
    "range() - It generates a sequence of numbers\n",
    "type() - It returns the type of an object"
   ]
  },
  {
   "cell_type": "markdown",
   "id": "98d7b339-21ab-489b-bc03-5caf8bd437a1",
   "metadata": {},
   "source": [
    "#answer12:\n",
    "In python the identifier's maximum possible length would be 79 characters."
   ]
  },
  {
   "cell_type": "markdown",
   "id": "31d33f31-10f4-42b1-8bc0-97152241d067",
   "metadata": {},
   "source": [
    "#answer13:\n",
    "Benefits of using python are:\n",
    "1. Python is easy to learn and use\n",
    "2. Python has a huge community of developers and users, which means that there is a lot of support available online.\n",
    "3. Python can run on multiple platforms, including Windows, macOS, Linux, and many others.\n",
    "4. Python comes with a large standard library that includes modules for many common programming tasks, such as working with files, networking, and data processing.\n",
    "5. Python has a vast ecosystem of third-party packages and libraries that can be easily installed using the pip package manager.\n",
    "6.  Python has become the language of choice for data analysis and scientific computing, thanks to its powerful libraries such as NumPy, Pandas, and Matplotlib."
   ]
  },
  {
   "cell_type": "markdown",
   "id": "f5e2a34c-4eed-4c61-aa65-d0a1ed42d533",
   "metadata": {},
   "source": [
    "#answer14:\n",
    "Memory management in python is done directly by the interpreter and the process in python for memory management is known as garbage collection. "
   ]
  },
  {
   "cell_type": "markdown",
   "id": "27887d27-f742-4f15-907a-e6cd7ad4cacd",
   "metadata": {},
   "source": [
    "#answer15:\n",
    "steps to download the python are listed below:\n",
    "\n",
    "1.Python can be downloaded here: Go to the official Python website at https://www.python.org/downloads/ and download the most recent version of Python for Windows.\n",
    "\n",
    "2.Launch the Python installer: Once the download is complete, launch the Python installer. The installer will walk you through the installation procedure, including selecting the installation location and optional components.\n",
    "\n",
    "3.Set the path variables: Once Python has been installed, you must set the path variables so that you may execute Python from the command line. Here's how to go about it:\n",
    "\n",
    "a. Go to the Start menu and type \"Environment Variables\" into the search bar.\n",
    "b. Select \"Edit the system environment variables\" from the menu.\n",
    "c. At the bottom of the \"Advanced\" page, click the \"Environment Variables\" button.\n",
    "d. Scroll down to \"System Variables\" and look for the \"Path\" variable. Click the \"Edit\" button.\n",
    "e. Select \"New\" and enter the Python installation directory path. This is how the path should look: C:Python39 (or whatever Python version you have installed).\n",
    "f. Press the \"OK\" button to save the changes.\n",
    "\n",
    "4.Check the installation: To ensure that Python is properly installed, open a new command prompt window and execute python --version. If the installation was successful, the Python version number should be displayed on the screen."
   ]
  },
  {
   "cell_type": "markdown",
   "id": "eb041147-9fde-4449-bed3-2d3afed9bf26",
   "metadata": {},
   "source": [
    "#answer16:\n",
    "Yes, indentation are required in python"
   ]
  }
 ],
 "metadata": {
  "kernelspec": {
   "display_name": "Python 3 (ipykernel)",
   "language": "python",
   "name": "python3"
  },
  "language_info": {
   "codemirror_mode": {
    "name": "ipython",
    "version": 3
   },
   "file_extension": ".py",
   "mimetype": "text/x-python",
   "name": "python",
   "nbconvert_exporter": "python",
   "pygments_lexer": "ipython3",
   "version": "3.10.8"
  }
 },
 "nbformat": 4,
 "nbformat_minor": 5
}
