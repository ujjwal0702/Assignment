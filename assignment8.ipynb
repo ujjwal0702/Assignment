{
 "cells": [
  {
   "cell_type": "raw",
   "id": "bcb1b375-37cc-4f7e-a4cb-fcc63fa625dc",
   "metadata": {},
   "source": [
    "#answer1:\n",
    "Python was developed by Guido Van Rossum in 1991."
   ]
  },
  {
   "cell_type": "raw",
   "id": "9ef24ab4-bab0-47d7-938d-282fa7b40bfd",
   "metadata": {},
   "source": [
    "#answer2:\n",
    "Python is a general-purpose, object-oriented, interpreted programming language"
   ]
  },
  {
   "cell_type": "raw",
   "id": "bdf89a4e-1f45-48de-b331-8d84c4097eed",
   "metadata": {},
   "source": [
    "#answer3:\n",
    "Yes, python is case-sensitive."
   ]
  },
  {
   "cell_type": "raw",
   "id": "cc6e08e0-59a2-4514-bd4d-1a8c322b3b87",
   "metadata": {},
   "source": [
    "#answer4:\n",
    "Extension python file is .py"
   ]
  },
  {
   "cell_type": "raw",
   "id": "63d21314-1804-4ff2-a65f-42037a3aa883",
   "metadata": {},
   "source": [
    "#answer5:\n",
    "Python code is interpreted"
   ]
  },
  {
   "cell_type": "raw",
   "id": "b9d82a49-fa64-44ff-aba5-fc126fc7d662",
   "metadata": {},
   "source": [
    "#answer6:\n",
    "There are various kind of block in python\n",
    "1. Function Block\n",
    "2. Class Block\n",
    "3. Conditional Block\n",
    "4. Loop Block"
   ]
  },
  {
   "cell_type": "raw",
   "id": "9c9a577b-79f0-4339-938e-4fba1b35864a",
   "metadata": {},
   "source": [
    "#answer7:\n",
    "\"#\" character is used to give single line comments"
   ]
  },
  {
   "cell_type": "raw",
   "id": "116e8cfa-c833-46b0-a77a-8ac19d0dd81e",
   "metadata": {},
   "source": [
    "#answer8:\n",
    "we can use the \"sys\" module to find out the version of python \n",
    "Syntax:\n",
    "import sys\n",
    "\n",
    "print(\"Python version\")\n",
    "print(sys.version)\n",
    "print(\"Version info.\")\n",
    "print(sys.version_info)"
   ]
  },
  {
   "cell_type": "raw",
   "id": "7eb614b7-3402-4de3-a717-90d1d16cef86",
   "metadata": {},
   "source": [
    "#answer9:\n",
    "lambda function"
   ]
  },
  {
   "cell_type": "raw",
   "id": "c694a3d9-cec7-4b81-a4f4-f9676840b534",
   "metadata": {},
   "source": [
    "#answer10:\n",
    "pip stands for \"python install package\""
   ]
  },
  {
   "cell_type": "raw",
   "id": "2853cb9f-0fe4-4303-9fd5-c77e56393987",
   "metadata": {},
   "source": [
    "#answer11:\n",
    "Built in functions are:\n",
    "print() - It prints the specified message or variable to the console\n",
    "input() - It reads a line of text from the console and returns it as a string\n",
    "len() - It returns the number of items in an object, such as a string, list, or tuple\n",
    "str() - It converts an object to a string\n",
    "int() - It converts an object to an integer\n",
    "float() - It converts an object to a floating-point number\n",
    "range() - It generates a sequence of numbers\n",
    "type() - It returns the type of an object"
   ]
  },
  {
   "cell_type": "raw",
   "id": "9248cfe1-0105-4cea-ad6a-851075edefb8",
   "metadata": {},
   "source": [
    "#answer12:\n",
    "In python the identifier's maximum possible length would be 79 characters."
   ]
  },
  {
   "cell_type": "raw",
   "id": "416d1626-5f46-4c8a-9704-61f6ecea4970",
   "metadata": {},
   "source": [
    "#answer13:\n",
    "Benefits of using python are:\n",
    "1. Python is easy to learn and use\n",
    "2. Python has a huge community of developers and users, which means that there is a lot of support available online.\n",
    "3. Python can run on multiple platforms, including Windows, macOS, Linux, and many others.\n",
    "4. Python comes with a large standard library that includes modules for many common programming tasks, such as working with files, networking, and data processing.\n",
    "5. Python has a vast ecosystem of third-party packages and libraries that can be easily installed using the pip package manager.\n",
    "6.  Python has become the language of choice for data analysis and scientific computing, thanks to its powerful libraries such as NumPy, Pandas, and Matplotlib."
   ]
  },
  {
   "cell_type": "raw",
   "id": "bf14e152-bab4-4091-8ca3-30ff4c70c608",
   "metadata": {},
   "source": [
    "#answer14:\n",
    "Memory management in python is done directly by the interpreter and the process in python for memory management is known as garbage collection. "
   ]
  },
  {
   "cell_type": "raw",
   "id": "037bdf93-97c2-4529-b343-39d98abb4eb2",
   "metadata": {},
   "source": [
    "#answer15:\n",
    "steps to download the python are listed below:\n",
    "\n",
    "1.Python can be downloaded here: Go to the official Python website at https://www.python.org/downloads/ and download the most recent version of Python for Windows.\n",
    "\n",
    "2.Launch the Python installer: Once the download is complete, launch the Python installer. The installer will walk you through the installation procedure, including selecting the installation location and optional components.\n",
    "\n",
    "3.Set the path variables: Once Python has been installed, you must set the path variables so that you may execute Python from the command line. Here's how to go about it:\n",
    "\n",
    "a. Go to the Start menu and type \"Environment Variables\" into the search bar.\n",
    "b. Select \"Edit the system environment variables\" from the menu.\n",
    "c. At the bottom of the \"Advanced\" page, click the \"Environment Variables\" button.\n",
    "d. Scroll down to \"System Variables\" and look for the \"Path\" variable. Click the \"Edit\" button.\n",
    "e. Select \"New\" and enter the Python installation directory path. This is how the path should look: C:Python39 (or whatever Python version you have installed).\n",
    "f. Press the \"OK\" button to save the changes.\n",
    "\n",
    "4.Check the installation: To ensure that Python is properly installed, open a new command prompt window and execute python --version. If the installation was successful, the Python version number should be displayed on the screen."
   ]
  },
  {
   "cell_type": "raw",
   "id": "0d22079c-47c6-4c4c-a86d-fb8b7a9cb728",
   "metadata": {},
   "source": [
    "#answer16:\n",
    "Yes, indentation are required in python"
   ]
  }
 ],
 "metadata": {
  "kernelspec": {
   "display_name": "Python 3 (ipykernel)",
   "language": "python",
   "name": "python3"
  },
  "language_info": {
   "codemirror_mode": {
    "name": "ipython",
    "version": 3
   },
   "file_extension": ".py",
   "mimetype": "text/x-python",
   "name": "python",
   "nbconvert_exporter": "python",
   "pygments_lexer": "ipython3",
   "version": "3.10.8"
  }
 },
 "nbformat": 4,
 "nbformat_minor": 5
}
