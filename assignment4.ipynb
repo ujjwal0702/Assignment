{
 "cells": [
  {
   "cell_type": "code",
   "execution_count": 6,
   "id": "da0b9e5b-03d1-4ffd-8777-56e0d2ff5879",
   "metadata": {},
   "outputs": [
    {
     "name": "stdout",
     "output_type": "stream",
     "text": [
      "736847632\n"
     ]
    }
   ],
   "source": [
    "\"\"\"answer1:\n",
    "Class is a blueprint or structure or skeleton for the object creation which is an\n",
    "illustration of the class.In this class we define the attribute or function or the \n",
    "method that object will use. To create a class we use the \"class keyword\".\n",
    "The syntax to declare the class is:\n",
    "class <class-name>:\n",
    "for example-\"\"\"\n",
    "class class1:               #class is defined\n",
    "    def __init__(c,st_name,p_no,st_mail):\n",
    "        c.st_name=st_name\n",
    "        c.p_no=p_no\n",
    "        c.st_mail=st_mail\n",
    "ujjwal=class1(\"ujjwal\",736847632,\"ujjwal@gmail.com\") #object created\n",
    "print(ujjwal.p_no)"
   ]
  },
  {
   "cell_type": "code",
   "execution_count": 7,
   "id": "e2c94ab3-6370-454c-b7b4-f3f92b18e57a",
   "metadata": {},
   "outputs": [
    {
     "data": {
      "text/plain": [
       "'Answer2:\\nFour pillars of OOPs are:\\n1. Inheritance\\n2. Polymorphism\\n3. Encapsulation\\n4. Abstraction'"
      ]
     },
     "execution_count": 7,
     "metadata": {},
     "output_type": "execute_result"
    }
   ],
   "source": [
    "\"\"\"Answer2:\n",
    "Four pillars of OOPs are:\n",
    "1. Inheritance\n",
    "2. Polymorphism\n",
    "3. Encapsulation\n",
    "4. Abstraction\"\"\""
   ]
  },
  {
   "cell_type": "code",
   "execution_count": 8,
   "id": "21e35355-8aab-4f1f-abda-9f4651f0a0cc",
   "metadata": {},
   "outputs": [
    {
     "name": "stdout",
     "output_type": "stream",
     "text": [
      "ujjwal\n"
     ]
    }
   ],
   "source": [
    "\"\"\"\n",
    "answer3: \n",
    "__init__() function is used to initialize  within the class so that it\n",
    "can accept the value or attribute for the object that is created.It is also known \n",
    "as constructor.\n",
    "\"\"\"\n",
    "#for example:\n",
    "class me:\n",
    "    def __init__(self,name,p_no):\n",
    "        self.name=name\n",
    "        self.p_no=p_no\n",
    "a=me(\"ujjwal\",86765775)\n",
    "print(a.name)"
   ]
  },
  {
   "cell_type": "code",
   "execution_count": 9,
   "id": "d5c90824-9412-4d6e-8b11-a955bde09a8d",
   "metadata": {},
   "outputs": [
    {
     "data": {
      "text/plain": [
       "'\\nAnswer4:\\nself is used to bind or access the attribute,function,method with the class \\n'"
      ]
     },
     "execution_count": 9,
     "metadata": {},
     "output_type": "execute_result"
    }
   ],
   "source": [
    "\"\"\"\n",
    "Answer4:\n",
    "self is used to bind or access the attribute,function,method with the class \n",
    "\"\"\""
   ]
  },
  {
   "cell_type": "code",
   "execution_count": 5,
   "id": "577071d1-5b1e-4ae4-989b-0208af0410e2",
   "metadata": {},
   "outputs": [
    {
     "name": "stdout",
     "output_type": "stream",
     "text": [
      "This function is in parent class.\n",
      "This function is in child class.\n",
      "Father : RAM\n",
      "Mother : SITA\n",
      "surendra\n",
      "Grandfather name : surendra\n",
      "Father name : sunil\n",
      "Son name : ujjwal\n",
      "This function is in parent class.\n",
      "This function is in child 1.\n",
      "This function is in parent class.\n",
      "This function is in child 2.\n"
     ]
    }
   ],
   "source": [
    "\"\"\"\n",
    "Answer5:\n",
    "Inheritance can be defined as inheriting the property of one class to another \n",
    "there are four types of inheritance.\n",
    "1.Single inheritance\n",
    "2.Muliple inheritance\n",
    "3.Multilevel inhertance\n",
    "4.Hierarchical inheritance\n",
    "\"\"\"\n",
    "#single inheritance\n",
    "class Parent:\n",
    "    def func1(self):\n",
    "        print(\"This function is in parent class.\")\n",
    "class Child(Parent):\n",
    "    def func2(self):\n",
    "        print(\"This function is in child class.\")\n",
    "object = Child()\n",
    "object.func1()\n",
    "object.func2()\n",
    "\n",
    "#mulitple inheritance\n",
    "class Mother:\n",
    "    mothername = \"\"\n",
    "    def mother(self):\n",
    "        print(self.mothername)\n",
    "class Father:\n",
    "    fathername = \"\"\n",
    "    def father(self):\n",
    "        print(self.fathername)\n",
    "class Son(Mother, Father):\n",
    "    def parents(self):\n",
    "        print(\"Father :\", self.fathername)\n",
    "        print(\"Mother :\", self.mothername)\n",
    "s1 = Son()\n",
    "s1.fathername = \"RAM\"\n",
    "s1.mothername = \"SITA\"\n",
    "s1.parents()\n",
    "\n",
    "\n",
    "#multilevel inheritance\n",
    "class Grandfather:\n",
    "    def __init__(self, grandfathername):\n",
    "        self.grandfathername = grandfathername\n",
    "class Father(Grandfather):\n",
    "    def __init__(self, fathername, grandfathername):\n",
    "        self.fathername = fathername\n",
    "        Grandfather.__init__(self, grandfathername)\n",
    "class Son(Father):\n",
    "    def __init__(self, sonname, fathername, grandfathername):\n",
    "        self.sonname = sonname\n",
    "        Father.__init__(self, fathername, grandfathername)\n",
    "    def print_name(self):\n",
    "        print('Grandfather name :', self.grandfathername)\n",
    "        print(\"Father name :\", self.fathername)\n",
    "        print(\"Son name :\", self.sonname)\n",
    "s1 = Son('ujjwal', 'sunil', 'surendra')\n",
    "print(s1.grandfathername)\n",
    "s1.print_name()\n",
    "\n",
    "#hierachical inheritance\n",
    "class Parent:\n",
    "    def func1(self):\n",
    "        print(\"This function is in parent class.\")\n",
    "class Child1(Parent):\n",
    "    def func2(self):\n",
    "        print(\"This function is in child 1.\")\n",
    "class Child2(Parent):\n",
    "    def func3(self):\n",
    "        print(\"This function is in child 2.\")\n",
    "object1 = Child1()\n",
    "object2 = Child2()\n",
    "object1.func1()\n",
    "object1.func2()\n",
    "object2.func1()\n",
    "object2.func3()"
   ]
  },
  {
   "cell_type": "code",
   "execution_count": null,
   "id": "cdc7041a-b844-41a5-a856-d779e87ae0de",
   "metadata": {},
   "outputs": [],
   "source": []
  }
 ],
 "metadata": {
  "kernelspec": {
   "display_name": "Python 3 (ipykernel)",
   "language": "python",
   "name": "python3"
  },
  "language_info": {
   "codemirror_mode": {
    "name": "ipython",
    "version": 3
   },
   "file_extension": ".py",
   "mimetype": "text/x-python",
   "name": "python",
   "nbconvert_exporter": "python",
   "pygments_lexer": "ipython3",
   "version": "3.10.8"
  }
 },
 "nbformat": 4,
 "nbformat_minor": 5
}
