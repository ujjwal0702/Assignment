{
 "cells": [
  {
   "cell_type": "code",
   "execution_count": 7,
   "id": "3e4bdafa-7dce-44f1-85ac-e25be8bfe86a",
   "metadata": {},
   "outputs": [
    {
     "data": {
      "text/plain": [
       "[1, 3, 5, 7, 9, 11, 13, 15, 17, 19, 21, 23, 25]"
      ]
     },
     "execution_count": 7,
     "metadata": {},
     "output_type": "execute_result"
    }
   ],
   "source": [
    "#Answer1 def keyword is used to create a function\n",
    "def odd():\n",
    "    l1=[]\n",
    "    for i in range(0,26):\n",
    "        if i%2 != 0:\n",
    "            l1.append(i)\n",
    "    return l1\n",
    "odd()"
   ]
  },
  {
   "cell_type": "code",
   "execution_count": 22,
   "id": "776d48fc-a0e9-4a10-bf3b-5d683f601aff",
   "metadata": {},
   "outputs": [
    {
     "data": {
      "text/plain": [
       "['a', 'b', 'c', 'd']"
      ]
     },
     "execution_count": 22,
     "metadata": {},
     "output_type": "execute_result"
    }
   ],
   "source": [
    "\"\"\"Answer2 *args is to take n number of arguments in the function and return the \n",
    "list of that function whereas **kwargs is used to take n number of arguments and \n",
    "return it in the form of dictionary\"\"\"\n",
    "# eg of *args\n",
    "def f1(*args):\n",
    "    return args,sum(args)\n",
    "f1(7,7,8,9)\n",
    "# eg of **kwargs\n",
    "def f2(**kwargs):\n",
    "    return kwargs\n",
    "list(f2(a=\"ujjwal\",b=1,c=67,d=[1,3.3,\"srivastava\"]))"
   ]
  },
  {
   "cell_type": "code",
   "execution_count": 26,
   "id": "720afcad-39d7-498d-9cc4-7156312208b6",
   "metadata": {},
   "outputs": [
    {
     "name": "stdout",
     "output_type": "stream",
     "text": [
      "2\n",
      "4\n",
      "6\n",
      "8\n",
      "10\n"
     ]
    }
   ],
   "source": [
    "\"\"\"Answer3: Iterator in python is something in which we can move to the next step\n",
    "or move the pointer to the next, we use iter() function is used create an iterator \n",
    "and it can only be created if the variable is iterable.\"\"\"\n",
    "s=[2,4,6,8,10,12,14,16,18,20]\n",
    "a=iter(s)\n",
    "for i in range(5):\n",
    "    print(next(a))"
   ]
  },
  {
   "cell_type": "code",
   "execution_count": 58,
   "id": "2dbf9aae-b35b-42bd-a328-fc1660165ea0",
   "metadata": {},
   "outputs": [
    {
     "name": "stdout",
     "output_type": "stream",
     "text": [
      "0\n",
      "1\n",
      "1\n",
      "2\n",
      "3\n",
      "5\n",
      "8\n",
      "13\n",
      "21\n",
      "34\n"
     ]
    }
   ],
   "source": [
    "#answer4:\n",
    "\"\"\"A generator is a function which returns the value which can be iterated.\n",
    "Yield keyword is used to define generator function\"\"\"\n",
    "def test_fib(n):\n",
    "    a,b=0,1\n",
    "    for i in range(n):\n",
    "        yield a #yield is used as generator function\n",
    "        a,b=b,a+b\n",
    "for i in test_fib(10):\n",
    "    print(i)"
   ]
  },
  {
   "cell_type": "code",
   "execution_count": 49,
   "id": "49aa5a4a-72ad-4852-b1c8-04858699bfd7",
   "metadata": {},
   "outputs": [
    {
     "name": "stdout",
     "output_type": "stream",
     "text": [
      "2\n",
      "3\n",
      "5\n",
      "7\n",
      "11\n",
      "13\n",
      "17\n",
      "19\n",
      "23\n",
      "29\n",
      "31\n",
      "37\n",
      "41\n",
      "43\n",
      "47\n",
      "53\n",
      "59\n",
      "61\n",
      "67\n",
      "71\n"
     ]
    }
   ],
   "source": [
    "#answer5:\n",
    "def gen():\n",
    "    for i in range(2,1000):\n",
    "        for j in range(2, i):\n",
    "            if i%j == 0:\n",
    "                break\n",
    "        else:\n",
    "            yield i\n",
    "a = gen()\n",
    "for i in range(20):\n",
    "    print(next(a))"
   ]
  },
  {
   "cell_type": "code",
   "execution_count": 24,
   "id": "367f1fb4-b03b-402e-9918-dbc7f02e4081",
   "metadata": {},
   "outputs": [
    {
     "name": "stdout",
     "output_type": "stream",
     "text": [
      "0\n",
      "1\n",
      "1\n",
      "2\n",
      "3\n",
      "5\n",
      "8\n",
      "13\n",
      "21\n",
      "34\n"
     ]
    }
   ],
   "source": [
    "#answer6:\n",
    "a,b=0,1\n",
    "c=0\n",
    "while c<10:\n",
    "    print(a)\n",
    "    a,b=b,a+b\n",
    "    c=c+1"
   ]
  },
  {
   "cell_type": "code",
   "execution_count": 23,
   "id": "40bca51b-01a5-410f-b5b0-825f23bd23c4",
   "metadata": {},
   "outputs": [
    {
     "data": {
      "text/plain": [
       "['p', 'w', 's', 'k', 'i', 'l', 'l', 's']"
      ]
     },
     "execution_count": 23,
     "metadata": {},
     "output_type": "execute_result"
    }
   ],
   "source": [
    "#answer7:\n",
    "s=\"pwskills\"\n",
    "[s[i] for i in range(len(s)) ]"
   ]
  },
  {
   "cell_type": "code",
   "execution_count": 20,
   "id": "da2d2165-7465-4b1c-8df9-d16d1cb0fede",
   "metadata": {},
   "outputs": [
    {
     "name": "stdin",
     "output_type": "stream",
     "text": [
      "Enter the number 121\n"
     ]
    },
    {
     "name": "stdout",
     "output_type": "stream",
     "text": [
      "No. is palindrome\n"
     ]
    }
   ],
   "source": [
    "#answer8:\n",
    "a=int(input(\"Enter the number\"))\n",
    "m = a\n",
    "c = 0 \n",
    "cn = 0 #counter variable\n",
    "while a!=0:\n",
    "    b=a%10\n",
    "    a=int(a/10)\n",
    "    c=c+(b*(10**cn))\n",
    "    cn=cn+1\n",
    "if c==m:\n",
    "    print(\"No. is palindrome\")\n",
    "else:\n",
    "    print(\"No. is not palindrome\")"
   ]
  },
  {
   "cell_type": "code",
   "execution_count": 27,
   "id": "d628d8cb-6f0e-4135-8c94-dcfaef4cedf2",
   "metadata": {},
   "outputs": [
    {
     "data": {
      "text/plain": [
       "[1,\n",
       " 3,\n",
       " 5,\n",
       " 7,\n",
       " 9,\n",
       " 11,\n",
       " 13,\n",
       " 15,\n",
       " 17,\n",
       " 19,\n",
       " 21,\n",
       " 23,\n",
       " 25,\n",
       " 27,\n",
       " 29,\n",
       " 31,\n",
       " 33,\n",
       " 35,\n",
       " 37,\n",
       " 39,\n",
       " 41,\n",
       " 43,\n",
       " 45,\n",
       " 47,\n",
       " 49,\n",
       " 51,\n",
       " 53,\n",
       " 55,\n",
       " 57,\n",
       " 59,\n",
       " 61,\n",
       " 63,\n",
       " 65,\n",
       " 67,\n",
       " 69,\n",
       " 71,\n",
       " 73,\n",
       " 75,\n",
       " 77,\n",
       " 79,\n",
       " 81,\n",
       " 83,\n",
       " 85,\n",
       " 87,\n",
       " 89,\n",
       " 91,\n",
       " 93,\n",
       " 95,\n",
       " 97,\n",
       " 99]"
      ]
     },
     "execution_count": 27,
     "metadata": {},
     "output_type": "execute_result"
    }
   ],
   "source": [
    "#answer9:\n",
    "[i for i in range(0,101) if i%2!=0]\n"
   ]
  },
  {
   "cell_type": "code",
   "execution_count": null,
   "id": "c044faca-dab5-4e10-a35c-ad604d1ffbb9",
   "metadata": {},
   "outputs": [],
   "source": []
  }
 ],
 "metadata": {
  "kernelspec": {
   "display_name": "Python 3 (ipykernel)",
   "language": "python",
   "name": "python3"
  },
  "language_info": {
   "codemirror_mode": {
    "name": "ipython",
    "version": 3
   },
   "file_extension": ".py",
   "mimetype": "text/x-python",
   "name": "python",
   "nbconvert_exporter": "python",
   "pygments_lexer": "ipython3",
   "version": "3.10.8"
  }
 },
 "nbformat": 4,
 "nbformat_minor": 5
}
