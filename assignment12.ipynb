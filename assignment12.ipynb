{
 "cells": [
  {
   "cell_type": "markdown",
   "id": "199b7f56-b70f-436e-9304-ef426e505fe5",
   "metadata": {},
   "source": [
    "#answer1:\n",
    "An exception is an error that happens during the execution of a programme in Python. An Exception object is raised when an unusual condition occurs during programme execution. If the exception cannot be detected and handled, the programme crashes and an error message is produced, showing the type of exception and where it happened in the code.\n",
    "\n",
    "When there is a mistake in the syntax of the code, such as a missing or incorrect comma, colon, or brackets, syntax errors occur. The Python interpreter detects these mistakes during the compilation step of the code, and the programme will not run unless the syntax errors are repaired.\n",
    "Exceptions occur during code execution when something unexpected occurs, such as division by zero, an attempt to access an undefined variable, or opening a file that does not exist."
   ]
  },
  {
   "cell_type": "markdown",
   "id": "ece304f6-b21a-49e1-b075-ad48088edb61",
   "metadata": {},
   "source": [
    "#answer2:\n",
    "When an exception is not handled, an error message appears and the programme exits suddenly. This is known as  a \"unhandled exception.\" for example-\n",
    "\n",
    "try:\n",
    "    file = open(\"ujjwal.txt\", \"r\")\n",
    "except IOError:\n",
    "    print(\"Error: Could not open file.\")\n",
    "In this code, we try to open the file \"ujjwal.txt\" for reading. An IOError exception occurs because the file does not exist. The exception is handled by producing an error message and resuming operation."
   ]
  },
  {
   "cell_type": "markdown",
   "id": "16598fe1-0c18-4212-8d31-f67e21dd91db",
   "metadata": {},
   "source": [
    "#answer3:\n",
    "Using a try-except block in Python, we can catch and handle exceptions. The try block contains the code that we want to run, and the except block contains the code that will handle any exceptions that occur during the execution of the try block.for example\n",
    "try:\n",
    "    nmrtr = int(input(\"Enter the numerator: \"))\n",
    "    dnmtr = int(input(\"Enter the denominator: \"))\n",
    "    r = nmrtr / dnmtr\n",
    "    print(f\"The result of the division is {result}\")\n",
    "except ZeroDivisionError:\n",
    "    print(\"Error: Division by zero.\")\n"
   ]
  },
  {
   "cell_type": "markdown",
   "id": "bfbf639a-8323-4255-a5bf-1b6c4ac96c1c",
   "metadata": {},
   "source": [
    "#answer4:\n",
    "1. try and else:\n",
    "In Python, we may use a try-except-else block to catch errors and execute code if no exceptions are thrown. If no exceptions were raised in the try block, code in the else block executes.for example:\n",
    "try:\n",
    "    n1 = int(input(\"Enter the first number: \"))\n",
    "    n2 = int(input(\"Enter the second number: \"))\n",
    "    r = n1 / n2\n",
    "except ZeroDivisionError:\n",
    "    print(\"Error: Division by zero.\")\n",
    "else:\n",
    "    print(f\"The result is {result}\")\n",
    "2. finally:\n",
    "In Python, we may use a try-except-finally block to catch errors while also running code whether or not an exception occurred. The finally block is optional and includes code that is always performed whether or not an exception occurs in the try block.for example:\n",
    "try:\n",
    "    file = open(\"test1.txt\", \"r\")\n",
    "except IOError:\n",
    "    print(\"Error: Could not open file.\")\n",
    "finally:\n",
    "    file.close()\n",
    "3. raise:\n",
    "To directly raise an exception in Python, we may use the raise keyword. This is useful when we want to inform others that a special situation has happened that the present code cannot handle.\n",
    "for example:\n",
    "def divide(num1, num2):\n",
    "    if num2 == 0:\n",
    "        raise ZeroDivisionError(\"Error: Division by zero.\")\n",
    "    return num1 / num2\n",
    "result = divide(10, 0)"
   ]
  },
  {
   "cell_type": "markdown",
   "id": "86554926-36e2-4a6f-bc29-7ff877f8ce7a",
   "metadata": {},
   "source": [
    "#answer5:\n",
    "In Python, custom exceptions are user-defined exceptions made by sub classes the built-in Exception class or one of its subclasses. Custom exceptions are used to handle errors or extraordinary circumstances that cannot be handled by the built-in exception classes.There are various reasons why we could want custom exceptions:\n",
    "1.To give more relevant error messages\n",
    "2.To protect complex logic\n",
    "3.To differentiate between different forms of errors\n",
    "for example:\n",
    "\n",
    "class Insufficient_Bal_error(Exception):\n",
    "    pass\n",
    "class account:\n",
    "    def __init__(self, balance):\n",
    "        self.balance = balance\n",
    "\n",
    "    def withdraw(self, amount):\n",
    "        if amount > self.balance:\n",
    "            raise Insufficient_Bal_error(\"Error: Insufficient balance.\")\n",
    "        self.balance -= amount\n",
    "        return self.balance\n",
    "\n",
    "a = account(1000)\n",
    "try:\n",
    "    account.withdraw(1500)\n",
    "except Insufficient_Bal_error as e:\n",
    "    print(e)\n"
   ]
  },
  {
   "cell_type": "markdown",
   "id": "039708b1-c20d-4083-9cae-50aa73c1e61a",
   "metadata": {},
   "source": [
    "#answer6:\n",
    "class negative_num(Exception):\n",
    "    pass\n",
    "\n",
    "def square_root(n):\n",
    "    if n < 0:\n",
    "        raise negative_num(\"Error: Cannot calculate the square root of -ve number.\")\n",
    "    return n ** 0.5\n",
    "\n",
    "try:\n",
    "    print(square_root(-4))\n",
    "except negative_num as e:\n",
    "    print(e)\n"
   ]
  }
 ],
 "metadata": {
  "kernelspec": {
   "display_name": "Python 3 (ipykernel)",
   "language": "python",
   "name": "python3"
  },
  "language_info": {
   "codemirror_mode": {
    "name": "ipython",
    "version": 3
   },
   "file_extension": ".py",
   "mimetype": "text/x-python",
   "name": "python",
   "nbconvert_exporter": "python",
   "pygments_lexer": "ipython3",
   "version": "3.10.8"
  }
 },
 "nbformat": 4,
 "nbformat_minor": 5
}
