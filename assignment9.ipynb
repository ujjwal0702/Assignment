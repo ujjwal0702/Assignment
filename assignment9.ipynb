{
 "cells": [
  {
   "cell_type": "code",
   "execution_count": 1,
   "id": "a799f5e6-6604-4210-b31d-d83792e7a9c6",
   "metadata": {},
   "outputs": [
    {
     "name": "stdout",
     "output_type": "stream",
     "text": [
      "I can walk and run\n",
      "I can crawl\n",
      "I can bark\n",
      "I can roar\n"
     ]
    }
   ],
   "source": [
    "\"\"\"\n",
    "answer1:\n",
    "The process of hiding complex implementation details and displaying only what is necessary to \n",
    "the user is known as abstraction. It enables developers to build large systems by breaking \n",
    "them down into simpler, more manageable components.for example-\n",
    "\"\"\"\n",
    "from abc import ABC, abstractmethod\n",
    "class Animal(ABC):\n",
    " \n",
    "    def move(self):\n",
    "        pass\n",
    " \n",
    "class Human(Animal):\n",
    " \n",
    "    def move(self):\n",
    "        print(\"I can walk and run\")\n",
    " \n",
    "class Snake(Animal):\n",
    " \n",
    "    def move(self):\n",
    "        print(\"I can crawl\")\n",
    " \n",
    "class Dog(Animal):\n",
    " \n",
    "    def move(self):\n",
    "        print(\"I can bark\")\n",
    " \n",
    "class Lion(Animal):\n",
    " \n",
    "    def move(self):\n",
    "        print(\"I can roar\")\n",
    "         \n",
    "a = Human()\n",
    "a.move()\n",
    " \n",
    "b = Snake()\n",
    "b.move()\n",
    " \n",
    "c = Dog()\n",
    "c.move()\n",
    "\n",
    "d = Lion()\n",
    "d.move()"
   ]
  },
  {
   "cell_type": "code",
   "execution_count": 5,
   "id": "83201375-d571-4a58-9012-d572202fee7f",
   "metadata": {},
   "outputs": [],
   "source": [
    "\"\"\"\n",
    "answer2:\n",
    "Encapsulation is the concept of combining data and the techniques that operate on that data \n",
    "into a single entity.Classes and objects are commonly used in OOP to do this. Encapsulation \n",
    "is the concept of hiding an object's implementation details from the outside world while \n",
    "providing a simple interface for interacting with it. This makes the item simpler to use and \n",
    "maintain, as well as helping to avoid unwanted side effects or mistakes.for example-\n",
    "\"\"\"\n",
    "class car:\n",
    "    \n",
    "    def __init__(self,make,model,year,color,mileage):\n",
    "        self.__make=make              #\"__\" makes the member private\n",
    "        self.__model=model\n",
    "        self.__year=year\n",
    "        self.__color=color\n",
    "        self.__mileage=mileage\n",
    "        \n",
    "car1=car(\"BMW\",\"X5\",2020,\"navy blue\",\"mileage\") #object of the class\n",
    "\n",
    "\"\"\"\n",
    "Abstraction, on the other hand, refers to the process of reducing a complicated system or thing\n",
    "to its simplest parts. This includes identifying the system's basic characteristics or \n",
    "behaviour and developing a simpler model that captures these qualities. The purpose of \n",
    "abstraction is to make it easier to reason about a system or object by focusing on its most \n",
    "significant properties and ignoring less important details.for example-\n",
    "\"\"\"\n",
    "from abc import ABC, abstractmethod\n",
    "class vehicle(ABC):\n",
    "    \n",
    "    def start(self):\n",
    "        pass\n",
    "    \n",
    "    def stop(self):\n",
    "        pass\n",
    "    \n",
    "    def get_speed(self):\n",
    "        pass\n",
    "    "
   ]
  },
  {
   "cell_type": "markdown",
   "id": "249190dd-d8db-4666-b478-f18abd4af65a",
   "metadata": {},
   "source": [
    "answer3:\n",
    "The abc module in Python stands for \"Abstract Base Classes\". It is a module that provides a way \n",
    "to define abstract classes in Python. The abc module in Python provides tools for defining and \n",
    "working with abstract classes."
   ]
  },
  {
   "cell_type": "markdown",
   "id": "6de585ba-7e14-496d-ba59-c0b83f0981db",
   "metadata": {},
   "source": [
    "answer4:\n",
    "steps required for data abstraction are:\n",
    "1. Identify the relevant data and behaviour: First, you must identify the relevant data and behaviour \n",
    "   that your programme requires. This involves evaluating the situation before hand and identifying \n",
    "   what information is required for presenting it.\n",
    "2. Define a class: Once the appropriate information and behaviour have been determined, you may define\n",
    "   a class that describes the problem. \n",
    "3. Control access to data and methods by using access modifiers such as public, private, and protected.\n",
    "   It helps in enclosing the class's data and behaviour.\n",
    "4. Provide interfaces or public methods that allow other components of your programme to interact with \n",
    "   the class. \n",
    "5. After you've defined the class and its interfaces, you can create class objects. Objects are class \n",
    "   instances that have particular values for the class's attributes.\n",
    "6. Use objects to interact with the class's data and behaviour. The objects allow you to interact with \n",
    "   the class's data and behaviour without having to know the specifics of how the class is built."
   ]
  },
  {
   "cell_type": "markdown",
   "id": "39a8b5b2-ce60-47da-b3ce-b83ea5e1bbcd",
   "metadata": {},
   "source": [
    "answer4:\n",
    "No, we cannot make an instance of an abstract class in Python or any other object-oriented programming language.\n",
    "It is not possible to build an abstract class instance because abstract classes have one or more abstract methods that do not have an implementation. An instance of a class is an object that has been constructed from the class, and it must fully implement all of the class's methods. \n"
   ]
  },
  {
   "cell_type": "code",
   "execution_count": null,
   "id": "1f57fe4b-c0c4-4b8f-aeaf-188a28452557",
   "metadata": {},
   "outputs": [],
   "source": []
  }
 ],
 "metadata": {
  "kernelspec": {
   "display_name": "Python 3 (ipykernel)",
   "language": "python",
   "name": "python3"
  },
  "language_info": {
   "codemirror_mode": {
    "name": "ipython",
    "version": 3
   },
   "file_extension": ".py",
   "mimetype": "text/x-python",
   "name": "python",
   "nbconvert_exporter": "python",
   "pygments_lexer": "ipython3",
   "version": "3.10.8"
  }
 },
 "nbformat": 4,
 "nbformat_minor": 5
}
