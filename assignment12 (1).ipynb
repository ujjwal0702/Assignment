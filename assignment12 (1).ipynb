{
 "cells": [
  {
   "cell_type": "code",
   "execution_count": null,
   "id": "2a586610-915c-426f-b741-7612658a7080",
   "metadata": {},
   "outputs": [],
   "source": [
    "#answer1:\n",
    "\"\"\"\n",
    "An exception is an error that happens during the execution of a programme in Python. An Exception object is raised when an unusual condition occurs during programme execution. If the exception \n",
    "cannot be detected and handled, the programme crashes and an error message is produced, showing the type of exception and where it happened in the code.\n",
    "\n",
    "When there is a mistake in the syntax of the code, such as a missing or incorrect comma, colon, or brackets, syntax errors occur. The Python interpreter detects these mistakes during the \n",
    "compilation step of the code, and the programme will not run unless the syntax errors are repaired.Exceptions occur during code execution when something unexpected occurs, such as division by \n",
    "zero, an attempt to access an undefined variable, or opening a file that does not exist.\n",
    "\"\"\""
   ]
  },
  {
   "cell_type": "code",
   "execution_count": 1,
   "id": "d44456c1-f262-4ad8-9506-ff36dfaa761a",
   "metadata": {},
   "outputs": [
    {
     "name": "stdout",
     "output_type": "stream",
     "text": [
      "Error: Could not open file.\n"
     ]
    },
    {
     "data": {
      "text/plain": [
       "'\\nIn this code, we try to open the file \"ujjwal.txt\" for reading. An IOError exception occurs because the file does not exist. The exception is handled by producing an error message and resuming \\noperation.\\n'"
      ]
     },
     "execution_count": 1,
     "metadata": {},
     "output_type": "execute_result"
    }
   ],
   "source": [
    "#answer2:\n",
    "\"\"\"\n",
    "When an exception is not handled, an error message appears and the programme exits suddenly. This is known as  a \"unhandled exception.\" for example-\n",
    "\"\"\"\n",
    "try:\n",
    "    file = open(\"ujjwal.txt\", \"r\")\n",
    "except IOError:\n",
    "    print(\"Error: Could not open file.\")\n",
    "\"\"\"\n",
    "In this code, we try to open the file \"ujjwal.txt\" for reading. An IOError exception occurs because the file does not exist. The exception is handled by producing an error message and resuming \n",
    "operation.\n",
    "\"\"\""
   ]
  },
  {
   "cell_type": "code",
   "execution_count": 2,
   "id": "7519b742-5420-41ef-8a82-451c2c373245",
   "metadata": {},
   "outputs": [
    {
     "name": "stdin",
     "output_type": "stream",
     "text": [
      "Enter the numerator:  7\n",
      "Enter the denominator:  0\n"
     ]
    },
    {
     "name": "stdout",
     "output_type": "stream",
     "text": [
      "Error: Division by zero.\n"
     ]
    }
   ],
   "source": [
    "#answer3:\n",
    "\"\"\"\n",
    "Using a try-except block in Python, we can catch and handle exceptions. The try block contains the code that we want to run, and the except block contains the code that will handle any exceptions that occur during the execution of the try block.for example\n",
    "\"\"\"\n",
    "try:\n",
    "    nmrtr = int(input(\"Enter the numerator: \"))\n",
    "    dnmtr = int(input(\"Enter the denominator: \"))\n",
    "    r = nmrtr / dnmtr\n",
    "    print(f\"The result of the division is {result}\")\n",
    "except ZeroDivisionError:\n",
    "    print(\"Error: Division by zero.\")\n"
   ]
  },
  {
   "cell_type": "code",
   "execution_count": 4,
   "id": "398710ca-3d1a-4331-9953-647d0d2c3fd5",
   "metadata": {},
   "outputs": [
    {
     "name": "stdin",
     "output_type": "stream",
     "text": [
      "Enter the first number:  8\n",
      "Enter the second number:  9\n"
     ]
    },
    {
     "name": "stdout",
     "output_type": "stream",
     "text": [
      "The result is 0.8888888888888888\n"
     ]
    },
    {
     "ename": "ZeroDivisionError",
     "evalue": "Error: Division by zero.",
     "output_type": "error",
     "traceback": [
      "\u001b[0;31m---------------------------------------------------------------------------\u001b[0m",
      "\u001b[0;31mZeroDivisionError\u001b[0m                         Traceback (most recent call last)",
      "Cell \u001b[0;32mIn[4], line 35\u001b[0m\n\u001b[1;32m     33\u001b[0m         \u001b[38;5;28;01mraise\u001b[39;00m \u001b[38;5;167;01mZeroDivisionError\u001b[39;00m(\u001b[38;5;124m\"\u001b[39m\u001b[38;5;124mError: Division by zero.\u001b[39m\u001b[38;5;124m\"\u001b[39m)\n\u001b[1;32m     34\u001b[0m     \u001b[38;5;28;01mreturn\u001b[39;00m num1 \u001b[38;5;241m/\u001b[39m num2\n\u001b[0;32m---> 35\u001b[0m result \u001b[38;5;241m=\u001b[39m \u001b[43mdivide\u001b[49m\u001b[43m(\u001b[49m\u001b[38;5;241;43m10\u001b[39;49m\u001b[43m,\u001b[49m\u001b[43m \u001b[49m\u001b[38;5;241;43m0\u001b[39;49m\u001b[43m)\u001b[49m\n",
      "Cell \u001b[0;32mIn[4], line 33\u001b[0m, in \u001b[0;36mdivide\u001b[0;34m(num1, num2)\u001b[0m\n\u001b[1;32m     31\u001b[0m \u001b[38;5;28;01mdef\u001b[39;00m \u001b[38;5;21mdivide\u001b[39m(num1, num2):\n\u001b[1;32m     32\u001b[0m     \u001b[38;5;28;01mif\u001b[39;00m num2 \u001b[38;5;241m==\u001b[39m \u001b[38;5;241m0\u001b[39m:\n\u001b[0;32m---> 33\u001b[0m         \u001b[38;5;28;01mraise\u001b[39;00m \u001b[38;5;167;01mZeroDivisionError\u001b[39;00m(\u001b[38;5;124m\"\u001b[39m\u001b[38;5;124mError: Division by zero.\u001b[39m\u001b[38;5;124m\"\u001b[39m)\n\u001b[1;32m     34\u001b[0m     \u001b[38;5;28;01mreturn\u001b[39;00m num1 \u001b[38;5;241m/\u001b[39m num2\n",
      "\u001b[0;31mZeroDivisionError\u001b[0m: Error: Division by zero."
     ]
    }
   ],
   "source": [
    "#answer4:\n",
    "\"\"\"\n",
    "1. try and else:\n",
    "In Python, we may use a try-except-else block to catch errors and execute code if no exceptions are thrown. If no exceptions were raised in the try block, code in the else block executes.for\n",
    "example:\n",
    "\"\"\"\n",
    "try:\n",
    "    n1 = int(input(\"Enter the first number: \"))\n",
    "    n2 = int(input(\"Enter the second number: \"))\n",
    "    r = n1 / n2\n",
    "except ZeroDivisionError:\n",
    "    print(\"Error: Division by zero.\")\n",
    "else:\n",
    "    print(f\"The result is {r}\")\n",
    "\"\"\"\n",
    "2. finally:\n",
    "In Python, we may use a try-except-finally block to catch errors while also running code whether or not an exception occurred. The finally block is optional and includes code that is always \n",
    "performed whether or not an exception occurs in the try block.for example:\n",
    "\"\"\"\n",
    "try:\n",
    "    file = open(\"test1.txt\", \"r\")\n",
    "except IOError:\n",
    "    print(\"Error: Could not open file.\")\n",
    "finally:\n",
    "    file.close()\n",
    "\"\"\"\n",
    "3. raise:\n",
    "To directly raise an exception in Python, we may use the raise keyword. This is useful when we want to inform others that a special situation has happened that the present code cannot handle.\n",
    "for example:\n",
    "\"\"\"\n",
    "def divide(num1, num2):\n",
    "    if num2 == 0:\n",
    "        raise ZeroDivisionError(\"Error: Division by zero.\")\n",
    "    return num1 / num2\n",
    "result = divide(10, 0)"
   ]
  },
  {
   "cell_type": "code",
   "execution_count": 6,
   "id": "d1f36b8f-1e33-4280-98ad-e6dd54870f6c",
   "metadata": {},
   "outputs": [
    {
     "name": "stdout",
     "output_type": "stream",
     "text": [
      "Error: Insufficient balance.\n"
     ]
    }
   ],
   "source": [
    "#answer5:\n",
    "\"\"\"\n",
    "In Python, custom exceptions are user-defined exceptions made by sub classes the built-in Exception class or one of its subclasses. Custom exceptions are used to handle errors or extraordinary circumstances that cannot be handled by the built-in exception classes.There are various reasons why we could want custom exceptions:\n",
    "1.To give more relevant error messages\n",
    "2.To protect complex logic\n",
    "3.To differentiate between different forms of errors\n",
    "for example:\n",
    "\"\"\"\n",
    "class Insufficient_Bal_error(Exception):\n",
    "    pass\n",
    "class account:\n",
    "    def __init__(self, balance):\n",
    "        self.balance = balance\n",
    "\n",
    "    def withdraw(self, amount):\n",
    "        if amount > self.balance:\n",
    "            raise Insufficient_Bal_error(\"Error: Insufficient balance.\")\n",
    "        self.balance -= amount\n",
    "        return self.balance\n",
    "\n",
    "a = account(1000)\n",
    "try:\n",
    "    a.withdraw(1500)\n",
    "except Insufficient_Bal_error as e:\n",
    "    print(e)\n"
   ]
  },
  {
   "cell_type": "code",
   "execution_count": 8,
   "id": "086b1050-682e-42e5-9870-d250b1756339",
   "metadata": {},
   "outputs": [
    {
     "name": "stdout",
     "output_type": "stream",
     "text": [
      "Error: Cannot calculate the square root of -ve number.\n"
     ]
    }
   ],
   "source": [
    "#answer6:\n",
    "class negative_num(Exception):\n",
    "    pass\n",
    "\n",
    "def square_root(n):\n",
    "    if n < 0:\n",
    "        raise negative_num(\"Error: Cannot calculate the square root of -ve number.\")\n",
    "    return n ** 0.5\n",
    "\n",
    "try:\n",
    "    print(square_root(-4))\n",
    "except negative_num as e:\n",
    "    print(e)\n"
   ]
  }
 ],
 "metadata": {
  "kernelspec": {
   "display_name": "Python 3 (ipykernel)",
   "language": "python",
   "name": "python3"
  },
  "language_info": {
   "codemirror_mode": {
    "name": "ipython",
    "version": 3
   },
   "file_extension": ".py",
   "mimetype": "text/x-python",
   "name": "python",
   "nbconvert_exporter": "python",
   "pygments_lexer": "ipython3",
   "version": "3.10.8"
  }
 },
 "nbformat": 4,
 "nbformat_minor": 5
}
