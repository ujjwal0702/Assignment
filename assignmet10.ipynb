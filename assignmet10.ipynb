{
 "cells": [
  {
   "cell_type": "code",
   "execution_count": 1,
   "id": "3c2d03d8-957d-4f9c-b1fb-451d8490dc1b",
   "metadata": {},
   "outputs": [],
   "source": [
    "#answer1:\n",
    "class vehicle:\n",
    "    \n",
    "    def __init__(self,name_of_vehicle,max_speed,average_of_vehicle):\n",
    "        self.name_of_vehicle=name_of_vehicle\n",
    "        self.max_speed=max_speed\n",
    "        self.average_of_vehicle=average_of_vehicle"
   ]
  },
  {
   "cell_type": "code",
   "execution_count": 15,
   "id": "e66bfb31-4b3a-4054-be30-86e4dd66c29a",
   "metadata": {},
   "outputs": [],
   "source": [
    "#answer2:\n",
    "class car(vehicle):\n",
    "    \n",
    "    def seating_capacity(self,capacity):\n",
    "        return  f\"{self.name_of_vehicle} has a seating capacity of {capacity} people.\""
   ]
  },
  {
   "cell_type": "code",
   "execution_count": 16,
   "id": "beb39191-9b57-41d4-9080-daccc59d5aaa",
   "metadata": {},
   "outputs": [
    {
     "name": "stdout",
     "output_type": "stream",
     "text": [
      "Toyota has a seating capacity of 4 people.\n"
     ]
    }
   ],
   "source": [
    "car = car(\"Toyota\", 180, 30)\n",
    "print(car.seating_capacity(4)) "
   ]
  },
  {
   "cell_type": "code",
   "execution_count": 17,
   "id": "3727ce5a-f3c5-4019-b948-9face6843c1f",
   "metadata": {},
   "outputs": [],
   "source": [
    "\"\"\"\n",
    "answer3:\n",
    "Multiple inheritance is a feature in object-oriented programming where a class can inherit attributes and methods from \n",
    "multiple parent classes. This allows the child class to have the characteristics of multiple parent classes.\n",
    "\"\"\"\n",
    "class Animal:\n",
    "    def __init__(self, name, species):\n",
    "        self.name = name\n",
    "        self.species = species\n",
    "        \n",
    "    def speak(self):\n",
    "        pass\n",
    "    \n",
    "class Pet:\n",
    "    def __init__(self, name, species, owner):\n",
    "        self.name = name\n",
    "        self.species = species\n",
    "        self.owner = owner\n",
    "        \n",
    "    def feed(self):\n",
    "        pass\n",
    "    \n",
    "class Dog(Animal, Pet):\n",
    "    def __init__(self, name, species, owner, breed):\n",
    "        Animal.__init__(self, name, species)\n",
    "        Pet.__init__(self, name, species, owner)\n",
    "        self.breed = breed\n",
    "        \n",
    "    def speak(self):\n",
    "        return \"Woof!\"\n",
    "    \n",
    "    def feed(self):\n",
    "        return \"Feeding the dog\""
   ]
  },
  {
   "cell_type": "code",
   "execution_count": 18,
   "id": "af071c02-9c8f-49f4-85b7-0f371026a6c3",
   "metadata": {},
   "outputs": [
    {
     "name": "stdout",
     "output_type": "stream",
     "text": [
      "Buddy\n",
      "Dog\n",
      "John\n",
      "Golden Retriever\n",
      "Woof!\n",
      "Feeding the dog\n"
     ]
    }
   ],
   "source": [
    "my_dog = Dog(\"Buddy\", \"Dog\", \"John\", \"Golden Retriever\")\n",
    "print(my_dog.name) \n",
    "print(my_dog.species)  \n",
    "print(my_dog.owner)  \n",
    "print(my_dog.breed)  \n",
    "print(my_dog.speak()) \n",
    "print(my_dog.feed())  "
   ]
  },
  {
   "cell_type": "code",
   "execution_count": 22,
   "id": "c47458e4-9677-4e49-b5cc-91f060368caf",
   "metadata": {},
   "outputs": [
    {
     "name": "stdout",
     "output_type": "stream",
     "text": [
      "Ujjwal\n",
      "Srivastava\n",
      "18\n",
      "19\n",
      "Invalid age value\n"
     ]
    }
   ],
   "source": [
    "\"\"\"\n",
    "answer4:\n",
    "A getter method is used to retrieve an attribute's value, whereas a setter method is used to set an attribute's value. \n",
    "This gives you control over how the attribute is accessed and modified outside of the class.for example\n",
    "\"\"\"\n",
    "class Person:\n",
    "    def __init__(self, name, age):\n",
    "        self._name = name\n",
    "        self._age = age\n",
    "\n",
    "    def get_name(self):\n",
    "        return self._name\n",
    "\n",
    "    def set_name(self, name):\n",
    "        self._name = name\n",
    "\n",
    "    def get_age(self):\n",
    "        return self._age\n",
    "\n",
    "    def set_age(self, age):\n",
    "        if age >= 0 and age <= 120:\n",
    "            self._age = age\n",
    "        else:\n",
    "            print(\"Invalid age value\")\n",
    "\n",
    "person1 = Person(\"Ujjwal\",18)\n",
    "print(person1.get_name())  \n",
    "person1.set_name(\"Srivastava\")\n",
    "print(person1.get_name())  \n",
    "print(person1.get_age())  \n",
    "person1.set_age(19)\n",
    "print(person1.get_age())  \n",
    "person1.set_age(190)  "
   ]
  },
  {
   "cell_type": "code",
   "execution_count": 23,
   "id": "2cd04da1-999e-4802-8f2e-5302dc72759d",
   "metadata": {},
   "outputs": [
    {
     "name": "stdout",
     "output_type": "stream",
     "text": [
      "Animal is moving.\n",
      "Dog is running.\n"
     ]
    }
   ],
   "source": [
    "\"\"\"\n",
    "answer5:\n",
    "Method overriding in Python is an object-oriented programming feature that allows a subclass to provide a different \n",
    "implementation of a method that is already defined in its superclass, allowing the subclass to modify its use of the \n",
    "method without affecting its name or signature.for example-\n",
    "\"\"\"\n",
    "class Animal:\n",
    "    def move(self):\n",
    "        print(\"Animal is moving.\")\n",
    "\n",
    "class Dog(Animal):\n",
    "    def move(self):\n",
    "        print(\"Dog is running.\")\n",
    "\n",
    "animal1 = Animal()\n",
    "animal1.move() \n",
    "\n",
    "dog1 = Dog()\n",
    "dog1.move()  "
   ]
  },
  {
   "cell_type": "code",
   "execution_count": null,
   "id": "5a9a88b6-8246-484a-99fa-7fd56c720922",
   "metadata": {},
   "outputs": [],
   "source": []
  }
 ],
 "metadata": {
  "kernelspec": {
   "display_name": "Python 3 (ipykernel)",
   "language": "python",
   "name": "python3"
  },
  "language_info": {
   "codemirror_mode": {
    "name": "ipython",
    "version": 3
   },
   "file_extension": ".py",
   "mimetype": "text/x-python",
   "name": "python",
   "nbconvert_exporter": "python",
   "pygments_lexer": "ipython3",
   "version": "3.10.8"
  }
 },
 "nbformat": 4,
 "nbformat_minor": 5
}
