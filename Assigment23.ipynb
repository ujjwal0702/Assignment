{
 "cells": [
  {
   "cell_type": "markdown",
   "id": "7ac0b255-0b8f-4f8a-b036-095f27773c67",
   "metadata": {},
   "source": [
    "# Answer 1:\n",
    "Q1. List any five functions of the pandas library with execution."
   ]
  },
  {
   "cell_type": "markdown",
   "id": "6da38c3d-4579-434f-b486-d37094c004f2",
   "metadata": {},
   "source": [
    "Five function of the panda library , often imported as \"pd\"are:\n",
    "1. pd.read_csv()\n",
    "2. pd.Dataframe()\n",
    "3. pd.groupby()\n",
    "4. pd.merge()\n",
    "5. pd.plot()\n",
    "\n",
    "1. pd.read_csv(): This function is used to read data from a CSV (Comma Separated Values) file and create a DataFrame. It allows you to load data into pandas for further analysis and manipulation.\n",
    "\n",
    "2. pd.DataFrame(): This is a constructor function to create a DataFrame from various data structures like lists, dictionaries, arrays, etc.\n",
    "\n",
    "3. pd.groupby(): This function is used for grouping data based on one or more columns and then applying aggregate functions on the grouped data.\n",
    "\n",
    "4. pd.groupby(): This function is used for grouping data based on one or more columns and then applying aggregate functions on the grouped data.\n",
    "\n",
    "5. pd.plot(): This function provides a quick and easy way to create basic plots using pandas' built-in plotting capabilities."
   ]
  },
  {
   "cell_type": "code",
   "execution_count": 6,
   "id": "3bd035d8-e91b-4e41-8fca-226aea5c589b",
   "metadata": {},
   "outputs": [],
   "source": [
    "import pandas as pd\n",
    "#df = pd.read_csv('file_name')\n",
    "# Create a DataFrame from a dictionary\n",
    "data = {'Name': ['Alice', 'Bob', 'Charlie'], 'Age': [25, 30, 35]}\n",
    "df = pd.DataFrame(data)"
   ]
  },
  {
   "cell_type": "code",
   "execution_count": 7,
   "id": "479a1c22-661b-4120-8037-aa2d94237501",
   "metadata": {},
   "outputs": [
    {
     "data": {
      "text/html": [
       "<div>\n",
       "<style scoped>\n",
       "    .dataframe tbody tr th:only-of-type {\n",
       "        vertical-align: middle;\n",
       "    }\n",
       "\n",
       "    .dataframe tbody tr th {\n",
       "        vertical-align: top;\n",
       "    }\n",
       "\n",
       "    .dataframe thead th {\n",
       "        text-align: right;\n",
       "    }\n",
       "</style>\n",
       "<table border=\"1\" class=\"dataframe\">\n",
       "  <thead>\n",
       "    <tr style=\"text-align: right;\">\n",
       "      <th></th>\n",
       "      <th>Name</th>\n",
       "      <th>Age</th>\n",
       "    </tr>\n",
       "  </thead>\n",
       "  <tbody>\n",
       "    <tr>\n",
       "      <th>0</th>\n",
       "      <td>Alice</td>\n",
       "      <td>25</td>\n",
       "    </tr>\n",
       "    <tr>\n",
       "      <th>1</th>\n",
       "      <td>Bob</td>\n",
       "      <td>30</td>\n",
       "    </tr>\n",
       "    <tr>\n",
       "      <th>2</th>\n",
       "      <td>Charlie</td>\n",
       "      <td>35</td>\n",
       "    </tr>\n",
       "  </tbody>\n",
       "</table>\n",
       "</div>"
      ],
      "text/plain": [
       "      Name  Age\n",
       "0    Alice   25\n",
       "1      Bob   30\n",
       "2  Charlie   35"
      ]
     },
     "execution_count": 7,
     "metadata": {},
     "output_type": "execute_result"
    }
   ],
   "source": [
    "df"
   ]
  },
  {
   "cell_type": "code",
   "execution_count": 8,
   "id": "5b0b6461-59cf-4281-a5e1-47e147545ca0",
   "metadata": {},
   "outputs": [],
   "source": [
    "# Group data by the 'Category' column and find the mean of the 'Value' column for each group\n",
    "#grouped_data = df.groupby('Category')['Value'].mean()"
   ]
  },
  {
   "cell_type": "code",
   "execution_count": 9,
   "id": "6376c03b-c029-4c49-a5b5-9197b203c6fe",
   "metadata": {},
   "outputs": [],
   "source": [
    "# Merge two DataFrames based on the 'ID' column\n",
    "#merged_df = pd.merge(df1, df2, on='ID')"
   ]
  },
  {
   "cell_type": "code",
   "execution_count": 10,
   "id": "cc6d2021-05c0-4191-ab44-de6624ccf107",
   "metadata": {},
   "outputs": [],
   "source": [
    "# Create a line plot of the 'values' column in the DataFrame\n",
    "#df['values'].plot(kind='line')"
   ]
  },
  {
   "cell_type": "markdown",
   "id": "419f8aba-d6e9-43ca-85c1-b2d8547c2744",
   "metadata": {},
   "source": [
    "# Answer 2:\n",
    "Given a Pandas DataFrame df with columns 'A', 'B', and 'C', write a Python function to re-index the\n",
    "DataFrame with a new index that starts from 1 and increments by 2 for each row."
   ]
  },
  {
   "cell_type": "code",
   "execution_count": 13,
   "id": "662458d4-79db-457e-8705-3f0eb7c2336f",
   "metadata": {},
   "outputs": [
    {
     "data": {
      "text/html": [
       "<div>\n",
       "<style scoped>\n",
       "    .dataframe tbody tr th:only-of-type {\n",
       "        vertical-align: middle;\n",
       "    }\n",
       "\n",
       "    .dataframe tbody tr th {\n",
       "        vertical-align: top;\n",
       "    }\n",
       "\n",
       "    .dataframe thead th {\n",
       "        text-align: right;\n",
       "    }\n",
       "</style>\n",
       "<table border=\"1\" class=\"dataframe\">\n",
       "  <thead>\n",
       "    <tr style=\"text-align: right;\">\n",
       "      <th></th>\n",
       "      <th>A</th>\n",
       "      <th>B</th>\n",
       "      <th>C</th>\n",
       "    </tr>\n",
       "  </thead>\n",
       "  <tbody>\n",
       "    <tr>\n",
       "      <th>1</th>\n",
       "      <td>10</td>\n",
       "      <td>40</td>\n",
       "      <td>70</td>\n",
       "    </tr>\n",
       "    <tr>\n",
       "      <th>3</th>\n",
       "      <td>20</td>\n",
       "      <td>50</td>\n",
       "      <td>80</td>\n",
       "    </tr>\n",
       "    <tr>\n",
       "      <th>5</th>\n",
       "      <td>30</td>\n",
       "      <td>60</td>\n",
       "      <td>90</td>\n",
       "    </tr>\n",
       "  </tbody>\n",
       "</table>\n",
       "</div>"
      ],
      "text/plain": [
       "    A   B   C\n",
       "1  10  40  70\n",
       "3  20  50  80\n",
       "5  30  60  90"
      ]
     },
     "execution_count": 13,
     "metadata": {},
     "output_type": "execute_result"
    }
   ],
   "source": [
    "def reindex_with_new_index(df):\n",
    "    # Reset the existing index to default integer index\n",
    "    df.reset_index(drop=True, inplace=True)\n",
    "    \n",
    "    # Create a new index starting from 1 and incrementing by 2\n",
    "    new_index = pd.Series(range(1, 2 * len(df) + 1, 2))\n",
    "    \n",
    "    # Set the new index to the DataFrame\n",
    "    df.index = new_index\n",
    "    \n",
    "    return df\n",
    "df = pd.DataFrame({'A': [10, 20, 30], 'B': [40, 50, 60], 'C': [70, 80, 90]})\n",
    "new_df = reindex_with_new_index(df)\n",
    "new_df"
   ]
  },
  {
   "cell_type": "markdown",
   "id": "ded69880-e7c4-414e-8e86-7b086945e1ad",
   "metadata": {},
   "source": [
    "# Answer 3:\n",
    "You have a Pandas DataFrame df with a column named 'Values'. Write a Python function that\n",
    "iterates over the DataFrame and calculates the sum of the first three values in the 'Values' column. The\n",
    "function should print the sum to the console."
   ]
  },
  {
   "cell_type": "code",
   "execution_count": 33,
   "id": "3d37f42e-a0ca-47b9-95ab-efeb8b194cee",
   "metadata": {},
   "outputs": [
    {
     "name": "stdout",
     "output_type": "stream",
     "text": [
      "Sum of three number: 60\n"
     ]
    }
   ],
   "source": [
    "def sum_three(df):\n",
    "    # get the first three number of the 'values' column\n",
    "    sum_of_three=df['values'].head(3)\n",
    "    # calculate the sum of first three numbers\n",
    "    a=sum_of_three.sum()\n",
    "    # print the sum of first three numbers\n",
    "    print(\"Sum of three number:\",a)\n",
    "df=pd.DataFrame({'values':[10,20,30,40,50]})\n",
    "sum_three(df)"
   ]
  },
  {
   "cell_type": "code",
   "execution_count": 34,
   "id": "daeb6b82-dcef-48ae-bbf5-5fb82a71babe",
   "metadata": {},
   "outputs": [
    {
     "name": "stdout",
     "output_type": "stream",
     "text": [
      "Sum of three number: values    60\n",
      "dtype: int64\n"
     ]
    }
   ],
   "source": [
    "def sum_three(df):\n",
    "    # get the first three number of the 'values' column\n",
    "    sum_of_three=df[0:3].sum()\n",
    "    # print the sum of first three numbers\n",
    "    print(\"Sum of three number:\",sum_of_three)\n",
    "df=pd.DataFrame({'values':[10,20,30,40,50]})\n",
    "sum_three(df)"
   ]
  },
  {
   "cell_type": "markdown",
   "id": "a4b72954-b00e-416a-8e94-b9602a94aa8f",
   "metadata": {},
   "source": [
    "# Answer 4:\n",
    "Given a Pandas DataFrame df with a column 'Text', write a Python function to create a new column\n",
    "'Word_Count' that contains the number of words in each row of the 'Text' column."
   ]
  },
  {
   "cell_type": "code",
   "execution_count": 57,
   "id": "f3fbd571-1d72-4a87-abf4-c1ce96a0eac8",
   "metadata": {},
   "outputs": [
    {
     "data": {
      "text/html": [
       "<div>\n",
       "<style scoped>\n",
       "    .dataframe tbody tr th:only-of-type {\n",
       "        vertical-align: middle;\n",
       "    }\n",
       "\n",
       "    .dataframe tbody tr th {\n",
       "        vertical-align: top;\n",
       "    }\n",
       "\n",
       "    .dataframe thead th {\n",
       "        text-align: right;\n",
       "    }\n",
       "</style>\n",
       "<table border=\"1\" class=\"dataframe\">\n",
       "  <thead>\n",
       "    <tr style=\"text-align: right;\">\n",
       "      <th></th>\n",
       "      <th>Text</th>\n",
       "      <th>Word_Count</th>\n",
       "    </tr>\n",
       "  </thead>\n",
       "  <tbody>\n",
       "    <tr>\n",
       "      <th>0</th>\n",
       "      <td>My name is Ujjwal</td>\n",
       "      <td>4</td>\n",
       "    </tr>\n",
       "    <tr>\n",
       "      <th>1</th>\n",
       "      <td>My brothers name is sajal</td>\n",
       "      <td>5</td>\n",
       "    </tr>\n",
       "    <tr>\n",
       "      <th>2</th>\n",
       "      <td>mann</td>\n",
       "      <td>1</td>\n",
       "    </tr>\n",
       "  </tbody>\n",
       "</table>\n",
       "</div>"
      ],
      "text/plain": [
       "                        Text  Word_Count\n",
       "0          My name is Ujjwal           4\n",
       "1  My brothers name is sajal           5\n",
       "2                       mann           1"
      ]
     },
     "execution_count": 57,
     "metadata": {},
     "output_type": "execute_result"
    }
   ],
   "source": [
    "def count_words_in_text(df):\n",
    "    # Define a function to count words in a text\n",
    "    def word_count(text):\n",
    "        return len(str(text).split())\n",
    "\n",
    "    # Apply the word_count function to the 'Text' column and create a new 'Word_Count' column\n",
    "    df['Word_Count'] = df['Text'].apply(word_count)\n",
    "\n",
    "    return df\n",
    "df=pd.DataFrame({'Text':['My name is Ujjwal','My brothers name is sajal','mann']})\n",
    "df = count_words_in_text(df)\n",
    "df\n"
   ]
  },
  {
   "cell_type": "markdown",
   "id": "24865f28-8ada-4d16-b264-88a76268853f",
   "metadata": {},
   "source": [
    "# Answer 5:\n",
    "How are DataFrame.size() and DataFrame.shape() different?"
   ]
  },
  {
   "cell_type": "markdown",
   "id": "9edced7e-0291-4d75-8f65-57a426e695d7",
   "metadata": {},
   "source": [
    "df.size():Return the number of rows if Series. Otherwise return the number of\n",
    "rows times number of columns if DataFrame."
   ]
  },
  {
   "cell_type": "code",
   "execution_count": 60,
   "id": "4ce5227b-5760-4854-ae66-e29d3a912729",
   "metadata": {},
   "outputs": [
    {
     "data": {
      "text/plain": [
       "6"
      ]
     },
     "execution_count": 60,
     "metadata": {},
     "output_type": "execute_result"
    }
   ],
   "source": [
    "df.size"
   ]
  },
  {
   "cell_type": "markdown",
   "id": "72927b72-c4a1-4d61-aacd-203aa93a027c",
   "metadata": {},
   "source": [
    "df.shape():Return a tuple representing the dimensionality of the DataFrame."
   ]
  },
  {
   "cell_type": "code",
   "execution_count": 61,
   "id": "6d0651fb-dfdc-4ad9-b733-81cf27ba749a",
   "metadata": {},
   "outputs": [
    {
     "data": {
      "text/plain": [
       "(3, 2)"
      ]
     },
     "execution_count": 61,
     "metadata": {},
     "output_type": "execute_result"
    }
   ],
   "source": [
    "df.shape"
   ]
  },
  {
   "cell_type": "markdown",
   "id": "131432a6-f6d2-46f0-a36a-d91b3c8b9c41",
   "metadata": {},
   "source": [
    "# Answer 6:\n",
    "Which function of pandas do we use to read an excel file?"
   ]
  },
  {
   "cell_type": "markdown",
   "id": "7497b2f4-ef20-4b98-9338-171ef4c0f449",
   "metadata": {},
   "source": [
    "df.read_excel() function is used to read excel file."
   ]
  },
  {
   "cell_type": "markdown",
   "id": "efec4f3b-1335-453a-b195-3e642747b84d",
   "metadata": {},
   "source": [
    "# Answer 7:\n",
    "You have a Pandas DataFrame df that contains a column named 'Email' that contains email\n",
    "addresses in the format 'username@domain.com'. Write a Python function that creates a new column\n",
    "'Username' in df that contains only the username part of each email address.\n",
    "The username is the part of the email address that appears before the '@' symbol. For example, if the\n",
    "email address is 'john.doe@example.com', the 'Username' column should contain 'john.doe'. Your\n",
    "function should extract the username from each email address and store it in the new 'Username'\n",
    "column."
   ]
  },
  {
   "cell_type": "code",
   "execution_count": 62,
   "id": "ec4fb674-9e67-4e7b-8450-40bbcba6a582",
   "metadata": {},
   "outputs": [
    {
     "data": {
      "text/html": [
       "<div>\n",
       "<style scoped>\n",
       "    .dataframe tbody tr th:only-of-type {\n",
       "        vertical-align: middle;\n",
       "    }\n",
       "\n",
       "    .dataframe tbody tr th {\n",
       "        vertical-align: top;\n",
       "    }\n",
       "\n",
       "    .dataframe thead th {\n",
       "        text-align: right;\n",
       "    }\n",
       "</style>\n",
       "<table border=\"1\" class=\"dataframe\">\n",
       "  <thead>\n",
       "    <tr style=\"text-align: right;\">\n",
       "      <th></th>\n",
       "      <th>Email</th>\n",
       "      <th>Username</th>\n",
       "    </tr>\n",
       "  </thead>\n",
       "  <tbody>\n",
       "    <tr>\n",
       "      <th>0</th>\n",
       "      <td>john.doe@example.com</td>\n",
       "      <td>john.doe</td>\n",
       "    </tr>\n",
       "    <tr>\n",
       "      <th>1</th>\n",
       "      <td>alice.smith@example.com</td>\n",
       "      <td>alice.smith</td>\n",
       "    </tr>\n",
       "    <tr>\n",
       "      <th>2</th>\n",
       "      <td>bob@gmail.com</td>\n",
       "      <td>bob</td>\n",
       "    </tr>\n",
       "  </tbody>\n",
       "</table>\n",
       "</div>"
      ],
      "text/plain": [
       "                     Email     Username\n",
       "0     john.doe@example.com     john.doe\n",
       "1  alice.smith@example.com  alice.smith\n",
       "2            bob@gmail.com          bob"
      ]
     },
     "execution_count": 62,
     "metadata": {},
     "output_type": "execute_result"
    }
   ],
   "source": [
    "def extract_username(df):\n",
    "    # Define a function to extract the username from an email address\n",
    "    def get_username(email):\n",
    "        return email.split('@')[0]\n",
    "\n",
    "    # Apply the get_username function to the 'Email' column and create a new 'Username' column\n",
    "    df['Username'] = df['Email'].apply(get_username)\n",
    "\n",
    "    return df\n",
    "df = pd.DataFrame({'Email': ['john.doe@example.com', 'alice.smith@example.com', 'bob@gmail.com']})\n",
    "df = extract_username(df)\n",
    "df"
   ]
  },
  {
   "cell_type": "code",
   "execution_count": 63,
   "id": "cf021035-af76-4d04-9999-5dcc9ee305e7",
   "metadata": {},
   "outputs": [
    {
     "data": {
      "text/html": [
       "<div>\n",
       "<style scoped>\n",
       "    .dataframe tbody tr th:only-of-type {\n",
       "        vertical-align: middle;\n",
       "    }\n",
       "\n",
       "    .dataframe tbody tr th {\n",
       "        vertical-align: top;\n",
       "    }\n",
       "\n",
       "    .dataframe thead th {\n",
       "        text-align: right;\n",
       "    }\n",
       "</style>\n",
       "<table border=\"1\" class=\"dataframe\">\n",
       "  <thead>\n",
       "    <tr style=\"text-align: right;\">\n",
       "      <th></th>\n",
       "      <th>Email</th>\n",
       "      <th>Username</th>\n",
       "    </tr>\n",
       "  </thead>\n",
       "  <tbody>\n",
       "    <tr>\n",
       "      <th>0</th>\n",
       "      <td>john.doe@example.com</td>\n",
       "      <td>john.doe</td>\n",
       "    </tr>\n",
       "    <tr>\n",
       "      <th>1</th>\n",
       "      <td>alice.smith@example.com</td>\n",
       "      <td>alice.smith</td>\n",
       "    </tr>\n",
       "    <tr>\n",
       "      <th>2</th>\n",
       "      <td>bob_jones@example.com</td>\n",
       "      <td>bob_jones</td>\n",
       "    </tr>\n",
       "  </tbody>\n",
       "</table>\n",
       "</div>"
      ],
      "text/plain": [
       "                     Email     Username\n",
       "0     john.doe@example.com     john.doe\n",
       "1  alice.smith@example.com  alice.smith\n",
       "2    bob_jones@example.com    bob_jones"
      ]
     },
     "execution_count": 63,
     "metadata": {},
     "output_type": "execute_result"
    }
   ],
   "source": [
    "def extract_username_from_email(df):\n",
    "    # Use the str.split() method to split the 'Email' column on the '@' symbol and extract the first part (username)\n",
    "    df['Username'] = df['Email'].str.split('@').str[0]    \n",
    "    return df\n",
    "df = pd.DataFrame({'Email': ['john.doe@example.com', 'alice.smith@example.com', 'bob_jones@example.com']})\n",
    "df = extract_username_from_email(df)\n",
    "df"
   ]
  },
  {
   "cell_type": "markdown",
   "id": "838d2f48-2b61-4041-a10a-7bedec1a4739",
   "metadata": {},
   "source": [
    "# Answer 8:\n",
    "You have a Pandas DataFrame df with columns 'A', 'B', and 'C'. Write a Python function that selects\n",
    "all rows where the value in column 'A' is greater than 5 and the value in column 'B' is less than 10. The\n",
    "function should return a new DataFrame that contains only the selected rows.\n",
    "For example, if df contains the following values:\n",
    "\n",
    "A B C\n",
    "\n",
    "0 3 5 1\n",
    "\n",
    "1 8 2 7\n",
    "\n",
    "2 6 9 4\n",
    "\n",
    "3 2 3 5\n",
    "\n",
    "4 9 1 2\n",
    "\n",
    "Your function should select the following rows: A B C\n",
    "\n",
    "1 8 2 7\n",
    "\n",
    "4 9 1 2\n",
    "\n",
    "The function should return a new DataFrame that contains only the selected rows."
   ]
  },
  {
   "cell_type": "code",
   "execution_count": 69,
   "id": "e5d79d9d-7940-4d71-8762-f0fa72f181af",
   "metadata": {},
   "outputs": [
    {
     "data": {
      "text/html": [
       "<div>\n",
       "<style scoped>\n",
       "    .dataframe tbody tr th:only-of-type {\n",
       "        vertical-align: middle;\n",
       "    }\n",
       "\n",
       "    .dataframe tbody tr th {\n",
       "        vertical-align: top;\n",
       "    }\n",
       "\n",
       "    .dataframe thead th {\n",
       "        text-align: right;\n",
       "    }\n",
       "</style>\n",
       "<table border=\"1\" class=\"dataframe\">\n",
       "  <thead>\n",
       "    <tr style=\"text-align: right;\">\n",
       "      <th></th>\n",
       "      <th>A</th>\n",
       "      <th>B</th>\n",
       "      <th>C</th>\n",
       "    </tr>\n",
       "  </thead>\n",
       "  <tbody>\n",
       "    <tr>\n",
       "      <th>1</th>\n",
       "      <td>8</td>\n",
       "      <td>2</td>\n",
       "      <td>7</td>\n",
       "    </tr>\n",
       "    <tr>\n",
       "      <th>2</th>\n",
       "      <td>6</td>\n",
       "      <td>9</td>\n",
       "      <td>4</td>\n",
       "    </tr>\n",
       "    <tr>\n",
       "      <th>4</th>\n",
       "      <td>9</td>\n",
       "      <td>1</td>\n",
       "      <td>2</td>\n",
       "    </tr>\n",
       "  </tbody>\n",
       "</table>\n",
       "</div>"
      ],
      "text/plain": [
       "   A  B  C\n",
       "1  8  2  7\n",
       "2  6  9  4\n",
       "4  9  1  2"
      ]
     },
     "execution_count": 69,
     "metadata": {},
     "output_type": "execute_result"
    }
   ],
   "source": [
    "def func_new(df):\n",
    "    df1=df[(df['A']>5)&(df['B']<10)]\n",
    "    return df1\n",
    "df=pd.DataFrame({'A':[3,8,6,2,9],'B':[5,2,9,3,1],'C':[1,7,4,5,2]})\n",
    "new_df=func_new(df)\n",
    "new_df"
   ]
  },
  {
   "cell_type": "markdown",
   "id": "99d43a8c-72d1-432c-a4f7-adb9a716a363",
   "metadata": {},
   "source": [
    "# Answer 9:\n",
    "Given a Pandas DataFrame df with a column 'Values', write a Python function to calculate the mean,\n",
    "median, and standard deviation of the values in the 'Values' column."
   ]
  },
  {
   "cell_type": "code",
   "execution_count": 84,
   "id": "9f088551-c154-4260-9e2e-76790ab69c9a",
   "metadata": {},
   "outputs": [
    {
     "name": "stdout",
     "output_type": "stream",
     "text": [
      "Mean Values    4.0\n",
      "dtype: float64\n",
      "Median Values    4.0\n",
      "dtype: float64\n",
      "standard deviation Values    2.160247\n",
      "dtype: float64\n"
     ]
    },
    {
     "data": {
      "text/html": [
       "<div>\n",
       "<style scoped>\n",
       "    .dataframe tbody tr th:only-of-type {\n",
       "        vertical-align: middle;\n",
       "    }\n",
       "\n",
       "    .dataframe tbody tr th {\n",
       "        vertical-align: top;\n",
       "    }\n",
       "\n",
       "    .dataframe thead th {\n",
       "        text-align: right;\n",
       "    }\n",
       "</style>\n",
       "<table border=\"1\" class=\"dataframe\">\n",
       "  <thead>\n",
       "    <tr style=\"text-align: right;\">\n",
       "      <th></th>\n",
       "      <th>Values</th>\n",
       "    </tr>\n",
       "  </thead>\n",
       "  <tbody>\n",
       "    <tr>\n",
       "      <th>0</th>\n",
       "      <td>1</td>\n",
       "    </tr>\n",
       "    <tr>\n",
       "      <th>1</th>\n",
       "      <td>2</td>\n",
       "    </tr>\n",
       "    <tr>\n",
       "      <th>2</th>\n",
       "      <td>3</td>\n",
       "    </tr>\n",
       "    <tr>\n",
       "      <th>3</th>\n",
       "      <td>4</td>\n",
       "    </tr>\n",
       "    <tr>\n",
       "      <th>4</th>\n",
       "      <td>5</td>\n",
       "    </tr>\n",
       "    <tr>\n",
       "      <th>5</th>\n",
       "      <td>6</td>\n",
       "    </tr>\n",
       "    <tr>\n",
       "      <th>6</th>\n",
       "      <td>7</td>\n",
       "    </tr>\n",
       "  </tbody>\n",
       "</table>\n",
       "</div>"
      ],
      "text/plain": [
       "   Values\n",
       "0       1\n",
       "1       2\n",
       "2       3\n",
       "3       4\n",
       "4       5\n",
       "5       6\n",
       "6       7"
      ]
     },
     "execution_count": 84,
     "metadata": {},
     "output_type": "execute_result"
    }
   ],
   "source": [
    "df=pd.DataFrame({'Values':[1,2,3,4,5,6,7]})\n",
    "def calc_mean_median_std(df):\n",
    "    mean=df.mean()\n",
    "    median=df.median()\n",
    "    std_dev=df.std()\n",
    "    print('Mean',mean)\n",
    "    print('Median',median)\n",
    "    print('standard deviation',std_dev)\n",
    "calc_mean_median_std(df)\n",
    "df"
   ]
  },
  {
   "cell_type": "markdown",
   "id": "c6495b5f-e262-4003-9db0-a4ed0f26e699",
   "metadata": {},
   "source": [
    "# Answer 10:\n",
    "Given a Pandas DataFrame df with a column 'Sales' and a column 'Date', write a Python function to\n",
    "create a new column 'MovingAverage' that contains the moving average of the sales for the past 7 days\n",
    "for each row in the DataFrame. The moving average should be calculated using a window of size 7 and\n",
    "should include the current day."
   ]
  },
  {
   "cell_type": "code",
   "execution_count": 4,
   "id": "79bfbf13-5355-4be7-97aa-ef175d1fdaed",
   "metadata": {},
   "outputs": [
    {
     "data": {
      "text/html": [
       "<div>\n",
       "<style scoped>\n",
       "    .dataframe tbody tr th:only-of-type {\n",
       "        vertical-align: middle;\n",
       "    }\n",
       "\n",
       "    .dataframe tbody tr th {\n",
       "        vertical-align: top;\n",
       "    }\n",
       "\n",
       "    .dataframe thead th {\n",
       "        text-align: right;\n",
       "    }\n",
       "</style>\n",
       "<table border=\"1\" class=\"dataframe\">\n",
       "  <thead>\n",
       "    <tr style=\"text-align: right;\">\n",
       "      <th></th>\n",
       "      <th>Date</th>\n",
       "      <th>Sales</th>\n",
       "      <th>MovingAverage</th>\n",
       "    </tr>\n",
       "  </thead>\n",
       "  <tbody>\n",
       "    <tr>\n",
       "      <th>0</th>\n",
       "      <td>2023-07-01</td>\n",
       "      <td>100</td>\n",
       "      <td>100.0</td>\n",
       "    </tr>\n",
       "    <tr>\n",
       "      <th>1</th>\n",
       "      <td>2023-07-02</td>\n",
       "      <td>150</td>\n",
       "      <td>125.0</td>\n",
       "    </tr>\n",
       "    <tr>\n",
       "      <th>2</th>\n",
       "      <td>2023-07-03</td>\n",
       "      <td>200</td>\n",
       "      <td>150.0</td>\n",
       "    </tr>\n",
       "  </tbody>\n",
       "</table>\n",
       "</div>"
      ],
      "text/plain": [
       "        Date  Sales  MovingAverage\n",
       "0 2023-07-01    100          100.0\n",
       "1 2023-07-02    150          125.0\n",
       "2 2023-07-03    200          150.0"
      ]
     },
     "execution_count": 4,
     "metadata": {},
     "output_type": "execute_result"
    }
   ],
   "source": [
    "import pandas as pd\n",
    "\n",
    "def calculate_moving_average(df):\n",
    "    # Sort the DataFrame by the 'Date' column to ensure the rolling window works correctly\n",
    "    df.sort_values(by='Date', inplace=True)\n",
    "\n",
    "    # Calculate the moving average using a rolling window of size 7\n",
    "    df['MovingAverage'] = df['Sales'].rolling(window=7, min_periods=1).mean()\n",
    "\n",
    "    return df\n",
    "\n",
    "df = pd.DataFrame({\n",
    "     'Date': ['2023-07-01', '2023-07-02', '2023-07-03'],  # List of dates\n",
    "     'Sales': [100, 150, 200]  # List of sales values \n",
    " })\n",
    "df['Date'] = pd.to_datetime(df['Date'])  # Convert the 'Date' column to datetime if it's not already\n",
    "df = calculate_moving_average(df)\n",
    "df\n"
   ]
  },
  {
   "cell_type": "markdown",
   "id": "e77ddaa1-01e3-4c49-9fb8-2c08086cb649",
   "metadata": {},
   "source": [
    "# Answer 11:"
   ]
  },
  {
   "cell_type": "markdown",
   "id": "a09aeeeb-0413-4ed8-8d6d-7217787eb74f",
   "metadata": {},
   "source": [
    "You have a Pandas DataFrame df with a column 'Date'. Write a Python function that creates a new\n",
    "column 'Weekday' in the DataFrame. The 'Weekday' column should contain the weekday name (e.g.\n",
    "Monday, Tuesday) corresponding to each date in the 'Date' column.\n",
    "For example, if df contains the following values:\n",
    "Date\n",
    "\n",
    "0 2023-01-01\n",
    "\n",
    "1 2023-01-02\n",
    "\n",
    "2 2023-01-03\n",
    "\n",
    "3 2023-01-04\n",
    "\n",
    "4 2023-01-05\n",
    "\n",
    "Your function should create the following DataFrame:\n",
    "\n",
    "Date Weekday\n",
    "\n",
    "0 2023-01-01 Sunday\n",
    "\n",
    "1 2023-01-02 Monday\n",
    "\n",
    "2 2023-01-03 Tuesday\n",
    "\n",
    "3 2023-01-04 Wednesday\n",
    "\n",
    "4 2023-01-05 Thursday\n",
    "\n",
    "The function should return the modified DataFrame."
   ]
  },
  {
   "cell_type": "code",
   "execution_count": 9,
   "id": "73a34d68-461a-4372-a6cf-5be50a7ee248",
   "metadata": {},
   "outputs": [
    {
     "data": {
      "text/html": [
       "<div>\n",
       "<style scoped>\n",
       "    .dataframe tbody tr th:only-of-type {\n",
       "        vertical-align: middle;\n",
       "    }\n",
       "\n",
       "    .dataframe tbody tr th {\n",
       "        vertical-align: top;\n",
       "    }\n",
       "\n",
       "    .dataframe thead th {\n",
       "        text-align: right;\n",
       "    }\n",
       "</style>\n",
       "<table border=\"1\" class=\"dataframe\">\n",
       "  <thead>\n",
       "    <tr style=\"text-align: right;\">\n",
       "      <th></th>\n",
       "      <th>Date</th>\n",
       "      <th>weekdays</th>\n",
       "    </tr>\n",
       "  </thead>\n",
       "  <tbody>\n",
       "    <tr>\n",
       "      <th>0</th>\n",
       "      <td>2023-01-01</td>\n",
       "      <td>Sunday</td>\n",
       "    </tr>\n",
       "    <tr>\n",
       "      <th>1</th>\n",
       "      <td>2023-01-02</td>\n",
       "      <td>Monday</td>\n",
       "    </tr>\n",
       "    <tr>\n",
       "      <th>2</th>\n",
       "      <td>2023-01-03</td>\n",
       "      <td>Tuesday</td>\n",
       "    </tr>\n",
       "    <tr>\n",
       "      <th>3</th>\n",
       "      <td>2023-01-04</td>\n",
       "      <td>Wednesday</td>\n",
       "    </tr>\n",
       "    <tr>\n",
       "      <th>4</th>\n",
       "      <td>2023-01-05</td>\n",
       "      <td>Thursday</td>\n",
       "    </tr>\n",
       "  </tbody>\n",
       "</table>\n",
       "</div>"
      ],
      "text/plain": [
       "         Date   weekdays\n",
       "0  2023-01-01     Sunday\n",
       "1  2023-01-02     Monday\n",
       "2  2023-01-03    Tuesday\n",
       "3  2023-01-04  Wednesday\n",
       "4  2023-01-05   Thursday"
      ]
     },
     "execution_count": 9,
     "metadata": {},
     "output_type": "execute_result"
    }
   ],
   "source": [
    "def weekdays(df):\n",
    "    df['weekdays']=['Sunday','Monday','Tuesday','Wednesday','Thursday']\n",
    "    return df\n",
    "df=pd.DataFrame({'Date':['2023-01-01','2023-01-02','2023-01-03','2023-01-04','2023-01-05']})\n",
    "weekdays(df)\n",
    "df"
   ]
  },
  {
   "cell_type": "markdown",
   "id": "78afd048-26de-44e2-a24f-9c6301c0c5f6",
   "metadata": {},
   "source": [
    "# Answer 12:"
   ]
  },
  {
   "cell_type": "markdown",
   "id": "ca776718-ac9c-4508-95a0-14c40092e9cd",
   "metadata": {},
   "source": [
    "Given a Pandas DataFrame df with a column 'Date' that contains timestamps, write a Python\n",
    "function to select all rows where the date is between '2023-01-01' and '2023-01-31'."
   ]
  },
  {
   "cell_type": "code",
   "execution_count": 3,
   "id": "6bafb8cb-7460-4f37-829a-52a9135a31cc",
   "metadata": {},
   "outputs": [
    {
     "data": {
      "text/html": [
       "<div>\n",
       "<style scoped>\n",
       "    .dataframe tbody tr th:only-of-type {\n",
       "        vertical-align: middle;\n",
       "    }\n",
       "\n",
       "    .dataframe tbody tr th {\n",
       "        vertical-align: top;\n",
       "    }\n",
       "\n",
       "    .dataframe thead th {\n",
       "        text-align: right;\n",
       "    }\n",
       "</style>\n",
       "<table border=\"1\" class=\"dataframe\">\n",
       "  <thead>\n",
       "    <tr style=\"text-align: right;\">\n",
       "      <th></th>\n",
       "      <th>Date</th>\n",
       "      <th>Value</th>\n",
       "    </tr>\n",
       "  </thead>\n",
       "  <tbody>\n",
       "    <tr>\n",
       "      <th>0</th>\n",
       "      <td>2023-01-01</td>\n",
       "      <td>10</td>\n",
       "    </tr>\n",
       "    <tr>\n",
       "      <th>1</th>\n",
       "      <td>2023-01-15</td>\n",
       "      <td>20</td>\n",
       "    </tr>\n",
       "    <tr>\n",
       "      <th>3</th>\n",
       "      <td>2023-01-10</td>\n",
       "      <td>40</td>\n",
       "    </tr>\n",
       "  </tbody>\n",
       "</table>\n",
       "</div>"
      ],
      "text/plain": [
       "        Date  Value\n",
       "0 2023-01-01     10\n",
       "1 2023-01-15     20\n",
       "3 2023-01-10     40"
      ]
     },
     "execution_count": 3,
     "metadata": {},
     "output_type": "execute_result"
    }
   ],
   "source": [
    "import pandas as pd\n",
    "\n",
    "def select_rows_between_dates(df):\n",
    "    # Convert the 'Date' column to datetime if it's not already\n",
    "    df['Date'] = pd.to_datetime(df['Date'])\n",
    "\n",
    "    # Define the start and end dates for the filter\n",
    "    start_date = pd.to_datetime('2023-01-01')\n",
    "    end_date = pd.to_datetime('2023-01-31')\n",
    "\n",
    "    # Use boolean indexing to select rows between the start and end dates\n",
    "    selected_rows = df[(df['Date'] >= start_date) & (df['Date'] <= end_date)]\n",
    "\n",
    "    return selected_rows\n",
    "\n",
    "df = pd.DataFrame({'Date': ['2023-01-01', '2023-01-15', '2023-02-01', '2023-01-10'],\n",
    "                    'Value': [10, 20, 30, 40]})\n",
    "df = select_rows_between_dates(df)\n",
    "df\n"
   ]
  },
  {
   "cell_type": "markdown",
   "id": "8d48c152-bb08-45e5-a0fe-61206fadb445",
   "metadata": {},
   "source": [
    "# Answer 13:\n",
    "The first and foremost necessary library that needs to be imported to use the basic functions of pandas is pandas itself. You can import pandas using the import statement in Python:\n",
    "\n",
    "import pandas as pd\n"
   ]
  },
  {
   "cell_type": "code",
   "execution_count": null,
   "id": "4edf83f1-f097-4ecd-832e-597bc6619b59",
   "metadata": {},
   "outputs": [],
   "source": []
  }
 ],
 "metadata": {
  "kernelspec": {
   "display_name": "Python 3 (ipykernel)",
   "language": "python",
   "name": "python3"
  },
  "language_info": {
   "codemirror_mode": {
    "name": "ipython",
    "version": 3
   },
   "file_extension": ".py",
   "mimetype": "text/x-python",
   "name": "python",
   "nbconvert_exporter": "python",
   "pygments_lexer": "ipython3",
   "version": "3.10.8"
  }
 },
 "nbformat": 4,
 "nbformat_minor": 5
}
