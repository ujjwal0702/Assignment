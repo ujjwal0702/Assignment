{
 "cells": [
  {
   "cell_type": "markdown",
   "id": "15922c78-091f-42d4-819f-e1781aae60e9",
   "metadata": {},
   "source": [
    "# Answer 1: What are the three measures of central tendency?"
   ]
  },
  {
   "cell_type": "markdown",
   "id": "fc33ce34-5610-46ec-be88-68c05668df49",
   "metadata": {},
   "source": [
    "\n",
    "The three measures of central tendency are:\n",
    "\n",
    "1. Mean: The mean, often referred to as the average, is calculated by summing up all the values in a dataset and then dividing by the total number of values. It is sensitive to extreme values (outliers) and can be influenced by their presence.\n",
    "\n",
    "2. Median: The median is the middle value in a dataset when the values are arranged in order. If the dataset has an odd number of values, the median is the middle value itself. If the dataset has an even number of values, the median is the average of the two middle values. The median is less affected by extreme values compared to the mean.\n",
    "\n",
    "3. Mode: The mode is the value that appears most frequently in a dataset. A dataset can have one mode (unimodal), more than one mode (multimodal), or no mode if all values occur with the same frequency. Unlike the mean and median, the mode can be applied to both numerical and categorical data."
   ]
  },
  {
   "cell_type": "markdown",
   "id": "f357b0cf-0f6e-4c95-b179-8187337e66c2",
   "metadata": {},
   "source": [
    "# Answer 2: What is the difference between the mean, median, and mode? How are they used to measure the central tendency of a dataset?"
   ]
  },
  {
   "cell_type": "markdown",
   "id": "075dfd1b-d3f9-465d-b683-7ad9507c6e44",
   "metadata": {},
   "source": [
    "The mean, median, and mode are three different measures of central tendency used to describe the \"center\" or \"typical\" value of a dataset. While they all provide information about the central location of the data, they do so in slightly different ways and are appropriate to use in different situations:\n",
    "\n",
    "1. Mean:\n",
    "\n",
    "* Calculation: The mean is calculated by adding up all the values in a dataset and then dividing by the total number of values.\n",
    "* Sensitivity to Outliers: The mean is sensitive to extreme values (outliers) because it takes into account every value in the dataset.\n",
    "* Use Case: The mean is commonly used when the dataset has a relatively symmetric distribution without significant outliers. It provides a balanced representation of the entire dataset.\n",
    "* Example: Calculating the average score of a class where most students scored around a similar range.\n",
    "\n",
    "2. Median:\n",
    "\n",
    "* Calculation: The median is the middle value in a dataset when values are arranged in order. If there's an odd number of values, the median is the middle value itself. If there's an even number of values, the median is the average of the two middle values.\n",
    "* Sensitivity to Outliers: The median is less affected by outliers compared to the mean because it focuses on the position of values rather than their magnitude.\n",
    "* Use Case: The median is useful when the dataset contains outliers or when the distribution is skewed (asymmetric). It provides a value that represents the middle of the dataset, making it a good choice for describing central tendency in non-normal distributions.\n",
    "* Example: Finding the middle income value in a salary dataset, where a few extremely high salaries could heavily skew the mean.\n",
    "\n",
    "3. Mode:\n",
    "\n",
    "* Calculation: The mode is the value that appears most frequently in a dataset.\n",
    "* Sensitivity to Outliers: The mode is not influenced by outliers since it only considers the frequency of values.\n",
    "* Use Case: The mode is useful when identifying the most common value or category in a dataset. It can be applied to both numerical and categorical data and is helpful for understanding the most prevalent characteristic.\n",
    "* Example: Identifying the most commonly chosen favorite color from a survey."
   ]
  },
  {
   "cell_type": "markdown",
   "id": "47be95c8-3678-43ae-a1e5-537d851dea54",
   "metadata": {},
   "source": [
    "# Answer 3: Measure the three measures of central tendency for the given height data:\n",
    "[178,177,176,177,178.2,178,175,179,180,175,178.9,176.2,177,172.5,178,176.5]"
   ]
  },
  {
   "cell_type": "code",
   "execution_count": 10,
   "id": "7947e4c1-b978-48ca-a17e-3a40c24d04f6",
   "metadata": {},
   "outputs": [
    {
     "name": "stdout",
     "output_type": "stream",
     "text": [
      "Mean Height: 177.01875\n",
      "Median Height: 177.0\n",
      "Mode Height: 178\n"
     ]
    }
   ],
   "source": [
    "import statistics\n",
    "\n",
    "height_data = [178, 177, 176, 177, 178.2, 178, 175, 179, 180, 175, 178.9, 176.2, 177, 172.5, 178, 176.5]\n",
    "\n",
    "mean_height = statistics.mean(height_data)\n",
    "median_height = statistics.median(height_data)\n",
    "mode_height = statistics.mode(height_data)\n",
    "\n",
    "print(\"Mean Height:\", mean_height)\n",
    "print(\"Median Height:\", median_height)\n",
    "print(\"Mode Height:\", mode_height)"
   ]
  },
  {
   "cell_type": "markdown",
   "id": "1ec226e2-eaa2-452b-a367-cbac153f2e29",
   "metadata": {},
   "source": [
    "# Answer 4: Find the standard deviation for the given data:\n",
    "[178,177,176,177,178.2,178,175,179,180,175,178.9,176.2,177,172.5,178,176.5]"
   ]
  },
  {
   "cell_type": "code",
   "execution_count": 11,
   "id": "7660ccf3-2e61-42a8-be24-528cc3b8b631",
   "metadata": {},
   "outputs": [
    {
     "name": "stdout",
     "output_type": "stream",
     "text": [
      "Standard Deviation: 1.8472389305844188\n"
     ]
    }
   ],
   "source": [
    "import statistics\n",
    "\n",
    "height_data = [178, 177, 176, 177, 178.2, 178, 175, 179, 180, 175, 178.9, 176.2, 177, 172.5, 178, 176.5]\n",
    "\n",
    "std_dev = statistics.stdev(height_data)\n",
    "\n",
    "print(\"Standard Deviation:\", std_dev)"
   ]
  },
  {
   "cell_type": "markdown",
   "id": "08b492bd-4fd4-4871-b72a-c6ae3c65467e",
   "metadata": {},
   "source": [
    "# Answer 5: How are measures of dispersion such as range, variance, and standard deviation used to describe the spread of a dataset? Provide an example."
   ]
  },
  {
   "cell_type": "markdown",
   "id": "2b500f6a-1dc5-4aa2-952c-954759d6e8f8",
   "metadata": {},
   "source": [
    "Measures of dispersion, such as range, variance, and standard deviation, are used to describe the spread or variability of a dataset. They provide information about how the values in a dataset are distributed around the central tendency measures (like mean, median, or mode). These measures give insights into the level of diversity or consistency among the data points.\n",
    "\n",
    "Here's how these measures are used and an example to illustrate their concepts:\n",
    "\n",
    "1. **Range:**\n",
    "   - The range is the simplest measure of dispersion and is calculated as the difference between the maximum and minimum values in a dataset.\n",
    "   - It provides an idea of how spread out the data is over the entire range of values.\n",
    "   - Example: Consider the ages of a group of people: [25, 30, 35, 40, 45]. The range is 45 - 25 = 20, indicating that the ages vary by 20 years.\n",
    "\n",
    "2. **Variance:**\n",
    "   - Variance measures the average squared difference between each data point and the mean of the dataset.\n",
    "   - It gives an idea of how individual data points deviate from the mean.\n",
    "   - Variance can be influenced by outliers.\n",
    "   - Example: Imagine a dataset of exam scores: [85, 90, 88, 92, 75]. The mean is 86. Variance would be calculated as:\n",
    "     \n",
    "     ```\n",
    "     Variance = ((85 - 86)^2 + (90 - 86)^2 + (88 - 86)^2 + (92 - 86)^2 + (75 - 86)^2) / 5 ≈ 33.2\n",
    "     ```\n",
    "\n",
    "3. **Standard Deviation:**\n",
    "   - Standard deviation is the square root of the variance. It gives a measure of how much the data points deviate from the mean, on average.\n",
    "   - It is a widely used and more interpretable measure than variance.\n",
    "   - Like variance, standard deviation can also be influenced by outliers.\n",
    "   - Example: Using the same exam scores data, the standard deviation would be the square root of the calculated variance, approximately 5.76."
   ]
  },
  {
   "cell_type": "markdown",
   "id": "63da0ec0-801a-4394-83c1-8e7a5b51f24b",
   "metadata": {},
   "source": [
    "# Answer 6: What is a Venn diagram?"
   ]
  },
  {
   "cell_type": "markdown",
   "id": "af54a8ab-1083-4148-8f61-58ff5deed6cd",
   "metadata": {},
   "source": [
    "\n",
    "A Venn diagram is a graphical representation used to illustrate the relationships between sets of elements. It consists of overlapping circles or other closed curves, each representing a set, and the areas of overlap represent the elements that are shared between those sets. Venn diagrams are commonly used in mathematics, logic, statistics, and other fields to visually display the intersections and differences between different sets.\n",
    "\n",
    "The primary purpose of a Venn diagram is to visually show how elements are distributed across different sets, enabling easy identification of common elements, distinct elements, and the relationships between sets. Venn diagrams are particularly useful when working with sets and set operations, such as union, intersection, and complement.\n",
    "\n",
    "Venn diagrams can become more complex with multiple sets, and they can be used to represent a wide range of concepts, from simple logical relationships to more intricate data analysis scenarios."
   ]
  },
  {
   "cell_type": "markdown",
   "id": "04562d98-875a-4f2b-8354-dc8599aa50d2",
   "metadata": {},
   "source": [
    "# Answer 7: For the two given sets \n",
    "A = (2,3,4,5,6,7) & B = (0,2,6,8,10). \n",
    "Find:\n",
    "\n",
    "(i) A intersection B\n",
    "(ii) A ⋃ B"
   ]
  },
  {
   "cell_type": "markdown",
   "id": "84e3167e-ca6e-4463-82de-933c620f305d",
   "metadata": {},
   "source": [
    "(i) (2,6)\n",
    "\n",
    "(ii) (0,2,3,4,5,6,7,8,10)\n",
    " "
   ]
  },
  {
   "cell_type": "markdown",
   "id": "cdcf95e2-b4e8-47e6-9be9-3d8df393cf8a",
   "metadata": {},
   "source": [
    "# Answer 8: What do you understand about skewness in data?"
   ]
  },
  {
   "cell_type": "markdown",
   "id": "30ead7da-18e0-4ff5-8583-adb48bf6b060",
   "metadata": {},
   "source": [
    "Skewness in data refers to the asymmetry or lack of symmetry in the distribution of values. It is a statistical measure that indicates the degree to which a dataset's distribution deviates from being symmetric. In a perfectly symmetric distribution, the values are evenly distributed around the center, such as in a normal (bell-shaped) distribution. However, in skewed distributions, the data tends to be concentrated more on one side of the center, leading to a \"tail\" on one side of the distribution.\n",
    "\n",
    "There are two main types of skewness:\n",
    "\n",
    "1. **Positive Skew (Right Skew):**\n",
    "   - In a positively skewed distribution, the tail of the distribution extends more to the right side (larger values).\n",
    "   - The mean tends to be larger than the median in a positively skewed distribution because the presence of a few extremely high values pulls the mean in that direction.\n",
    "   - Positive skewness is also known as right skewness.\n",
    "   - Examples of datasets that might exhibit positive skew include income distributions or exam scores when most students perform well and a few score exceptionally high.\n",
    "\n",
    "2. **Negative Skew (Left Skew):**\n",
    "   - In a negatively skewed distribution, the tail of the distribution extends more to the left side (smaller values).\n",
    "   - The mean tends to be smaller than the median in a negatively skewed distribution because the presence of a few extremely low values drags the mean in that direction.\n",
    "   - Negative skewness is also known as left skewness.\n",
    "   - Examples of datasets that might exhibit negative skew include the ages of a population where there's an upper age limit (e.g., employment in certain professions).\n",
    "\n",
    "Measuring skewness quantitatively is often done using various statistical methods, with one common approach being the calculation of the skewness coefficient. Positive skewness values indicate positive skew, negative values indicate negative skew, and a skewness value close to 0 suggests a relatively symmetric distribution."
   ]
  },
  {
   "cell_type": "markdown",
   "id": "ffed7830-1a55-4db7-80cd-3c078d703468",
   "metadata": {},
   "source": [
    "# Answer 9: If a data is right skewed then what will be the position of median with respect to mean?"
   ]
  },
  {
   "cell_type": "markdown",
   "id": "7754d359-8f83-403a-83a5-e5ce17c80e29",
   "metadata": {},
   "source": [
    "In a right-skewed distribution, where the tail of the distribution extends to the right (larger values), the median will typically be positioned to the left of the mean.\n",
    "\n",
    "Here's why:\n",
    "\n",
    "- **Right Skew:** In a right-skewed distribution, the presence of a few extremely high values pulls the mean toward the right. These high values contribute to the longer tail on the right side of the distribution.\n",
    "\n",
    "- **Median:** The median is the middle value in a dataset when values are arranged in order. Since the tail of a right-skewed distribution contains the high values, the median, being the middle value, is less affected by these extreme values. It is pulled toward the larger values but remains closer to the bulk of the data.\n",
    "\n",
    "- **Mean:** The mean is sensitive to outliers, including the extreme high values in a right-skewed distribution. As a result, it is pulled further to the right by these values."
   ]
  },
  {
   "cell_type": "markdown",
   "id": "17ff7803-99ee-48f2-9617-5785b47f6356",
   "metadata": {},
   "source": [
    "# Answer 10: Explain the difference between covariance and correlation. How are these measures used in statistical analysis?"
   ]
  },
  {
   "cell_type": "markdown",
   "id": "205aac0e-bea5-45ae-8e63-d35282772c3e",
   "metadata": {},
   "source": [
    "Covariance and correlation are both measures used to describe the relationship between two variables in a dataset. However, they have different interpretations and properties, and they are used to convey different aspects of the relationship between variables.\n",
    "\n",
    "**Covariance:**\n",
    "Covariance measures the degree to which two variables change together. It indicates whether an increase in one variable tends to be accompanied by an increase or decrease in the other variable. A positive covariance suggests that the variables tend to increase together, while a negative covariance suggests that one variable tends to increase as the other decreases.\n",
    "\n",
    "Mathematically, the formula for the covariance between two variables X and Y is:\n",
    "\n",
    "```\n",
    "cov(X, Y) = Σ((Xi - X̄) * (Yi - Ȳ)) / (n - 1)\n",
    "```\n",
    "\n",
    "Where:\n",
    "- Xi and Yi are individual data points of variables X and Y.\n",
    "- X̄ and Ȳ are the means of variables X and Y.\n",
    "- n is the number of data points.\n",
    "\n",
    "**Correlation:**\n",
    "Correlation, on the other hand, is a standardized measure that provides information about the strength and direction of the linear relationship between two variables. Unlike covariance, correlation takes values between -1 and 1. A correlation coefficient of 1 indicates a perfect positive linear relationship, -1 indicates a perfect negative linear relationship, and 0 indicates no linear relationship.\n",
    "\n",
    "The most commonly used correlation coefficient is the Pearson correlation coefficient, which is given by:\n",
    "\n",
    "```\n",
    "ρ(X, Y) = cov(X, Y) / (σX * σY)\n",
    "```\n",
    "\n",
    "Where:\n",
    "- cov(X, Y) is the covariance between variables X and Y.\n",
    "- σX and σY are the standard deviations of variables X and Y.\n",
    "\n",
    "**Differences:**\n",
    "- Covariance is not standardized and depends on the units of the variables, making it hard to interpret directly. Correlation, being standardized, is unitless and easier to interpret.\n",
    "- Covariance only measures the direction of the relationship (positive or negative), while correlation provides both the direction and the strength of the relationship.\n",
    "- Correlation is more suitable for comparing the relationships between variables with different units.\n",
    "\n",
    "**Usage:**\n",
    "Covariance and correlation are used in statistical analysis for various purposes:\n",
    "- **Covariance:** It's used to understand how changes in one variable are associated with changes in another variable. However, without standardization, it can be difficult to compare covariances between different sets of variables.\n",
    "- **Correlation:** It's used to quantify and compare the strength and direction of linear relationships between variables. It's widely used in fields like economics, finance, and data analysis to identify trends and dependencies in data. High correlations might indicate potential relationships that warrant further investigation, while low correlations might suggest weaker associations.\n",
    "\n"
   ]
  },
  {
   "cell_type": "markdown",
   "id": "32badcb4-79f5-4caa-863a-7cfdc99672d0",
   "metadata": {},
   "source": [
    "# Answer 11: What is the formula for calculating the sample mean? Provide an example calculation for a dataset."
   ]
  },
  {
   "cell_type": "markdown",
   "id": "395f6031-078d-4bfc-84e5-f05b4276ba30",
   "metadata": {},
   "source": [
    "The formula for calculating the sample mean (average) of a dataset is as follows:\n",
    "\n",
    "```\n",
    "Sample Mean = (Sum of all data points) / (Number of data points)\n",
    "```\n",
    "\n",
    "Mathematically, this can be expressed as:\n",
    "\n",
    "```\n",
    "Sample Mean = Σ(xi) / n\n",
    "```\n",
    "\n",
    "Where:\n",
    "- `Σ(xi)` represents the sum of all individual data points in the dataset.\n",
    "- `n` represents the number of data points in the dataset.\n",
    "\n",
    "Here's an example calculation of the sample mean for a dataset:\n",
    "\n",
    "Consider the dataset: [15, 20, 25, 30, 35]\n",
    "\n",
    "To find the sample mean:\n",
    "\n",
    "```\n",
    "Sample Mean = (15 + 20 + 25 + 30 + 35) / 5\n",
    "Sample Mean = 125 / 5\n",
    "Sample Mean = 25\n",
    "```\n",
    "\n",
    "So, the sample mean of the dataset is 25."
   ]
  },
  {
   "cell_type": "markdown",
   "id": "0d79e2d5-b3d2-4114-96bc-015090cf9d40",
   "metadata": {},
   "source": [
    "# Answer 12: For a normal distribution data what is the relationship between its measure of central tendency?"
   ]
  },
  {
   "cell_type": "markdown",
   "id": "602d23ac-437a-4f45-ad41-e05f9f93d8f8",
   "metadata": {},
   "source": [
    "In a normal distribution, the three measures of central tendency—mean, median, and mode—are all equal to each other. This characteristic is one of the defining properties of a perfectly symmetric normal distribution.\n",
    "\n",
    "Here's how the measures of central tendency are related in a normal distribution:\n",
    "\n",
    "1. **Mean:** The mean of a normal distribution is located at the center of the distribution. It is the arithmetic average of all the data points and is the most common measure of central tendency used for a normal distribution.\n",
    "\n",
    "2. **Median:** The median of a normal distribution is also located at the center of the distribution. Since a normal distribution is symmetric, the median coincides with the mean and is found at the same point.\n",
    "\n",
    "3. **Mode:** The mode of a normal distribution is the value that occurs with the highest frequency. In a normal distribution, every value occurs with the same frequency, resulting in a flat, symmetric shape. This leads to the absence of any single mode, and the distribution is often referred to as \"mesokurtic.\"\n"
   ]
  },
  {
   "cell_type": "markdown",
   "id": "5e736321-8f73-404f-849c-b96618d1bb4e",
   "metadata": {
    "tags": []
   },
   "source": [
    "# Answer 13: How is covariance different from correlation?"
   ]
  },
  {
   "cell_type": "markdown",
   "id": "2fdad795-55fc-4f2c-b40b-1e4d1908c79f",
   "metadata": {},
   "source": [
    "Covariance and correlation are both measures used to describe the relationship between two variables, but they have different interpretations, properties, and scales. Here are the key differences between covariance and correlation:\n",
    "\n",
    "**1. Nature of Measurement:**\n",
    "- **Covariance:** Covariance measures the degree to which two variables change together. It indicates whether an increase in one variable is associated with an increase or decrease in the other variable. Covariance can take any value, positive or negative, and its magnitude is not standardized, making it difficult to directly interpret.\n",
    "- **Correlation:** Correlation is a standardized measure that quantifies the strength and direction of the linear relationship between two variables. It always takes values between -1 and 1. A correlation coefficient of 1 indicates a perfect positive linear relationship, -1 indicates a perfect negative linear relationship, and 0 indicates no linear relationship.\n",
    "\n",
    "**2. Units of Measurement:**\n",
    "- **Covariance:** Covariance is affected by the units of measurement of the variables. As a result, it can be challenging to compare covariances between datasets with different units.\n",
    "- **Correlation:** Correlation is unitless, which makes it easier to compare the strength and direction of relationships between variables with different units.\n",
    "\n",
    "**3. Interpretation:**\n",
    "- **Covariance:** Due to its non-standardized nature and dependence on units, covariance is more challenging to interpret directly. Positive covariance indicates that the variables tend to increase together, while negative covariance indicates that one variable tends to increase as the other decreases.\n",
    "- **Correlation:** Correlation provides a more straightforward interpretation. A positive correlation indicates that as one variable increases, the other tends to increase, and vice versa. A negative correlation indicates that as one variable increases, the other tends to decrease, and vice versa. The magnitude of the correlation coefficient indicates the strength of the relationship.\n",
    "\n",
    "**4. Scale:**\n",
    "- **Covariance:** Covariance does not have a fixed scale. Its value can vary widely based on the range and magnitude of the data.\n",
    "- **Correlation:** Correlation is standardized to a fixed scale between -1 and 1, allowing for easier comparison across different datasets.\n"
   ]
  },
  {
   "cell_type": "markdown",
   "id": "0106b4e5-19f3-4549-b887-cc9a7491dd4e",
   "metadata": {},
   "source": [
    "# Answer 14: How do outliers affect measures of central tendency and dispersion? Provide an example."
   ]
  },
  {
   "cell_type": "markdown",
   "id": "342e791b-f8d7-438d-84c4-9c4110e15021",
   "metadata": {},
   "source": [
    "Outliers are data points that significantly deviate from the rest of the data in a dataset. They can have a notable impact on measures of central tendency (mean, median, mode) and measures of dispersion (range, variance, standard deviation). Outliers can distort the summary statistics and provide an inaccurate representation of the dataset's characteristics.\n",
    "\n",
    "**Effect on Measures of Central Tendency:**\n",
    "\n",
    "1. **Mean:** Outliers, especially those that are far from the bulk of the data, can heavily influence the mean. They can pull the mean towards their extreme values. This is why the mean is often not a robust measure of central tendency in the presence of outliers.\n",
    "\n",
    "2. **Median:** The median is more robust to outliers compared to the mean. Since the median is the middle value when data is arranged in order, it is less affected by extreme values that are far from the center.\n",
    "\n",
    "3. **Mode:** The mode is relatively unaffected by outliers because it is simply the value that appears most frequently. Outliers won't necessarily affect the mode unless they are part of a new distinct pattern.\n",
    "\n",
    "**Effect on Measures of Dispersion:**\n",
    "\n",
    "1. **Range:** Outliers can significantly affect the range, as they might be located much farther from the other data points. This can result in an overestimated or underestimated range.\n",
    "\n",
    "2. **Variance and Standard Deviation:** Outliers can increase the variance and standard deviation, as these measures take into account the squared differences between data points and the mean. Since outliers tend to have larger squared differences due to their distance from the mean, they can inflate these measures.\n",
    "\n",
    "**Example:**\n",
    "\n",
    "Consider an income dataset for a small neighborhood:\n",
    "\n",
    "[2500, 2800, 3000, 3100, 3500, 3800, 4000, 4500, 4800, 10000]\n",
    "\n",
    "In this dataset, the value \"10000\" is an outlier as it is significantly larger than the other values. Let's see how outliers affect measures of central tendency and dispersion:\n",
    "\n",
    "- **Mean:** The mean is affected by the outlier, as it increases the overall average income. The mean might not accurately represent the typical income in the neighborhood due to this extreme value.\n",
    "- **Median:** The median is less affected by the outlier, as it is not as influenced by extreme values. The median will remain close to the center of the data.\n",
    "- **Range:** The range is significantly affected by the outlier, as it contributes to a much larger difference between the maximum and minimum values.\n",
    "- **Variance and Standard Deviation:** The presence of the outlier will increase the variance and standard deviation, as the squared differences between the data points and the mean will be larger due to the outlier's influence.\n",
    "\n",
    "In this example, the outlier impacts both the measures of central tendency and dispersion, highlighting the importance of considering outliers when analyzing and summarizing data."
   ]
  },
  {
   "cell_type": "code",
   "execution_count": null,
   "id": "bd029362-7932-4aa0-bb1a-e37e96b454ee",
   "metadata": {},
   "outputs": [],
   "source": []
  }
 ],
 "metadata": {
  "kernelspec": {
   "display_name": "Python 3 (ipykernel)",
   "language": "python",
   "name": "python3"
  },
  "language_info": {
   "codemirror_mode": {
    "name": "ipython",
    "version": 3
   },
   "file_extension": ".py",
   "mimetype": "text/x-python",
   "name": "python",
   "nbconvert_exporter": "python",
   "pygments_lexer": "ipython3",
   "version": "3.10.8"
  }
 },
 "nbformat": 4,
 "nbformat_minor": 5
}
