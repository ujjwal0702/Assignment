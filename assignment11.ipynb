{
 "cells": [
  {
   "cell_type": "markdown",
   "id": "2a6d0a7e-c737-42eb-8302-0b42d7801afc",
   "metadata": {},
   "source": [
    "#answer1:\n",
    "open() function is used to open a file. \n",
    "\n",
    "open() function can be used with different modes for opening a file.The different modes to open are:\n",
    "\n",
    "r: It is used to open the file in reading mode.If the file is not present the FILE NOT EXISTS error arrises\n",
    "\n",
    "w: It is used to open the file in reading mode. If the file already exists, its contents are truncated, and the file is opened in write mode. If the file doesn't exist, a new file is created. \n",
    "\n",
    "a: It is used to open the file in append mode or wditing mode which is already existing. The file pointer is placed at the end of the file, and if the file doesn't exist, a new file is created.\n",
    "\n",
    "x: It is used to create a new file and open it for writing. If the file already exists, a FileExistsError arrises.\n",
    "\n",
    "b: It is used to open a file in binary mode. It is generally used when working with non-text files such as images, videos, or audio files.\n",
    "\n",
    "t: It is used to open a file in text mode. It is the default mode when opening a file.\n",
    "\n",
    "+: It is used with \"r\" and \"w\" to open a file for both reading and writing. This is used when you want to update the contents of a file.\n"
   ]
  },
  {
   "cell_type": "markdown",
   "id": "c592d1b2-6e76-4dd0-823a-4dbc3319bf67",
   "metadata": {},
   "source": [
    "#answer2:\n",
    "close() function is used to close a file that has been opened using the open() function. Once you're finished working with a file, it's important to close it as doing so releases system resources that were used to keep the file open.\n",
    "Closing a file guarantees that any changes that are made to it are saved to disc. When you write to a file, the data is stored in memory in a buffer. "
   ]
  },
  {
   "cell_type": "code",
   "execution_count": 2,
   "id": "a10fd87b-6f3c-4b91-81be-a93b55388014",
   "metadata": {},
   "outputs": [
    {
     "data": {
      "text/plain": [
       "'I want to become a data sceintist'"
      ]
     },
     "execution_count": 2,
     "metadata": {},
     "output_type": "execute_result"
    }
   ],
   "source": [
    "#answer3\n",
    "f=open(\"ujjwal.txt\",'w')\n",
    "f.write(\"I want to become a data sceintist\")\n",
    "f.close()\n",
    "f=open(\"ujjwal.txt\",'r')\n",
    "f.read()"
   ]
  },
  {
   "cell_type": "markdown",
   "id": "cee892d3-80c1-4afa-b756-91b33611796a",
   "metadata": {},
   "source": [
    "#answer4:\n",
    "\n",
    "read() : It is used to read a number of characters from a file. If no argument is passed, it reads the entire file. For example:\n",
    "f = open(\"text1.txt\", 'r')\n",
    "d = file.read(5)\n",
    "print(d)\n",
    "f.close()\n",
    "\n",
    "readline() : It is used to read a single line from a file. Each time it's called, it reads the next line in the file. For example:\n",
    "f = open(\"text1.txt\", 'r')\n",
    "l1 = f.readline()\n",
    "l2 = f.readline()\n",
    "print(l1)\n",
    "print(l2)\n",
    "f.close()\n",
    "\n",
    "readlines() : It is used to read all the lines in a file and store them in a list. For example:\n",
    "f = open(\"text1.txt\", 'r')\n",
    "l = f.readlines()\n",
    "print(l)\n",
    "f.close()\n"
   ]
  },
  {
   "cell_type": "markdown",
   "id": "9414026e-c19d-484b-a1c3-f5dfc3da3586",
   "metadata": {},
   "source": [
    "#answer5: \n",
    "\n",
    "In Python, the with statement is used along with the open() function to open a file and perform various operations on it. It provides a simple way to ensure that the file is closed when the block of code inside the with statement is exited.\n",
    "\n",
    "with open(\"text1.txt\", \"r\") as file:\n",
    "\n",
    "The advantage of using the with statement with the open() function is that it assures that the file is correctly closed even if an exception is raised. It reduces the need to manually close the file, which can be easily forgotten and result in errors and resource leakage. "
   ]
  },
  {
   "cell_type": "markdown",
   "id": "725d12c9-5dc2-4cb7-a6b7-5c7d13c141f7",
   "metadata": {},
   "source": [
    "#answer6:\n",
    "\n",
    "write() : It is used to write a string of characters to a file. If the file already contains data, the new data will be appended to the end of the file. For example:\n",
    "f = open(\"text.txt\", \"w\")\n",
    "f.write(\"Hello, world!\")\n",
    "f.close()\n",
    "\n",
    "writelines() : It is used to write a list of strings to a file. Each string in the list represents a line of text, and a newline character is added after each string. For example\n",
    "f = open(\"text1.txt\", \"w\")\n",
    "l = [\"this is first line\",\"this is second line\",\"this is third line\"]\n",
    "f.writelines(l)\n",
    "f.close()\n"
   ]
  }
 ],
 "metadata": {
  "kernelspec": {
   "display_name": "Python 3 (ipykernel)",
   "language": "python",
   "name": "python3"
  },
  "language_info": {
   "codemirror_mode": {
    "name": "ipython",
    "version": 3
   },
   "file_extension": ".py",
   "mimetype": "text/x-python",
   "name": "python",
   "nbconvert_exporter": "python",
   "pygments_lexer": "ipython3",
   "version": "3.10.8"
  }
 },
 "nbformat": 4,
 "nbformat_minor": 5
}
