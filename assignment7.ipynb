{
 "cells": [
  {
   "cell_type": "code",
   "execution_count": 4,
   "id": "da94120d-e05c-4038-a449-e0c6f04d5adb",
   "metadata": {},
   "outputs": [
    {
     "name": "stdout",
     "output_type": "stream",
     "text": [
      "Valid Password\n"
     ]
    }
   ],
   "source": [
    "#answer1:\n",
    "def check_password(chk):\n",
    "    upper_case=0\n",
    "    lower_case=0\n",
    "    special_char=0\n",
    "    char_s=[\"@\",\"#\",\"$\",\"%\",\"&\",\"?\"]\n",
    "    if len(chk)!=10:\n",
    "        print(\"Invalid password\")\n",
    "    for i in chk:\n",
    "        if i.isupper():\n",
    "            upper_case+=1\n",
    "    for i in chk:\n",
    "        if i.islower():\n",
    "            lower_case+=1\n",
    "    for i in chk:\n",
    "        if i in char_s:\n",
    "            special_char+=1\n",
    "    if upper_case>=2 and lower_case>=2 and special_char>=3:\n",
    "        print(\"Valid Password\")\n",
    "        \n",
    "    else:\n",
    "        print(\"Invalid Password\")\n",
    "a=\"ABC&@&abcd\"\n",
    "check_password(a)"
   ]
  },
  {
   "cell_type": "code",
   "execution_count": 37,
   "id": "02a5e9c6-63e4-462d-b96c-86b301c21510",
   "metadata": {},
   "outputs": [
    {
     "name": "stdout",
     "output_type": "stream",
     "text": [
      "list of Positive Numbers: [1, 2, 3, 4, 5, 6]\n",
      "list of Negative Numbers: [-5, -4, -3, -2, -1]\n"
     ]
    }
   ],
   "source": [
    "#answer2:\n",
    "# 1\n",
    "s1=\"Ujjwal\"\n",
    "a=lambda l1:print(\"yes\") if l1[0]==\"U\" else print(\"no\")\n",
    "a(s1)\n",
    "# 2\n",
    "s2=\"1234\"\n",
    "a=lambda l1:l1.isdigit()\n",
    "a(s2)\n",
    "# 3\n",
    "l1=[(\"mango\",99),(\"orange\",80), (\"grapes\", 1000)]\n",
    "sort=sorted(l1,key=lambda x:x[1])\n",
    "print(sort)\n",
    "# 4\n",
    "l1=[1,2,3,4,5,6,7,8,9,10]\n",
    "list(map(lambda x:x**2,l1))\n",
    "# 5 \n",
    "l1=[1,2,3,4,5,6,7,8,9,10]\n",
    "list(map(lambda x:x**3,l1))\n",
    "# 6 \n",
    "y=lambda x:print(\"even\") if x%2==0 else print(\"odd\")\n",
    "y(8)\n",
    "# 7\n",
    "a=[1,2,3,4,5,6,7,8,9,10]\n",
    "list(filter(lambda x:x%2!=0,a))\n",
    "# 8\n",
    "l1= [1,2,3,4,5,6,-1,-2,-3,-4,-5,0]\n",
    "p_num=sorted(filter(lambda x: x > 0, l1))\n",
    "n_num=sorted(filter(lambda x: x < 0, l1))\n",
    "print(\"list of Positive Numbers:\", p_num)\n",
    "print(\"list of Negative Numbers:\", n_num)"
   ]
  },
  {
   "cell_type": "code",
   "execution_count": null,
   "id": "b3c55384-5b53-412c-a956-a5db0e87b57d",
   "metadata": {},
   "outputs": [],
   "source": []
  }
 ],
 "metadata": {
  "kernelspec": {
   "display_name": "Python 3 (ipykernel)",
   "language": "python",
   "name": "python3"
  },
  "language_info": {
   "codemirror_mode": {
    "name": "ipython",
    "version": 3
   },
   "file_extension": ".py",
   "mimetype": "text/x-python",
   "name": "python",
   "nbconvert_exporter": "python",
   "pygments_lexer": "ipython3",
   "version": "3.10.8"
  }
 },
 "nbformat": 4,
 "nbformat_minor": 5
}
