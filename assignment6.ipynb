{
 "cells": [
  {
   "cell_type": "code",
   "execution_count": 10,
   "id": "b5acf682-3002-476d-b8af-6d5208f3d719",
   "metadata": {},
   "outputs": [
    {
     "name": "stdout",
     "output_type": "stream",
     "text": [
      "19679733278309744640\n"
     ]
    }
   ],
   "source": [
    "#answer1:\n",
    "def product_s(l2):\n",
    "    l3=[]\n",
    "    for i in l2:\n",
    "        if type(i)==int or type(i)== float:\n",
    "            l3.append(i)\n",
    "        if type(i)==list or type(i)==tuple or type(i)==set:\n",
    "            l3.extend(i)\n",
    "        if type(i)==dict:\n",
    "            l3.extend(i.values())\n",
    "    prd=1\n",
    "    for j in l3:\n",
    "         if type(j) == int or type(j) == float:\n",
    "                prd*=j\n",
    "    return prd\n",
    "list1 = [1,2,3,4, [44,55,66, True], False, (34,56,78,89,34), {1,2,3,3,2,1}, {1:34, \"key2\": [55, 67, 78, 89], 4: (45,\n",
    "22, 61, 34)}, [56, 'data science'], 'Machine Learning']\n",
    "a=product_s(list1)\n",
    "print(a)"
   ]
  },
  {
   "cell_type": "code",
   "execution_count": 21,
   "id": "d57eea38-6396-4969-99a4-f973389ef9a3",
   "metadata": {},
   "outputs": [
    {
     "name": "stdin",
     "output_type": "stream",
     "text": [
      "Enter the message: I want to become a Data Scientist.\n"
     ]
    },
    {
     "name": "stdout",
     "output_type": "stream",
     "text": [
      "Encrypted message is: r$ dzmg$ gl$ yvxlnv$ z$ wzgz$ hxrvmgrhg.\n"
     ]
    }
   ],
   "source": [
    "#answer2:\n",
    "def func(a):\n",
    "    encrypt=\"\"\n",
    "    for i in a:\n",
    "        if i==\" \":\n",
    "            encrypt+=\"$\"\n",
    "        if i.isalpha():\n",
    "            c = chr(219 - ord(i))\n",
    "            encrypt += c\n",
    "        else:\n",
    "            encrypt+=i\n",
    "    return encrypt\n",
    "a=input(\"Enter the message:\")\n",
    "a=a.lower()\n",
    "result=func(a)\n",
    "print(\"Encrypted message is:\",result)"
   ]
  },
  {
   "cell_type": "code",
   "execution_count": null,
   "id": "eb16a46d-32aa-4c58-b47b-6574ddad35d6",
   "metadata": {},
   "outputs": [],
   "source": []
  }
 ],
 "metadata": {
  "kernelspec": {
   "display_name": "Python 3 (ipykernel)",
   "language": "python",
   "name": "python3"
  },
  "language_info": {
   "codemirror_mode": {
    "name": "ipython",
    "version": 3
   },
   "file_extension": ".py",
   "mimetype": "text/x-python",
   "name": "python",
   "nbconvert_exporter": "python",
   "pygments_lexer": "ipython3",
   "version": "3.10.8"
  }
 },
 "nbformat": 4,
 "nbformat_minor": 5
}
