{
 "cells": [
  {
   "cell_type": "code",
   "execution_count": 59,
   "id": "3e330e74-4c49-498f-bbd1-8a4f8894fb4a",
   "metadata": {},
   "outputs": [
    {
     "data": {
      "text/plain": [
       "[1, 3, 5, 7, 9, 11, 13, 15, 17, 19, 21, 23, 25]"
      ]
     },
     "execution_count": 59,
     "metadata": {},
     "output_type": "execute_result"
    }
   ],
   "source": [
    "#Answer1 def keyword is used to create a function\n",
    "def odd():\n",
    "    l1=[]\n",
    "    for i in range(0,26):\n",
    "        if i%2 != 0:\n",
    "            l1.append(i)\n",
    "    return l1\n",
    "odd()"
   ]
  },
  {
   "cell_type": "code",
   "execution_count": 60,
   "id": "809d87b5-b7d8-46d9-9e56-4e89a09f61e4",
   "metadata": {},
   "outputs": [
    {
     "data": {
      "text/plain": [
       "['a', 'b', 'c', 'd']"
      ]
     },
     "execution_count": 60,
     "metadata": {},
     "output_type": "execute_result"
    }
   ],
   "source": [
    "\"\"\"Answer2 *args is to take n number of arguments in the function and return the \n",
    "list of that function whereas **kwargs is used to take n number of arguments and \n",
    "return it in the form of dictionary\"\"\"\n",
    "# eg of *args\n",
    "def f1(*args):\n",
    "    return args,sum(args)\n",
    "f1(7,7,8,9)\n",
    "# eg of **kwargs\n",
    "def f2(**kwargs):\n",
    "    return kwargs\n",
    "list(f2(a=\"ujjwal\",b=1,c=67,d=[1,3.3,\"srivastava\"]))"
   ]
  },
  {
   "cell_type": "code",
   "execution_count": 61,
   "id": "cec3bf9d-717b-444d-b5ab-9d1c5730ef0f",
   "metadata": {},
   "outputs": [
    {
     "name": "stdout",
     "output_type": "stream",
     "text": [
      "2\n",
      "4\n",
      "6\n",
      "8\n",
      "10\n"
     ]
    }
   ],
   "source": [
    "\"\"\"Answer3: Iterator in python is something in which we can move to the next step\n",
    "or move the pointer to the next, we use iter() function is used create an iterator \n",
    "and it can only be created if the variable is iterable.\"\"\"\n",
    "s=[2,4,6,8,10,12,14,16,18,20]\n",
    "a=iter(s)\n",
    "for i in range(5):\n",
    "    print(next(a))"
   ]
  },
  {
   "cell_type": "code",
   "execution_count": 62,
   "id": "f37d0686-a37b-4998-b6a4-605e3ec63baa",
   "metadata": {},
   "outputs": [
    {
     "name": "stdout",
     "output_type": "stream",
     "text": [
      "0\n",
      "1\n",
      "1\n",
      "2\n",
      "3\n",
      "5\n",
      "8\n",
      "13\n",
      "21\n",
      "34\n"
     ]
    }
   ],
   "source": [
    "#answer4:\n",
    "\"\"\"A generator is a function which returns the value which can be iterated.\n",
    "Yield keyword is used to define generator function\"\"\"\n",
    "def test_fib(n):\n",
    "    a,b=0,1\n",
    "    for i in range(n):\n",
    "        yield a #yield is used as generator function\n",
    "        a,b=b,a+b\n",
    "for i in test_fib(10):\n",
    "    print(i)"
   ]
  },
  {
   "cell_type": "code",
   "execution_count": 63,
   "id": "14d5f928-e59b-44d7-b683-d0c0ed84dbce",
   "metadata": {},
   "outputs": [
    {
     "name": "stdout",
     "output_type": "stream",
     "text": [
      "2\n",
      "3\n",
      "5\n",
      "7\n",
      "11\n",
      "13\n",
      "17\n",
      "19\n",
      "23\n",
      "29\n",
      "31\n",
      "37\n",
      "41\n",
      "43\n",
      "47\n",
      "53\n",
      "59\n",
      "61\n",
      "67\n",
      "71\n"
     ]
    }
   ],
   "source": [
    "#answer5:\n",
    "def gen():\n",
    "    for i in range(2,1000):\n",
    "        for j in range(2, i):\n",
    "            if i%j == 0:\n",
    "                break\n",
    "        else:\n",
    "            yield i\n",
    "a = gen()\n",
    "for i in range(20):\n",
    "    print(next(a))"
   ]
  },
  {
   "cell_type": "code",
   "execution_count": 64,
   "id": "a1827eef-290b-42ef-9dde-cfd3d966d574",
   "metadata": {},
   "outputs": [
    {
     "name": "stdout",
     "output_type": "stream",
     "text": [
      "0\n",
      "1\n",
      "1\n",
      "2\n",
      "3\n",
      "5\n",
      "8\n",
      "13\n",
      "21\n",
      "34\n"
     ]
    }
   ],
   "source": [
    "#answer6:\n",
    "a,b=0,1\n",
    "c=0\n",
    "while c<10:\n",
    "    print(a)\n",
    "    a,b=b,a+b\n",
    "    c=c+1"
   ]
  },
  {
   "cell_type": "code",
   "execution_count": 65,
   "id": "f3cf5a50-5a20-4775-8d5a-06fd59eea906",
   "metadata": {},
   "outputs": [
    {
     "data": {
      "text/plain": [
       "['p', 'w', 's', 'k', 'i', 'l', 'l', 's']"
      ]
     },
     "execution_count": 65,
     "metadata": {},
     "output_type": "execute_result"
    }
   ],
   "source": [
    "#answer7:\n",
    "s=\"pwskills\"\n",
    "[s[i] for i in range(len(s)) ]"
   ]
  },
  {
   "cell_type": "code",
   "execution_count": 66,
   "id": "e9be9eb8-00ab-45ed-a10c-cfbea56311ce",
   "metadata": {},
   "outputs": [
    {
     "name": "stdin",
     "output_type": "stream",
     "text": [
      "Enter the number 121\n"
     ]
    },
    {
     "name": "stdout",
     "output_type": "stream",
     "text": [
      "No. is palindrome\n"
     ]
    }
   ],
   "source": [
    "#answer8:\n",
    "a=int(input(\"Enter the number\"))\n",
    "m = a\n",
    "c = 0 \n",
    "cn = 0 #counter variable\n",
    "while a!=0:\n",
    "    b=a%10\n",
    "    a=int(a/10)\n",
    "    c=c+(b*(10**cn))\n",
    "    cn=cn+1\n",
    "if c==m:\n",
    "    print(\"No. is palindrome\")\n",
    "else:\n",
    "    print(\"No. is not palindrome\")"
   ]
  },
  {
   "cell_type": "code",
   "execution_count": 67,
   "id": "7f06ede4-f238-4e1f-badf-a8f7b5c23af7",
   "metadata": {},
   "outputs": [
    {
     "data": {
      "text/plain": [
       "[1,\n",
       " 3,\n",
       " 5,\n",
       " 7,\n",
       " 9,\n",
       " 11,\n",
       " 13,\n",
       " 15,\n",
       " 17,\n",
       " 19,\n",
       " 21,\n",
       " 23,\n",
       " 25,\n",
       " 27,\n",
       " 29,\n",
       " 31,\n",
       " 33,\n",
       " 35,\n",
       " 37,\n",
       " 39,\n",
       " 41,\n",
       " 43,\n",
       " 45,\n",
       " 47,\n",
       " 49,\n",
       " 51,\n",
       " 53,\n",
       " 55,\n",
       " 57,\n",
       " 59,\n",
       " 61,\n",
       " 63,\n",
       " 65,\n",
       " 67,\n",
       " 69,\n",
       " 71,\n",
       " 73,\n",
       " 75,\n",
       " 77,\n",
       " 79,\n",
       " 81,\n",
       " 83,\n",
       " 85,\n",
       " 87,\n",
       " 89,\n",
       " 91,\n",
       " 93,\n",
       " 95,\n",
       " 97,\n",
       " 99]"
      ]
     },
     "execution_count": 67,
     "metadata": {},
     "output_type": "execute_result"
    }
   ],
   "source": [
    "#answer9:\n",
    "[i for i in range(0,101) if i%2!=0]\n"
   ]
  },
  {
   "cell_type": "code",
   "execution_count": null,
   "id": "1dfa09f4-2126-4a9b-b636-b609e3a01990",
   "metadata": {},
   "outputs": [],
   "source": []
  },
  {
   "cell_type": "code",
   "execution_count": null,
   "id": "e0ada71d-c7bc-4c1a-aaee-da9e2f8ad3a3",
   "metadata": {},
   "outputs": [],
   "source": []
  }
 ],
 "metadata": {
  "kernelspec": {
   "display_name": "Python 3 (ipykernel)",
   "language": "python",
   "name": "python3"
  },
  "language_info": {
   "codemirror_mode": {
    "name": "ipython",
    "version": 3
   },
   "file_extension": ".py",
   "mimetype": "text/x-python",
   "name": "python",
   "nbconvert_exporter": "python",
   "pygments_lexer": "ipython3",
   "version": "3.10.8"
  }
 },
 "nbformat": 4,
 "nbformat_minor": 5
}
