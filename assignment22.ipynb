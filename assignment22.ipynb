{
 "cells": [
  {
   "cell_type": "code",
   "execution_count": 1,
   "id": "c35e1046-fe06-4834-9abf-3d0ab18846dd",
   "metadata": {},
   "outputs": [],
   "source": [
    "import pandas as pd"
   ]
  },
  {
   "cell_type": "markdown",
   "id": "8c7ec243-1f0a-4127-9c2e-89048c2bac19",
   "metadata": {},
   "source": [
    "# Answer 1:"
   ]
  },
  {
   "cell_type": "code",
   "execution_count": 3,
   "id": "ac27f9d5-22bf-475e-8a85-b8e63b96f4fe",
   "metadata": {},
   "outputs": [
    {
     "name": "stdout",
     "output_type": "stream",
     "text": [
      "0     4\n",
      "1     8\n",
      "2    15\n",
      "3    16\n",
      "4    23\n",
      "5    42\n",
      "dtype: int64\n"
     ]
    }
   ],
   "source": [
    "import pandas as pd\n",
    "\n",
    "# Data\n",
    "data = [4, 8, 15, 16, 23, 42]\n",
    "\n",
    "# Create the Series\n",
    "series_data = pd.Series(data)\n",
    "\n",
    "# Print the Series\n",
    "print(series_data)\n"
   ]
  },
  {
   "cell_type": "markdown",
   "id": "77eff747-d4ab-41b7-b3eb-7932226b8275",
   "metadata": {},
   "source": [
    "# Answer 2:"
   ]
  },
  {
   "cell_type": "code",
   "execution_count": 4,
   "id": "9e916e0d-6ccb-4536-9a62-eac7770f4d70",
   "metadata": {},
   "outputs": [
    {
     "name": "stdout",
     "output_type": "stream",
     "text": [
      "0     1\n",
      "1     2\n",
      "2     3\n",
      "3     4\n",
      "4     5\n",
      "5     6\n",
      "6     7\n",
      "7     8\n",
      "8     9\n",
      "9    10\n",
      "dtype: int64\n"
     ]
    }
   ],
   "source": [
    "# Data (list with 10 elements)\n",
    "data_list = [1, 2, 3, 4, 5, 6, 7, 8, 9, 10]\n",
    "\n",
    "# Create the Series\n",
    "series_data = pd.Series(data_list)\n",
    "\n",
    "# Print the Series\n",
    "print(series_data)\n"
   ]
  },
  {
   "cell_type": "markdown",
   "id": "fcdf5926-cbaf-4531-bd5d-900ed5121f75",
   "metadata": {},
   "source": [
    "# Answer 3:"
   ]
  },
  {
   "cell_type": "code",
   "execution_count": 3,
   "id": "12df873e-5234-4266-81e8-ef4de39a9d81",
   "metadata": {},
   "outputs": [
    {
     "name": "stdout",
     "output_type": "stream",
     "text": [
      "     Name  Age  Gender\n",
      "0   Alice   25  Female\n",
      "1     Bob   30    Male\n",
      "2  Claire   27  Female\n"
     ]
    }
   ],
   "source": [
    "data={\n",
    "    'Name':['Alice','Bob','Claire'],\n",
    "    'Age':[25,30,27],\n",
    "    'Gender':['Female','Male','Female']\n",
    "}\n",
    "df=pd.DataFrame(data)\n",
    "print(df)"
   ]
  },
  {
   "cell_type": "markdown",
   "id": "ee3136c4-d180-4a97-ad06-93affef0a051",
   "metadata": {},
   "source": [
    "# Answer 4:\n",
    "In Pandas, a DataFrame is a two-dimensional tabular data structure that can store data in rows and columns, similar to a spreadsheet or a SQL table. It is one of the most commonly used data structures in Pandas and is highly versatile for data manipulation and analysis. A DataFrame is capable of holding different data types and can handle missing data as well. It is a fundamental object for data analysis in Pandas.\n",
    "\n",
    "On the other hand, a Pandas Series is a one-dimensional array-like data structure that can store a sequence of data values, similar to a Python list or NumPy array. The Series object has an associated index that labels each element in the Series. The index provides a way to access the data, and it can be of any data type, including integers, strings, or dates.\n",
    "\n",
    "The main differences between a DataFrame and a Series are:\n",
    "\n",
    "Dimensionality:\n",
    "DataFrame: It is a two-dimensional data structure with rows and columns.\n",
    "Series: It is a one-dimensional data structure with an associated index.\n",
    "Number of dimensions:\n",
    "DataFrame: It has two dimensions (rows and columns).\n",
    "Series: It has only one dimension (rows or index).\n",
    "Data structure:\n",
    "DataFrame: It stores tabular data with rows and columns, where each column can have different data types.\n",
    "Series: It stores a sequence of data values with an associated index.\n",
    "Now, let's see an example to understand the difference between a DataFrame and a Series:"
   ]
  },
  {
   "cell_type": "code",
   "execution_count": 8,
   "id": "c8b769a3-15c6-49a2-9809-f75c94d4ef05",
   "metadata": {},
   "outputs": [
    {
     "name": "stdout",
     "output_type": "stream",
     "text": [
      "Series:\n",
      "A    10\n",
      "B    20\n",
      "C    30\n",
      "D    40\n",
      "E    50\n",
      "dtype: int64\n",
      "\n",
      "DataFrame:\n",
      "    Name  Age         City\n",
      "0   John   28     New York\n",
      "1   Jane   24       London\n",
      "2   Mike   22       Sydney\n",
      "3  Alice   29  Los Angeles\n"
     ]
    }
   ],
   "source": [
    "#answer 4:\n",
    "\n",
    "# Creating a Pandas Series\n",
    "data_series = pd.Series([10, 20, 30, 40, 50], index=['A', 'B', 'C', 'D', 'E'])\n",
    "\n",
    "# Creating a Pandas DataFrame\n",
    "data_dict = {\n",
    "    'Name': ['John', 'Jane', 'Mike', 'Alice'],\n",
    "    'Age': [28, 24, 22, 29],\n",
    "    'City': ['New York', 'London', 'Sydney', 'Los Angeles']\n",
    "}\n",
    "data_df = pd.DataFrame(data_dict)\n",
    "\n",
    "# Printing the Series and DataFrame\n",
    "print(\"Series:\")\n",
    "print(data_series)\n",
    "\n",
    "print(\"\\nDataFrame:\")\n",
    "print(data_df)\n"
   ]
  },
  {
   "cell_type": "markdown",
   "id": "93983986-4ef9-42f9-91e7-fc803a06d9e2",
   "metadata": {},
   "source": [
    "# Answer 5:\n",
    "Pandas is a powerful library in Python used for data manipulation and analysis. It provides various functions to manipulate data in a DataFrame. Here are some common functions you can use:\n",
    "1. head() and tail(): These functions allow you to view the first few rows (head()) or the last few rows (tail()) of the DataFrame. They are useful for a quick glance at the data.\n",
    "Example:\n"
   ]
  },
  {
   "cell_type": "code",
   "execution_count": 2,
   "id": "ed651c53-b8e0-46c2-bcda-88fe21fead82",
   "metadata": {},
   "outputs": [
    {
     "name": "stdout",
     "output_type": "stream",
     "text": [
      "    Name  Age      City\n",
      "0  Alice   25  New York\n",
      "1    Bob   32    London\n",
      "    Name  Age    City\n",
      "3  David   47   Tokyo\n",
      "4    Eva   29  Sydney\n"
     ]
    }
   ],
   "source": [
    "import pandas as pd\n",
    "\n",
    "# Create a sample DataFrame\n",
    "data = {'Name': ['Alice', 'Bob', 'Charlie', 'David', 'Eva'],\n",
    "        'Age': [25, 32, 18, 47, 29],\n",
    "        'City': ['New York', 'London', 'Paris', 'Tokyo', 'Sydney']}\n",
    "df = pd.DataFrame(data)\n",
    "\n",
    "# View the first two rows\n",
    "print(df.head(2))\n",
    "\n",
    "# View the last two rows\n",
    "print(df.tail(2))\n"
   ]
  },
  {
   "cell_type": "markdown",
   "id": "ef0df79d-430b-4cf7-9ea5-87be8f7fb6ff",
   "metadata": {},
   "source": [
    "2. shape: It gives you the dimensions (number of rows and columns) of the DataFrame."
   ]
  },
  {
   "cell_type": "code",
   "execution_count": 3,
   "id": "cf93b9de-722d-4c5d-a903-24ff0984c6df",
   "metadata": {},
   "outputs": [
    {
     "name": "stdout",
     "output_type": "stream",
     "text": [
      "(5, 3)\n"
     ]
    }
   ],
   "source": [
    "# Assuming the same DataFrame 'df' from the previous example\n",
    "print(df.shape)"
   ]
  },
  {
   "cell_type": "markdown",
   "id": "792fdb80-f1cd-466b-a880-732c3b7fbb5d",
   "metadata": {},
   "source": [
    "3. info(): Provides a concise summary of the DataFrame, including the data types, non-null values, and memory usage."
   ]
  },
  {
   "cell_type": "code",
   "execution_count": 4,
   "id": "b1d09d90-885f-4249-a4c5-cffaef044976",
   "metadata": {},
   "outputs": [
    {
     "name": "stdout",
     "output_type": "stream",
     "text": [
      "<class 'pandas.core.frame.DataFrame'>\n",
      "RangeIndex: 5 entries, 0 to 4\n",
      "Data columns (total 3 columns):\n",
      " #   Column  Non-Null Count  Dtype \n",
      "---  ------  --------------  ----- \n",
      " 0   Name    5 non-null      object\n",
      " 1   Age     5 non-null      int64 \n",
      " 2   City    5 non-null      object\n",
      "dtypes: int64(1), object(2)\n",
      "memory usage: 248.0+ bytes\n",
      "None\n"
     ]
    }
   ],
   "source": [
    "print(df.info(data))"
   ]
  },
  {
   "cell_type": "markdown",
   "id": "168511ab-6cb8-41b9-b064-9b9f7184ebd6",
   "metadata": {},
   "source": [
    "4. describe(): Generates descriptive statistics for numerical columns in the DataFrame, such as count, mean, standard deviation, minimum, quartiles, and maximum."
   ]
  },
  {
   "cell_type": "code",
   "execution_count": 5,
   "id": "fc56e789-ce33-4d9d-8e1d-67661c921534",
   "metadata": {},
   "outputs": [
    {
     "name": "stdout",
     "output_type": "stream",
     "text": [
      "             Age\n",
      "count   5.000000\n",
      "mean   30.200000\n",
      "std    10.756393\n",
      "min    18.000000\n",
      "25%    25.000000\n",
      "50%    29.000000\n",
      "75%    32.000000\n",
      "max    47.000000\n"
     ]
    }
   ],
   "source": [
    "print(df.describe())"
   ]
  },
  {
   "cell_type": "markdown",
   "id": "6611fcb5-5ffe-4e31-8c57-9fc07b3c8bb4",
   "metadata": {},
   "source": [
    "5. sort_values(): Sorts the DataFrame based on the values of one or more columns."
   ]
  },
  {
   "cell_type": "code",
   "execution_count": 6,
   "id": "254ed027-7035-4c1f-ba3d-435e85928e11",
   "metadata": {},
   "outputs": [
    {
     "name": "stdout",
     "output_type": "stream",
     "text": [
      "      Name  Age      City\n",
      "2  Charlie   18     Paris\n",
      "0    Alice   25  New York\n",
      "4      Eva   29    Sydney\n",
      "1      Bob   32    London\n",
      "3    David   47     Tokyo\n"
     ]
    }
   ],
   "source": [
    "# Sorting the DataFrame by Age in ascending order\n",
    "sorted_df = df.sort_values(by='Age')\n",
    "print(sorted_df)"
   ]
  },
  {
   "cell_type": "markdown",
   "id": "21883d80-0c36-4105-85bc-705a1c5c8c38",
   "metadata": {},
   "source": [
    "6. groupby(): Used for grouping rows based on unique values in one or more columns, allowing you to perform aggregate functions on these groups."
   ]
  },
  {
   "cell_type": "code",
   "execution_count": 19,
   "id": "692587e8-e355-4002-a0ee-c66e88e4ef2d",
   "metadata": {},
   "outputs": [
    {
     "name": "stdout",
     "output_type": "stream",
     "text": [
      "Name\n",
      "Alice      25.0\n",
      "Bob        32.0\n",
      "Charlie    18.0\n",
      "David      47.0\n",
      "Eva        29.0\n",
      "Name: Age, dtype: float64\n"
     ]
    }
   ],
   "source": [
    "# Grouping by the 'City' column and calculating the average age for each city\n",
    "grouped_df = df.groupby('Name')['Age'].mean()\n",
    "print(grouped_df)"
   ]
  },
  {
   "cell_type": "markdown",
   "id": "da7986fb-f69c-48ba-9b05-f71e1a87e56a",
   "metadata": {},
   "source": [
    "7. drop(): Removes specified rows or columns from the DataFrame."
   ]
  },
  {
   "cell_type": "code",
   "execution_count": 7,
   "id": "91685eb5-c7a3-4acb-8d1f-8fe58244264d",
   "metadata": {},
   "outputs": [
    {
     "name": "stdout",
     "output_type": "stream",
     "text": [
      "      Name  Age\n",
      "0    Alice   25\n",
      "1      Bob   32\n",
      "2  Charlie   18\n",
      "3    David   47\n",
      "4      Eva   29\n"
     ]
    }
   ],
   "source": [
    "# Dropping the 'City' column from the DataFrame\n",
    "df_without_city = df.drop(columns='City')\n",
    "print(df_without_city)"
   ]
  },
  {
   "cell_type": "markdown",
   "id": "517c72f0-3f88-4a5b-8cad-3e5b0ff7f32d",
   "metadata": {},
   "source": [
    "8. fillna(): Fills missing values in the DataFrame with a specified value or using a specific method."
   ]
  },
  {
   "cell_type": "code",
   "execution_count": 8,
   "id": "c8aa036a-0e57-4c5b-9251-fb3d545de69d",
   "metadata": {},
   "outputs": [],
   "source": [
    "# Assuming 'df' has missing values in the 'Age' column\n",
    "# Filling the missing values with the mean age\n",
    "df['Age'] = df['Age'].fillna(df['Age'].mean())\n"
   ]
  },
  {
   "cell_type": "markdown",
   "id": "f5ec80a5-eb9b-436b-b02c-610a7285f575",
   "metadata": {},
   "source": [
    "# Answer 6:"
   ]
  },
  {
   "cell_type": "markdown",
   "id": "c513ce4a-59e2-41a1-b1f1-26e664fb1387",
   "metadata": {},
   "source": [
    "Among the options provided (Series, DataFrame, Panel), both Series and DataFrame are mutable in nature, while Panel is not.\n",
    "\n",
    "1. Series: A Series in Pandas is a one-dimensional labeled array and is mutable, meaning you can change the values of its elements after it is created. You can add, update, or delete elements in a Series."
   ]
  },
  {
   "cell_type": "code",
   "execution_count": 9,
   "id": "decfb306-5eaa-4961-b15c-ced73adbe7f5",
   "metadata": {},
   "outputs": [
    {
     "name": "stdout",
     "output_type": "stream",
     "text": [
      "0     1\n",
      "1    10\n",
      "2     3\n",
      "3     4\n",
      "4     5\n",
      "dtype: int64\n"
     ]
    }
   ],
   "source": [
    "# Creating a Series\n",
    "s = pd.Series([1, 2, 3, 4, 5])\n",
    "\n",
    "# Modifying the second element of the Series\n",
    "s[1] = 10\n",
    "\n",
    "print(s)\n"
   ]
  },
  {
   "cell_type": "markdown",
   "id": "6f066de0-5598-4d68-a07a-c6019d51a882",
   "metadata": {},
   "source": [
    "2. DataFrame: A DataFrame in Pandas is a two-dimensional labeled data structure and is also mutable. You can modify its contents by adding or removing columns, updating values, or performing various operations on it."
   ]
  },
  {
   "cell_type": "code",
   "execution_count": 10,
   "id": "6db7e135-8c83-4d0b-819e-c38af33b9d81",
   "metadata": {},
   "outputs": [
    {
     "name": "stdout",
     "output_type": "stream",
     "text": [
      "      Name  Age\n",
      "0    Alice   26\n",
      "1      Bob   32\n",
      "2  Charlie   37\n"
     ]
    }
   ],
   "source": [
    "# Creating a DataFrame\n",
    "data = {'Name': ['Alice', 'Bob', 'Charlie'],\n",
    "        'Age': [25, 30, 35]}\n",
    "\n",
    "df = pd.DataFrame(data)\n",
    "\n",
    "# Modifying the 'Age' column\n",
    "df['Age'] = [26, 32, 37]\n",
    "\n",
    "print(df)\n"
   ]
  },
  {
   "cell_type": "markdown",
   "id": "d2778bfd-93dd-4199-adf2-8c5ef8eb056e",
   "metadata": {},
   "source": [
    "3. Panel: A Panel in Pandas was a three-dimensional data structure, but it has been deprecated since version 0.25.0, and the developers recommend using other data structures like DataFrame or MultiIndex DataFrame to handle similar scenarios."
   ]
  },
  {
   "cell_type": "markdown",
   "id": "e105bcb5-7467-4299-8457-646f9aaba0eb",
   "metadata": {},
   "source": [
    "# Answer 7:"
   ]
  },
  {
   "cell_type": "code",
   "execution_count": 11,
   "id": "e9782962-5db8-4e20-9bcd-e7ea54b235e4",
   "metadata": {},
   "outputs": [
    {
     "name": "stdout",
     "output_type": "stream",
     "text": [
      "      Name  Age  Math  English\n",
      "0    Alice   25    90       88\n",
      "1      Bob   32    85       76\n",
      "2  Charlie   18    70       92\n",
      "3    David   47    92       85\n",
      "4      Eva   29    88       90\n"
     ]
    }
   ],
   "source": [
    "# Creating Series for each column\n",
    "names = pd.Series(['Alice', 'Bob', 'Charlie', 'David', 'Eva'])\n",
    "ages = pd.Series([25, 32, 18, 47, 29])\n",
    "math_grades = pd.Series([90, 85, 70, 92, 88])\n",
    "english_grades = pd.Series([88, 76, 92, 85, 90])\n",
    "\n",
    "# Creating a dictionary using the Series\n",
    "data = {\n",
    "    'Name': names,\n",
    "    'Age': ages,\n",
    "    'Math': math_grades,\n",
    "    'English': english_grades\n",
    "}\n",
    "\n",
    "# Creating the DataFrame using the dictionary\n",
    "df = pd.DataFrame(data)\n",
    "\n",
    "print(df)\n"
   ]
  },
  {
   "cell_type": "code",
   "execution_count": null,
   "id": "5ee2819f-297f-4c2c-a7d7-268b7291b35d",
   "metadata": {},
   "outputs": [],
   "source": []
  }
 ],
 "metadata": {
  "kernelspec": {
   "display_name": "Python 3 (ipykernel)",
   "language": "python",
   "name": "python3"
  },
  "language_info": {
   "codemirror_mode": {
    "name": "ipython",
    "version": 3
   },
   "file_extension": ".py",
   "mimetype": "text/x-python",
   "name": "python",
   "nbconvert_exporter": "python",
   "pygments_lexer": "ipython3",
   "version": "3.10.8"
  }
 },
 "nbformat": 4,
 "nbformat_minor": 5
}
