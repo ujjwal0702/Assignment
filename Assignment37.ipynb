{
 "cells": [
  {
   "cell_type": "markdown",
   "id": "898af600-aa78-4b48-8a72-fab1776e9b97",
   "metadata": {},
   "source": [
    "# Answer 1:\n",
    "Write a Python function that takes in two arrays of data and calculates the F-value for a variance ratio test. The function should return the F-value and the corresponding p-value for the test."
   ]
  },
  {
   "cell_type": "code",
   "execution_count": 1,
   "id": "3110f7a0-2896-48db-9f47-457668d4cd6d",
   "metadata": {},
   "outputs": [
    {
     "name": "stdout",
     "output_type": "stream",
     "text": [
      "F-value: 1.7777777777777777\n",
      "P-value: 0.2191383605228726\n"
     ]
    }
   ],
   "source": [
    "import numpy as np\n",
    "from scipy.stats import f_oneway\n",
    "\n",
    "def variance_ratio_test(array1, array2):\n",
    "    # Perform the variance ratio test\n",
    "    f_statistic, p_value = f_oneway(array1, array2)\n",
    "    \n",
    "    return f_statistic, p_value\n",
    "\n",
    "# Example usage:\n",
    "data1 = [12, 15, 18, 21, 24]\n",
    "data2 = [8, 11, 14, 17, 20]\n",
    "\n",
    "f_value, p_value = variance_ratio_test(data1, data2)\n",
    "print(f\"F-value: {f_value}\")\n",
    "print(f\"P-value: {p_value}\")\n"
   ]
  },
  {
   "cell_type": "markdown",
   "id": "aeb4365b-b0b3-48de-a5ac-6aefded08d1b",
   "metadata": {},
   "source": [
    "# Answer 2: \n",
    "Given a significance level of 0.05 and the degrees of freedom for the numerator and denominator of an F-distribution, write a Python function that returns the critical F-value for a two-tailed test."
   ]
  },
  {
   "cell_type": "code",
   "execution_count": 2,
   "id": "5fe435ca-ae15-4524-8b21-259cbcf0e330",
   "metadata": {},
   "outputs": [
    {
     "name": "stdout",
     "output_type": "stream",
     "text": [
      "Critical F-value: 4.474184809637748\n"
     ]
    }
   ],
   "source": [
    "from scipy.stats import f\n",
    "\n",
    "def critical_f_value(alpha, dfn, dfd):\n",
    "    # Calculate the critical F-value for a two-tailed test\n",
    "    f_critical = f.ppf(1 - alpha / 2, dfn, dfd)\n",
    "    \n",
    "    return f_critical\n",
    "\n",
    "# Example usage:\n",
    "alpha = 0.05  # Significance level\n",
    "dfn = 3      # Degrees of freedom for the numerator\n",
    "dfd = 12     # Degrees of freedom for the denominator\n",
    "\n",
    "critical_f = critical_f_value(alpha, dfn, dfd)\n",
    "print(f\"Critical F-value: {critical_f}\")\n"
   ]
  },
  {
   "cell_type": "markdown",
   "id": "35260b27-976c-4840-9775-ac5d22142d4d",
   "metadata": {},
   "source": [
    "# Answer 3:\n",
    "Write a Python program that generates random samples from two normal distributions with known variances and uses an F-test to determine if the variances are equal. The program should output the F-value, degrees of freedom, and p-value for the test."
   ]
  },
  {
   "cell_type": "code",
   "execution_count": 3,
   "id": "312dbb28-5ba7-4496-bb36-5a5a17f8ab98",
   "metadata": {},
   "outputs": [
    {
     "name": "stdout",
     "output_type": "stream",
     "text": [
      "F-value: 0.09644796696191939\n",
      "Degrees of freedom (numerator): 19\n",
      "Degrees of freedom (denominator): 19\n",
      "P-value: 0.7578316640802899\n",
      "Fail to reject the null hypothesis. Variances are equal.\n"
     ]
    }
   ],
   "source": [
    "import numpy as np\n",
    "from scipy.stats import f_oneway\n",
    "\n",
    "def variance_equality_test(data1, data2, alpha=0.05):\n",
    "    # Calculate the F-value and degrees of freedom\n",
    "    dfn = len(data1) - 1\n",
    "    dfd = len(data2) - 1\n",
    "    f_statistic, p_value = f_oneway(data1, data2)\n",
    "    \n",
    "    # Perform the F-test\n",
    "    if p_value < alpha:\n",
    "        result = \"Reject the null hypothesis. Variances are not equal.\"\n",
    "    else:\n",
    "        result = \"Fail to reject the null hypothesis. Variances are equal.\"\n",
    "    \n",
    "    return f_statistic, dfn, dfd, p_value, result\n",
    "\n",
    "# Known variances for two normal distributions\n",
    "variance1 = 2.0\n",
    "variance2 = 2.0\n",
    "\n",
    "# Generate random samples with known variances\n",
    "np.random.seed(42)  # For reproducibility\n",
    "sample_size = 20\n",
    "data1 = np.random.normal(0, np.sqrt(variance1), sample_size)\n",
    "data2 = np.random.normal(0, np.sqrt(variance2), sample_size)\n",
    "\n",
    "# Perform the variance equality test\n",
    "f_value, dfn, dfd, p_value, result = variance_equality_test(data1, data2)\n",
    "print(f\"F-value: {f_value}\")\n",
    "print(f\"Degrees of freedom (numerator): {dfn}\")\n",
    "print(f\"Degrees of freedom (denominator): {dfd}\")\n",
    "print(f\"P-value: {p_value}\")\n",
    "print(result)\n"
   ]
  },
  {
   "cell_type": "markdown",
   "id": "320d1528-084e-4a78-a4c2-8d26fed84547",
   "metadata": {},
   "source": [
    "# Answer 4: \n",
    "The variances of two populations are known to be 10 and 15. A sample of 12 observations is taken from each population. Conduct an F-test at the 5% significance level to determine if the variances are significantly different."
   ]
  },
  {
   "cell_type": "markdown",
   "id": "0466dddd-7b32-4cdb-b150-c6fe11781e39",
   "metadata": {},
   "source": [
    "To conduct an F-test to determine if the variances of two populations are significantly different, you can follow these steps:\n",
    "\n",
    "*  Define the null hypothesis (H0) and alternative hypothesis (H1):\n",
    "1. Null Hypothesis (H0): The variances of the two populations are equal.\n",
    "2. Alternative Hypothesis (H1): The variances of the two populations are   significantly different.\n",
    "\n",
    "* Determine the significance level (alpha). In this case, alpha is 0.05 (5%).\n",
    "Calculate the F-statistic using the formula:\n",
    "F = (s1^2) / (s2^2)\n",
    "Where:\n",
    "s1^2 is the sample variance of the first population.\n",
    "s2^2 is the sample variance of the second population.\n",
    "\n",
    "* Calculate the degrees of freedom for both populations:\n",
    "1. Degrees of Freedom for Population 1 (df1) = 12 - 1 = 11\n",
    "2. Degrees of Freedom for Population 2 (df2) = 12 - 1 = 11\n",
    "\n",
    "* Use the F-distribution table or a statistical calculator to find the critical F-value at alpha/2 and with degrees of freedom df1 and df2.\n",
    "\n",
    "* Compare the calculated F-statistic to the critical F-value:\n",
    "1. If F-statistic > Critical F-value, reject the null hypothesis (H0).\n",
    "2. If F-statistic <= Critical F-value, fail to reject the null hypothesis (H0)."
   ]
  },
  {
   "cell_type": "code",
   "execution_count": 4,
   "id": "efcff852-357c-440f-9910-5db76511e0ac",
   "metadata": {},
   "outputs": [
    {
     "name": "stdout",
     "output_type": "stream",
     "text": [
      "F-statistic: 0.6666666666666666\n",
      "Critical F-value: 3.473699051085809\n",
      "Fail to reject the null hypothesis. Variances are not significantly different.\n"
     ]
    }
   ],
   "source": [
    "import scipy.stats as stats\n",
    "\n",
    "# Given variances\n",
    "variance1 = 10\n",
    "variance2 = 15\n",
    "\n",
    "# Sample sizes\n",
    "n1 = 12\n",
    "n2 = 12\n",
    "\n",
    "# Calculate the F-statistic\n",
    "F_statistic = variance1 / variance2\n",
    "\n",
    "# Degrees of freedom\n",
    "df1 = n1 - 1\n",
    "df2 = n2 - 1\n",
    "\n",
    "# Significance level\n",
    "alpha = 0.05\n",
    "\n",
    "# Calculate the critical F-value\n",
    "critical_F = stats.f.ppf(1 - alpha/2, df1, df2)\n",
    "\n",
    "# Perform the F-test\n",
    "if F_statistic > critical_F:\n",
    "    result = \"Reject the null hypothesis. Variances are significantly different.\"\n",
    "else:\n",
    "    result = \"Fail to reject the null hypothesis. Variances are not significantly different.\"\n",
    "\n",
    "print(f\"F-statistic: {F_statistic}\")\n",
    "print(f\"Critical F-value: {critical_F}\")\n",
    "print(result)\n"
   ]
  },
  {
   "cell_type": "markdown",
   "id": "66b44b86-c73a-4f99-a6b9-426ae85b8c81",
   "metadata": {},
   "source": [
    "# Answer 5: \n",
    "A manufacturer claims that the variance of the diameter of a certain product is 0.005. A sample of 25 products is taken, and the sample variance is found to be 0.006. Conduct an F-test at the 1% significance level to determine if the claim is justified."
   ]
  },
  {
   "cell_type": "markdown",
   "id": "19418a0e-4746-48d2-a03d-e5ae0dcb0269",
   "metadata": {},
   "source": [
    "To determine if the manufacturer's claim about the variance of the product's diameter is justified, you can conduct an F-test using the sample variance and the claimed population variance. Here are the steps:\n",
    "\n",
    "1. Define the null hypothesis (H0) and alternative hypothesis (H1):\n",
    "   - Null Hypothesis (H0): The claimed population variance (σ^2) is equal to 0.005.\n",
    "   - Alternative Hypothesis (H1): The claimed population variance (σ^2) is not equal to 0.005.\n",
    "\n",
    "2. Determine the significance level (alpha). In this case, alpha is 0.01 (1%).\n",
    "\n",
    "3. Calculate the F-statistic using the formula:\n",
    "\n",
    "   F = (sample variance) / (claimed population variance)\n",
    "\n",
    "4. Determine the degrees of freedom for the numerator (dfn) and denominator (dfd):\n",
    "   - dfn = n - 1, where n is the sample size.\n",
    "   - dfd = ∞ (since the claimed population variance is fixed).\n",
    "\n",
    "5. Use the F-distribution table or a statistical calculator to find the critical F-values at alpha/2 with dfn and dfd.\n",
    "\n",
    "6. Compare the calculated F-statistic to the critical F-values:\n",
    "   - If the F-statistic is outside the critical F-value range, reject the null hypothesis (H0).\n",
    "   - If the F-statistic is within the critical F-value range, fail to reject the null hypothesis (H0).\n"
   ]
  },
  {
   "cell_type": "code",
   "execution_count": 5,
   "id": "a1f9307f-6d1f-4531-a1e3-dfa5d689b74a",
   "metadata": {},
   "outputs": [
    {
     "name": "stdout",
     "output_type": "stream",
     "text": [
      "F-statistic: 1.2\n",
      "Critical F-values: nan and nan\n",
      "Fail to reject the null hypothesis. The claimed variance is justified.\n"
     ]
    }
   ],
   "source": [
    "import scipy.stats as stats\n",
    "\n",
    "# Given data\n",
    "claimed_variance = 0.005\n",
    "sample_variance = 0.006\n",
    "sample_size = 25\n",
    "\n",
    "# Calculate the F-statistic\n",
    "F_statistic = sample_variance / claimed_variance\n",
    "\n",
    "# Degrees of freedom\n",
    "dfn = sample_size - 1\n",
    "dfd = float(\"inf\")  # Large degrees of freedom for the claimed population variance\n",
    "\n",
    "# Significance level\n",
    "alpha = 0.01\n",
    "\n",
    "# Calculate the critical F-values\n",
    "critical_F_lower = stats.f.ppf(alpha / 2, dfn, dfd)\n",
    "critical_F_upper = stats.f.ppf(1 - alpha / 2, dfn, dfd)\n",
    "\n",
    "# Perform the F-test\n",
    "if F_statistic < critical_F_lower or F_statistic > critical_F_upper:\n",
    "    result = \"Reject the null hypothesis. The claimed variance is not justified.\"\n",
    "else:\n",
    "    result = \"Fail to reject the null hypothesis. The claimed variance is justified.\"\n",
    "\n",
    "print(f\"F-statistic: {F_statistic}\")\n",
    "print(f\"Critical F-values: {critical_F_lower} and {critical_F_upper}\")\n",
    "print(result)"
   ]
  },
  {
   "cell_type": "markdown",
   "id": "f7bb7bcb-ab7b-41a8-882c-7c3bca4d749e",
   "metadata": {},
   "source": [
    "# Answer 6 : \n",
    "Write a Python function that takes in the degrees of freedom for the numerator and denominator of an F-distribution and calculates the mean and variance of the distribution. The function should return the mean and variance as a tuple."
   ]
  },
  {
   "cell_type": "code",
   "execution_count": 6,
   "id": "1c4d4bfc-2be6-44a9-bc12-10414f77e4fe",
   "metadata": {},
   "outputs": [
    {
     "name": "stdout",
     "output_type": "stream",
     "text": [
      "Mean: 1.25\n",
      "Variance: 1.3541666666666667\n"
     ]
    }
   ],
   "source": [
    "def f_distribution_mean_and_variance(dfn, dfd):\n",
    "    if dfd > 2:\n",
    "        mean = dfd / (dfd - 2)\n",
    "        variance = (2 * (dfd ** 2 * (dfn + dfd - 2))) / (dfn * (dfd - 2) ** 2 * (dfd - 4))\n",
    "    else:\n",
    "        mean = None  # Mean is undefined\n",
    "        variance = None\n",
    "    return mean, variance\n",
    "\n",
    "# Example usage:\n",
    "dfn = 5  # Degrees of freedom for numerator\n",
    "dfd = 10  # Degrees of freedom for denominator\n",
    "\n",
    "mean, variance = f_distribution_mean_and_variance(dfn, dfd)\n",
    "if mean is not None:\n",
    "    print(f\"Mean: {mean}\")\n",
    "else:\n",
    "    print(\"Mean is undefined for dfd <= 2\")\n",
    "if variance is not None:\n",
    "    print(f\"Variance: {variance}\")\n",
    "else:\n",
    "    print(\"Variance is undefined for dfd <= 2\")\n"
   ]
  },
  {
   "cell_type": "markdown",
   "id": "73c4a235-197a-4470-8c71-4e7ae4b82e91",
   "metadata": {},
   "source": [
    "# Answer 7:\n",
    "A random sample of 10 measurements is taken from a normal population with unknown variance. The sample variance is found to be 25. Another random sample of 15 measurements is taken from another normal population with unknown variance, and the sample variance is found to be 20. Conduct an F-test at the 10% significance level to determine if the variances are significantly different."
   ]
  },
  {
   "cell_type": "markdown",
   "id": "eea490c4-bb78-4c28-bf0e-35d50e822449",
   "metadata": {},
   "source": [
    "To determine if the variances of the two populations are significantly different, you can conduct an F-test at the 10% significance level. Here are the steps:\n",
    "\n",
    "1. Define the null hypothesis (H0) and alternative hypothesis (H1):\n",
    "   - Null Hypothesis (H0): The variances of the two populations are equal.\n",
    "   - Alternative Hypothesis (H1): The variances of the two populations are significantly different.\n",
    "\n",
    "2. Determine the significance level (alpha). In this case, alpha is 0.10 (10%).\n",
    "\n",
    "3. Calculate the F-statistic using the formula:\n",
    "\n",
    "   F = (sample variance of population 1) / (sample variance of population 2)\n",
    "\n",
    "4. Determine the degrees of freedom for both populations:\n",
    "   - Degrees of Freedom for Population 1 (dfn1) = sample size of population 1 - 1\n",
    "   - Degrees of Freedom for Population 2 (dfn2) = sample size of population 2 - 1\n",
    "\n",
    "5. Use the F-distribution table or a statistical calculator to find the critical F-value at alpha/2 with dfn1 and dfn2.\n",
    "\n",
    "6. Compare the calculated F-statistic to the critical F-value:\n",
    "   - If F-statistic is outside the critical F-value range, reject the null hypothesis (H0).\n",
    "   - If F-statistic is within the critical F-value range, fail to reject the null hypothesis (H0).\n"
   ]
  },
  {
   "cell_type": "code",
   "execution_count": 7,
   "id": "7efff9b6-316d-4a2d-8c96-464e803ee2a8",
   "metadata": {},
   "outputs": [
    {
     "name": "stdout",
     "output_type": "stream",
     "text": [
      "F-statistic: 1.25\n",
      "Critical F-values: 0.3305268601412525 and 2.6457907352338195\n",
      "Fail to reject the null hypothesis. The variances are not significantly different.\n"
     ]
    }
   ],
   "source": [
    "import scipy.stats as stats\n",
    "\n",
    "# Sample variances and sample sizes\n",
    "sample_variance1 = 25\n",
    "sample_size1 = 10\n",
    "sample_variance2 = 20\n",
    "sample_size2 = 15\n",
    "\n",
    "# Calculate the F-statistic\n",
    "F_statistic = sample_variance1 / sample_variance2\n",
    "\n",
    "# Degrees of freedom\n",
    "dfn1 = sample_size1 - 1\n",
    "dfn2 = sample_size2 - 1\n",
    "\n",
    "# Significance level\n",
    "alpha = 0.10\n",
    "\n",
    "# Calculate the critical F-value\n",
    "critical_F_lower = stats.f.ppf(alpha / 2, dfn1, dfn2)\n",
    "critical_F_upper = stats.f.ppf(1 - alpha / 2, dfn1, dfn2)\n",
    "\n",
    "# Perform the F-test\n",
    "if F_statistic < critical_F_lower or F_statistic > critical_F_upper:\n",
    "    result = \"Reject the null hypothesis. The variances are significantly different.\"\n",
    "else:\n",
    "    result = \"Fail to reject the null hypothesis. The variances are not significantly different.\"\n",
    "\n",
    "print(f\"F-statistic: {F_statistic}\")\n",
    "print(f\"Critical F-values: {critical_F_lower} and {critical_F_upper}\")\n",
    "print(result)\n"
   ]
  },
  {
   "cell_type": "markdown",
   "id": "dba33ac8-c44d-4b40-adb3-f7c944c082d3",
   "metadata": {},
   "source": [
    "# Answer 8: \n",
    "The following data represent the waiting times in minutes at two different restaurants on a Saturday night: Restaurant A: 24, 25, 28, 23, 22, 20, 27; Restaurant B: 31, 33, 35, 30, 32, 36. Conduct an F-test at the 5% significance level to determine if the variances are significantly different."
   ]
  },
  {
   "cell_type": "markdown",
   "id": "07aac977-2fed-425e-abc4-20db01b839d3",
   "metadata": {},
   "source": [
    "To determine if the variances of the waiting times at two different restaurants (Restaurant A and Restaurant B) are significantly different, you can conduct an F-test at the 5% significance level. Here are the steps:\n",
    "\n",
    "1. Define the null hypothesis (H0) and alternative hypothesis (H1):\n",
    "   - Null Hypothesis (H0): The variances of waiting times at both restaurants are equal.\n",
    "   - Alternative Hypothesis (H1): The variances of waiting times at both restaurants are significantly different.\n",
    "\n",
    "2. Determine the significance level (alpha). In this case, alpha is 0.05 (5%).\n",
    "\n",
    "3. Calculate the F-statistic using the formula:\n",
    "\n",
    "   F = (sample variance of Restaurant A) / (sample variance of Restaurant B)\n",
    "\n",
    "4. Determine the degrees of freedom for both samples:\n",
    "   - Degrees of Freedom for Restaurant A (dfn_A) = Number of observations in Restaurant A - 1\n",
    "   - Degrees of Freedom for Restaurant B (dfn_B) = Number of observations in Restaurant B - 1\n",
    "\n",
    "5. Use the F-distribution table or a statistical calculator to find the critical F-value at alpha/2 with dfn_A and dfn_B.\n",
    "\n",
    "6. Compare the calculated F-statistic to the critical F-value:\n",
    "   - If F-statistic is outside the critical F-value range, reject the null hypothesis (H0).\n",
    "   - If F-statistic is within the critical F-value range, fail to reject the null hypothesis (H0).\n"
   ]
  },
  {
   "cell_type": "code",
   "execution_count": 9,
   "id": "f4187fde-2d4c-4263-a1e5-103ff756ff98",
   "metadata": {},
   "outputs": [
    {
     "name": "stdout",
     "output_type": "stream",
     "text": [
      "F-statistic: 1.4551907719609583\n",
      "Critical F-values: 0.16701279718024772 and 6.977701858535566\n",
      "Fail to reject the null hypothesis. The variances are not significantly different.\n"
     ]
    }
   ],
   "source": [
    "import scipy.stats as stats\n",
    "import numpy as np\n",
    "\n",
    "# Waiting times data\n",
    "restaurant_A = np.array([24, 25, 28, 23, 22, 20, 27])\n",
    "restaurant_B = np.array([31, 33, 35, 30, 32, 36])\n",
    "\n",
    "# Calculate the sample variances\n",
    "variance_A = np.var(restaurant_A, ddof=1)  # ddof=1 for sample variance\n",
    "variance_B = np.var(restaurant_B, ddof=1)\n",
    "\n",
    "# Calculate the F-statistic\n",
    "F_statistic = variance_A / variance_B\n",
    "\n",
    "# Degrees of freedom\n",
    "dfn_A = len(restaurant_A) - 1\n",
    "dfn_B = len(restaurant_B) - 1\n",
    "\n",
    "# Significance level\n",
    "alpha = 0.05\n",
    "\n",
    "# Calculate the critical F-value\n",
    "critical_F_lower = stats.f.ppf(alpha / 2, dfn_A, dfn_B)\n",
    "critical_F_upper = stats.f.ppf(1 - alpha / 2, dfn_A, dfn_B)\n",
    "\n",
    "# Perform the F-test\n",
    "if F_statistic < critical_F_lower or F_statistic > critical_F_upper:\n",
    "    result = \"Reject the null hypothesis. The variances are significantly different.\"\n",
    "else:\n",
    "    result = \"Fail to reject the null hypothesis. The variances are not significantly different.\"\n",
    "\n",
    "print(f\"F-statistic: {F_statistic}\")\n",
    "print(f\"Critical F-values: {critical_F_lower} and {critical_F_upper}\")\n",
    "print(result)"
   ]
  },
  {
   "cell_type": "markdown",
   "id": "0e1938fb-51db-4f5a-9891-0f32093a1dc3",
   "metadata": {},
   "source": [
    "# Answer 9:\n",
    "The following data represent the test scores of two groups of students: Group A: 80, 85, 90, 92, 87, 83; Group B: 75, 78, 82, 79, 81, 84. Conduct an F-test at the 1% significance level to determine if the variances are significantly different."
   ]
  },
  {
   "cell_type": "markdown",
   "id": "2c24e806-59ac-443b-980f-43ce0d0a9ba9",
   "metadata": {},
   "source": [
    "To determine if the variances of the test scores of two groups of students (Group A and Group B) are significantly different, you can conduct an F-test at the 1% significance level. Here are the steps:\n",
    "\n",
    "1. Define the null hypothesis (H0) and alternative hypothesis (H1):\n",
    "   - Null Hypothesis (H0): The variances of test scores in both groups are equal.\n",
    "   - Alternative Hypothesis (H1): The variances of test scores in both groups are significantly different.\n",
    "\n",
    "2. Determine the significance level (alpha). In this case, alpha is 0.01 (1%).\n",
    "\n",
    "3. Calculate the F-statistic using the formula:\n",
    "\n",
    "   F = (sample variance of Group A) / (sample variance of Group B)\n",
    "\n",
    "4. Determine the degrees of freedom for both samples:\n",
    "   - Degrees of Freedom for Group A (dfn_A) = Number of observations in Group A - 1\n",
    "   - Degrees of Freedom for Group B (dfn_B) = Number of observations in Group B - 1\n",
    "\n",
    "5. Use the F-distribution table or a statistical calculator to find the critical F-value at alpha/2 with dfn_A and dfn_B.\n",
    "\n",
    "6. Compare the calculated F-statistic to the critical F-value:\n",
    "   - If F-statistic is outside the critical F-value range, reject the null hypothesis (H0).\n",
    "   - If F-statistic is within the critical F-value range, fail to reject the null hypothesis (H0).\n"
   ]
  },
  {
   "cell_type": "code",
   "execution_count": 11,
   "id": "7b875c8f-52db-4746-8e7e-17c8f52c531f",
   "metadata": {},
   "outputs": [
    {
     "name": "stdout",
     "output_type": "stream",
     "text": [
      "F-statistic: 1.9442622950819677\n",
      "Critical F-values: 0.066936171954696 and 14.939605459912224\n",
      "Fail to reject the null hypothesis. The variances are not significantly different.\n"
     ]
    }
   ],
   "source": [
    "import scipy.stats as stats\n",
    "import numpy as np\n",
    "\n",
    "# Test scores data\n",
    "group_A = np.array([80, 85, 90, 92, 87, 83])\n",
    "group_B = np.array([75, 78, 82, 79, 81, 84])\n",
    "\n",
    "# Calculate the sample variances\n",
    "variance_A = np.var(group_A, ddof=1)  # ddof=1 for sample variance\n",
    "variance_B = np.var(group_B, ddof=1)\n",
    "\n",
    "# Calculate the F-statistic\n",
    "F_statistic = variance_A / variance_B\n",
    "\n",
    "# Degrees of freedom\n",
    "dfn_A = len(group_A) - 1\n",
    "dfn_B = len(group_B) - 1\n",
    "\n",
    "# Significance level\n",
    "alpha = 0.01\n",
    "\n",
    "# Calculate the critical F-value\n",
    "critical_F_lower = stats.f.ppf(alpha / 2, dfn_A, dfn_B)\n",
    "critical_F_upper = stats.f.ppf(1 - alpha / 2, dfn_A, dfn_B)\n",
    "\n",
    "# Perform the F-test\n",
    "if F_statistic < critical_F_lower or F_statistic > critical_F_upper:\n",
    "    result = \"Reject the null hypothesis. The variances are significantly different.\"\n",
    "else:\n",
    "    result = \"Fail to reject the null hypothesis. The variances are not significantly different.\"\n",
    "\n",
    "print(f\"F-statistic: {F_statistic}\")\n",
    "print(f\"Critical F-values: {critical_F_lower} and {critical_F_upper}\")\n",
    "print(result)"
   ]
  },
  {
   "cell_type": "code",
   "execution_count": null,
   "id": "f89de6b9-0299-482f-9174-9de6f45b98c7",
   "metadata": {},
   "outputs": [],
   "source": []
  }
 ],
 "metadata": {
  "kernelspec": {
   "display_name": "Python 3 (ipykernel)",
   "language": "python",
   "name": "python3"
  },
  "language_info": {
   "codemirror_mode": {
    "name": "ipython",
    "version": 3
   },
   "file_extension": ".py",
   "mimetype": "text/x-python",
   "name": "python",
   "nbconvert_exporter": "python",
   "pygments_lexer": "ipython3",
   "version": "3.10.8"
  }
 },
 "nbformat": 4,
 "nbformat_minor": 5
}
